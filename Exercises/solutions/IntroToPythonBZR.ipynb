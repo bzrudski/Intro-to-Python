{
 "cells": [
  {
   "cell_type": "markdown",
   "metadata": {
    "editable": true,
    "slideshow": {
     "slide_type": ""
    },
    "tags": []
   },
   "source": [
    "# Introduction to Python\n",
    "MiCM Workshop - February 11, 2025\n",
    "\n",
    "Benjamin Z. Rudski, PhD Candidate, Quantitative Life Sciences, McGill University\n",
    "\n",
    "Dear `Reader | Workshop Attendee`,  \n",
    "Welcome! In this interactive Jupyter Notebook, I will introduce you to the [Python](https://www.python.org) programming language. In this workshop, we'll journey from the beginnings of storing data in variables and doing simple calculations to writing powerful functions to perform repeatable operations.\n",
    "\n",
    "This notebook is the **solution version**, which contains the answers. There is also [**student version**](../scripts/IntroToPythonBZR.ipynb) in the `scripts` folder. The **student version** contains several blanks where I will write code during the live workshop and where you can fill out exercises. I recommend trying the exercises yourself before looking at the solutions, There is often more than one way to answer a programming question, so you should focus more on understanding the code that you are writing, instead of just copying my answers. You may come up with an answer better than the one I've provided!\n",
    "\n",
    "Here's the outline of this workshop:\n",
    "\n",
    "1. Module 1 – Python Basics (1 hour 15 minutes)\n",
    "    1. Foundations of Python - A Brief Overview of Types and Variables\n",
    "        1. Primitive Data Types (int, float, bool, string)\n",
    "        2. Variables\n",
    "        3. Collection Data Types (tuples, lists, dictionaries)\n",
    "        4. Introduction to Functions (Function as a Machine)\n",
    "    2. Numbers and Comparisons\n",
    "        1. Mathematical Operations\n",
    "        2. Booleans\n",
    "    3. Intro to Control Flow and Loops (if, while and for)\n",
    "        1. Control Flow: the if Statement\n",
    "        2. while Loops\n",
    "        3. Iteration with for Loops\n",
    "    4. Exercise: Numbers and Loops for Unit Conversion\n",
    "2. Module 2 – Strings and Collections: An Object Primer (1 hour)\n",
    "    1. Introducing Objects\n",
    "        1. What is an Object?\n",
    "    2. Introducing the String!\n",
    "        1. String Slicing\n",
    "        2. String Methods (concatenation and string formatting, converting strings to numbers, find and replace)\n",
    "    3. Introduction to Tuples, Lists and Dictionaries\n",
    "        1. Tuples and Tuple Unpacking\n",
    "        2. Lists and List Methods (adding, removing, slicing)\n",
    "        3. Dictionaries (Key-Value storage, accessing, adding, removing)\n",
    "    3. Exercise: Working with Strings and Collections for DNA and Protein Processing\n",
    "3. Module 3 – Introduction to Functions (45 minutes)\n",
    "    1. Function Overview\n",
    "        1. What is a function?\n",
    "    2. Writing Custom Functions\n",
    "        1. Basic function definitions\n",
    "        2. Passing inputs: Defining parameters\n",
    "        3. Producing outputs: Return values\n",
    "    3. Documenting Functions\n",
    "        1. Defining function docstrings\n",
    "        2. How to get help from your IDE: Type annotations (optional)\n",
    "    4. Exercise: Writing functions for biological sequences.\n",
    "4. Module 4 – Where to go from here (10 minutes)\n",
    "    1. What to learn next? How?\n",
    "    2. How to get help and how not to get help\n",
    "        1. Your code editor\n",
    "        2. Documentation\n",
    "        3. Books\n",
    "        4. Tutorials\n",
    "        5. Stack Overflow (and pitfalls)\n",
    "        6. ChatGPT (and pitfalls)\n",
    "    3. Glimpse of other cool programming topics\n",
    "\n",
    "\n",
    "When this workshop is over, you should be able to write simple Python scripts. More importantly, I am hoping to give you *the tools* so that you can learn new Python skills and read documentation to find what you need. **In my opinion, the most important part of programming is knowing how to get help when you need it.**"
   ]
  },
  {
   "cell_type": "markdown",
   "metadata": {
    "editable": true,
    "slideshow": {
     "slide_type": ""
    },
    "tags": []
   },
   "source": [
    "# Module 1 - Python Basics\n",
    "\n",
    "In this section, we'll see the basic, foundational concepts of programming in Python. We'll start with the basics of mathematical operations and we'll see variables for storing data. Then, we'll also start seeing how to get things done in Python. Along the way, I'll also point out possible places where users of different programming languages need to pay special attention.\n",
    "\n",
    "**Topics:**\n",
    "\n",
    "1.\tFoundations of Python - A Brief Overview of Types and Variables\n",
    "    1.\tPrimitive Data Types (int, float, bool, string)\n",
    "    2.\tVariables\n",
    "    3.\tCollection Data Types (tuples, lists, dictionaries)\n",
    "    4.\tIntroduction to Functions (Function as a Machine)\n",
    "2.\tNumbers and Comparisons\n",
    "    1.\tMathematical Operations\n",
    "    2.\tBooleans\n",
    "3.\tIntro to Control Flow and Loops (if, while and for)\n",
    "    1.\tControl Flow: the if Statement\n",
    "    2.\twhile Loops\n",
    "    3.\tIteration with for Loops\n",
    "4.\t*Exercise*"
   ]
  },
  {
   "cell_type": "markdown",
   "metadata": {
    "editable": true,
    "slideshow": {
     "slide_type": ""
    },
    "tags": []
   },
   "source": [
    "## Foundations of Python\n",
    "\n",
    "This section explores the most basic ways that we store small amounts of data. We'll see what types of data we can store and how we can combine pieces of data.\n",
    "\n",
    "But first! It's conventional that the first program we write in a new language is the \"Hello, World!\" program. This is a simple program that writes the text \"Hello, World!\" to the screen. In Python, it's quite easy to do:"
   ]
  },
  {
   "cell_type": "code",
   "execution_count": 1,
   "metadata": {
    "editable": true,
    "execution": {
     "iopub.execute_input": "2025-02-11T02:11:15.049582Z",
     "iopub.status.busy": "2025-02-11T02:11:15.049274Z",
     "iopub.status.idle": "2025-02-11T02:11:15.056240Z",
     "shell.execute_reply": "2025-02-11T02:11:15.054889Z",
     "shell.execute_reply.started": "2025-02-11T02:11:15.049551Z"
    },
    "slideshow": {
     "slide_type": ""
    },
    "tags": []
   },
   "outputs": [
    {
     "name": "stdout",
     "output_type": "stream",
     "text": [
      "Hello, World!\n"
     ]
    }
   ],
   "source": [
    "# Your exciting first line of Python code here!\n",
    "# In this line of code, we'll display, or print, the text string \"Hello, World!\"\n",
    "\n",
    "print(\"Hello, World!\")"
   ]
  },
  {
   "cell_type": "markdown",
   "metadata": {},
   "source": [
    "This very simple program introduces a few important ideas. You'll notice that the first line doesn't really look like code. Actually, it's not! The first line is a **comment**. We (and the computer) know this because the line starts with the symbol `#`. Python ignores that symbol and everything that comes after it, letting you write notes about what your code is doing. It's very important to put comments in your code, especially if you're going to need to come back to it after a few weeks or if you're going to share it with other people.\n",
    "\n",
    "On the second line, we have two things:\n",
    "* the `print` *function*\n",
    "* the *string* \"Hello, World!\"\n",
    "\n",
    "The `print` function displays output to the screen or to the console. While it's not necessary in this Jupyter notebook (which automatically outputs the result of the last line of code), it's very helpful if you're ever writing code in a different program, like *PyCharm* or *Spyder*. We'll discuss functions in more detail later, but the idea is that functions take inputs, known as **arguments**, do operations on them and optionally return some sort of modified result. Here, the `print` function takes in the **string** of text \"Hello, World!\", writes it onto the screen and doesn't return any new data.\n",
    "\n",
    "The **argument** that we pass to this function is the text **string** `\"Hello, World!\"`. We'll discuss strings in more detail later. The important thing is that a string is a group of characters surrounded by quotation marks (either single quotes `'Hello'` or double quotes `\"Hello\"`).\n",
    "\n",
    "Don't worry if this doesn't make sense! We'll explain each part of it as we go along. By the end of this workshop, you'll understand what this line does!\n",
    "\n",
    "Now that we've passed this important milestone, let's dive into basic Python!"
   ]
  },
  {
   "cell_type": "markdown",
   "metadata": {},
   "source": [
    "### Primitive Data Types\n",
    "\n",
    "Working with the computer is all about processing information. Yay! That's great! Except... what does this information look like? In Python, information can be stored in many different **types**. These types represent numbers, text, and more! Let's start by discussing the **building blocks of everything**, known as the **primitive types**.\n",
    "\n",
    "In Python, there are four different **primitive types** (see [here](https://realpython.com/python-data-types/)):\n",
    "\n",
    "1. Integers - `int`\n",
    "2. Decimal numbers - `float`\n",
    "3. True or false Boolean values - `bool`\n",
    "4. Text strings - `str`\n",
    "\n",
    "Let's take a look at each of these in a bit more detail. We can get the type of a value using the `type` function.\n",
    "\n",
    "#### Integers\n",
    "\n",
    "No big surprise, integers are whole numbers without a decimal. We write them... well, as a whole number without a decimal. For example, to represent the number 4 in Python, we'd write:\n"
   ]
  },
  {
   "cell_type": "code",
   "execution_count": 2,
   "metadata": {
    "execution": {
     "iopub.execute_input": "2025-02-11T02:11:15.057930Z",
     "iopub.status.busy": "2025-02-11T02:11:15.057420Z",
     "iopub.status.idle": "2025-02-11T02:11:15.064429Z",
     "shell.execute_reply": "2025-02-11T02:11:15.063936Z",
     "shell.execute_reply.started": "2025-02-11T02:11:15.057904Z"
    }
   },
   "outputs": [
    {
     "data": {
      "text/plain": [
       "4"
      ]
     },
     "execution_count": 2,
     "metadata": {},
     "output_type": "execute_result"
    }
   ],
   "source": [
    "# Your code here to represent the number 4\n",
    "4"
   ]
  },
  {
   "cell_type": "markdown",
   "metadata": {},
   "source": [
    "There's an extra trick if you're working with really big numbers. To avoid confusion, you can add underscores to make the number easier to read:"
   ]
  },
  {
   "cell_type": "code",
   "execution_count": 3,
   "metadata": {
    "execution": {
     "iopub.execute_input": "2025-02-11T02:11:15.068658Z",
     "iopub.status.busy": "2025-02-11T02:11:15.068181Z",
     "iopub.status.idle": "2025-02-11T02:11:15.076920Z",
     "shell.execute_reply": "2025-02-11T02:11:15.076246Z",
     "shell.execute_reply.started": "2025-02-11T02:11:15.068606Z"
    }
   },
   "outputs": [
    {
     "data": {
      "text/plain": [
       "5192435235"
      ]
     },
     "execution_count": 3,
     "metadata": {},
     "output_type": "execute_result"
    }
   ],
   "source": [
    "# Your code here for a really big number\n",
    "5_192_435_235"
   ]
  },
  {
   "cell_type": "markdown",
   "metadata": {},
   "source": [
    "We'll see what we can do with these numbers soon."
   ]
  },
  {
   "cell_type": "markdown",
   "metadata": {},
   "source": [
    "#### Decimal Numbers\n",
    "\n",
    "In programming, a decimal number is known as a **floating-point number** or a **`float`**. These numbers are, unsurprisingly, written as numbers with decimals:"
   ]
  },
  {
   "cell_type": "code",
   "execution_count": 4,
   "metadata": {
    "execution": {
     "iopub.execute_input": "2025-02-11T02:11:15.077983Z",
     "iopub.status.busy": "2025-02-11T02:11:15.077705Z",
     "iopub.status.idle": "2025-02-11T02:11:15.081918Z",
     "shell.execute_reply": "2025-02-11T02:11:15.081327Z",
     "shell.execute_reply.started": "2025-02-11T02:11:15.077963Z"
    }
   },
   "outputs": [
    {
     "data": {
      "text/plain": [
       "4.0"
      ]
     },
     "execution_count": 4,
     "metadata": {},
     "output_type": "execute_result"
    }
   ],
   "source": [
    "# Your code here to write 4 as a float\n",
    "4.0"
   ]
  },
  {
   "cell_type": "markdown",
   "metadata": {},
   "source": [
    "Another way of writing floating-point numbers is to use **scientific notation**. Let's see an example:"
   ]
  },
  {
   "cell_type": "code",
   "execution_count": 5,
   "metadata": {
    "execution": {
     "iopub.execute_input": "2025-02-11T02:11:15.083219Z",
     "iopub.status.busy": "2025-02-11T02:11:15.082862Z",
     "iopub.status.idle": "2025-02-11T02:11:15.088875Z",
     "shell.execute_reply": "2025-02-11T02:11:15.087685Z",
     "shell.execute_reply.started": "2025-02-11T02:11:15.083180Z"
    }
   },
   "outputs": [
    {
     "data": {
      "text/plain": [
       "5000.0"
      ]
     },
     "execution_count": 5,
     "metadata": {},
     "output_type": "execute_result"
    }
   ],
   "source": [
    "# Your code here to write 5 * 10^3 in scientific notation\n",
    "5e3"
   ]
  },
  {
   "cell_type": "markdown",
   "metadata": {},
   "source": [
    "Note that even if we don't have a decimal here, our value is a floating point number. We can check this using the `type` function:"
   ]
  },
  {
   "cell_type": "code",
   "execution_count": 6,
   "metadata": {
    "execution": {
     "iopub.execute_input": "2025-02-11T02:11:15.090208Z",
     "iopub.status.busy": "2025-02-11T02:11:15.089958Z",
     "iopub.status.idle": "2025-02-11T02:11:15.094421Z",
     "shell.execute_reply": "2025-02-11T02:11:15.094022Z",
     "shell.execute_reply.started": "2025-02-11T02:11:15.090188Z"
    }
   },
   "outputs": [
    {
     "data": {
      "text/plain": [
       "float"
      ]
     },
     "execution_count": 6,
     "metadata": {},
     "output_type": "execute_result"
    }
   ],
   "source": [
    "# Your code here to check the type of what we wrote before.\n",
    "type(5e3)"
   ]
  },
  {
   "cell_type": "markdown",
   "metadata": {},
   "source": [
    "We'll see more operations on these values very soon.\n",
    "\n",
    "**Note:** For anyone who has used C, Java or Swift (or many other languages), Python does ***not*** have a separate `double` type. Python also doesn't have type modifiers like `long` or `unsigned`. If you wind up working with NumPy, then you may have to think about different types of integers and floating point numbers (but, we won't talk about that today)."
   ]
  },
  {
   "cell_type": "markdown",
   "metadata": {},
   "source": [
    "#### Boolean Values\n",
    "\n",
    "A **Boolean** represents one of two states: True or False. In Python, these values are represented using the names `True` and `False`."
   ]
  },
  {
   "cell_type": "code",
   "execution_count": 7,
   "metadata": {
    "execution": {
     "iopub.execute_input": "2025-02-11T02:11:15.095229Z",
     "iopub.status.busy": "2025-02-11T02:11:15.094906Z",
     "iopub.status.idle": "2025-02-11T02:11:15.098760Z",
     "shell.execute_reply": "2025-02-11T02:11:15.098339Z",
     "shell.execute_reply.started": "2025-02-11T02:11:15.095210Z"
    }
   },
   "outputs": [
    {
     "data": {
      "text/plain": [
       "True"
      ]
     },
     "execution_count": 7,
     "metadata": {},
     "output_type": "execute_result"
    }
   ],
   "source": [
    "# Your code here to show a Boolean value\n",
    "True"
   ]
  },
  {
   "cell_type": "markdown",
   "metadata": {},
   "source": [
    "**Note:** You **must** write `True` and `False`. Python does **not** recognise `true`, `false`, `T` or `F`. You **must** write the full word, with the first letter capitalised. Otherwise, Python will get mad at you."
   ]
  },
  {
   "cell_type": "markdown",
   "metadata": {},
   "source": [
    "#### Strings\n",
    "\n",
    "In programming, we refer to text as a **string**. When writing a string, we **must** put it inside quotation marks. In Python, these can be single quotation marks (''), or double quotation marks (\"\"). The important thing is to use the same quotation mark to open and close your string. Let's see some examples:"
   ]
  },
  {
   "cell_type": "code",
   "execution_count": 8,
   "metadata": {
    "execution": {
     "iopub.execute_input": "2025-02-11T02:11:15.099759Z",
     "iopub.status.busy": "2025-02-11T02:11:15.099655Z",
     "iopub.status.idle": "2025-02-11T02:11:15.105165Z",
     "shell.execute_reply": "2025-02-11T02:11:15.103827Z",
     "shell.execute_reply.started": "2025-02-11T02:11:15.099746Z"
    }
   },
   "outputs": [
    {
     "data": {
      "text/plain": [
       "'Hello, Python!'"
      ]
     },
     "execution_count": 8,
     "metadata": {},
     "output_type": "execute_result"
    }
   ],
   "source": [
    "# Your code here for working with strings.\n",
    "\"Hello, Python!\""
   ]
  },
  {
   "cell_type": "markdown",
   "metadata": {},
   "source": [
    "We'll see that there's a lot more that we can do with these strings. Let's say you want to have a long string that spans multiple lines and you want to keep the line breaks. Well, you can use a *triple-quoted* string to do just this."
   ]
  },
  {
   "cell_type": "code",
   "execution_count": 9,
   "metadata": {
    "execution": {
     "iopub.execute_input": "2025-02-11T02:11:15.105853Z",
     "iopub.status.busy": "2025-02-11T02:11:15.105725Z",
     "iopub.status.idle": "2025-02-11T02:11:15.109095Z",
     "shell.execute_reply": "2025-02-11T02:11:15.108687Z",
     "shell.execute_reply.started": "2025-02-11T02:11:15.105840Z"
    }
   },
   "outputs": [
    {
     "data": {
      "text/plain": [
       "'\\nThis is my long\\ntriple-quoted\\nstring over\\nmany, many,\\nmany, many,\\nmany, many,\\nlines!\\n'"
      ]
     },
     "execution_count": 9,
     "metadata": {},
     "output_type": "execute_result"
    }
   ],
   "source": [
    "# Your code here for example of triple-quoted string.\n",
    "\"\"\"\n",
    "This is my long\n",
    "triple-quoted\n",
    "string over\n",
    "many, many,\n",
    "many, many,\n",
    "many, many,\n",
    "lines!\n",
    "\"\"\""
   ]
  },
  {
   "cell_type": "markdown",
   "metadata": {},
   "source": [
    "We have a whole section on strings coming up! So, stay tuned!\n",
    "\n",
    "**Note:** It is ***super important*** to remember to put quotation marks around your string. Otherwise, Python will get mad at you."
   ]
  },
  {
   "cell_type": "markdown",
   "metadata": {},
   "source": [
    "### Variables\n",
    "\n",
    "So, we've seen basic data types, but they're not really useful if we can't store the values. To store data, we use **variables**. A **variable** gives a *name* to a piece of data stored in memory so that you can easily access it later. The information stored in a variable can change (or **vary**).\n",
    "\n",
    "**Note:** Python has no constants. Only variables. If you come from a language that has constants, I'm sorry.\n",
    "\n",
    "#### Variable Names\n",
    "There are rules for naming a variable:\n",
    "* Variable names are **case-sensitive**.\n",
    "* A variable name must contain only letters, numbers and underscores.\n",
    "* A variable name cannot start with a number.\n",
    "* A variable name cannot be the same as a reserved word in Python (see [here](https://docs.python.org/3/reference/lexical_analysis.html#keywords) for list).\n",
    "\n",
    "A variable name may consist of multiple words combined. There are a few different conventions for putting words together. Two common ones are known as `snake_case` and `camelCase`:\n",
    "* In `snake_case`, all letters are lowercase and words are separated by underscores.\n",
    "* In `camelCase`, different words are combined with no spaces, and the first letter of a new word is put as a capital.\n",
    "\n",
    "Different people use different conventions. Your code editor may suggest one over the other (for example, PyCharm prefers `snake_case`). The choice depends on your project setup and any existing code you may be adding to.\n",
    "\n",
    "**Notes:** \n",
    "\n",
    "* Although you can combine words together, try to keep variable names reasonably concise.\n",
    "* Although Python has no constants, `ALL_CAPS_NAMES` are sometimes used to denote variables that shouldn't change.\n",
    "* Variable names *can* start with underscores, but this often has a special meaning.\n",
    "* By **strongly encouraged** convention, we start variable names with a **lowercase** letter (or an underscore followed by a lowercase letter).\n",
    "\n",
    "Let's see some examples of valid and invalid variable names:\n",
    "\n",
    "| Invalid | Valid |\n",
    "| ------- | ----- |\n",
    "| `my_variable12.3` | `my_variable12_3` |\n",
    "| `-myVariableName2`| `myVariableName2` |\n",
    "| `@myVariable`| `myVariable` |\n",
    "| `my-variable&` | `my_variable` | \n",
    "| `my+variable` | `my_variable` | \n",
    "| `23variable` | `my_variaBle_32` |\n",
    "| `myV#ariable` | `myVariable` |\n",
    "| `import` | `my_import` |"
   ]
  },
  {
   "cell_type": "markdown",
   "metadata": {},
   "source": [
    "#### Variable Assignment\n",
    "\n",
    "The way that we assign a variable is easy. We just use the `=` sign. That's it. We can also change the value of a variable by just assigning a new value using the equal sign (and so, the value **varies**).\n",
    "\n",
    "Now, let's do a few examples of variable assignment. Here, we'll make use of the `print` function to track the value of the variables.\n",
    "\n",
    "1. **Assignment**  \n",
    " Let's create a variable called `my_variable` with the value `42`."
   ]
  },
  {
   "cell_type": "code",
   "execution_count": 10,
   "metadata": {
    "execution": {
     "iopub.execute_input": "2025-02-11T02:11:15.109556Z",
     "iopub.status.busy": "2025-02-11T02:11:15.109454Z",
     "iopub.status.idle": "2025-02-11T02:11:15.112012Z",
     "shell.execute_reply": "2025-02-11T02:11:15.111763Z",
     "shell.execute_reply.started": "2025-02-11T02:11:15.109544Z"
    }
   },
   "outputs": [
    {
     "data": {
      "text/plain": [
       "42"
      ]
     },
     "execution_count": 10,
     "metadata": {},
     "output_type": "execute_result"
    }
   ],
   "source": [
    "# Your code here for variable assignment\n",
    "my_variable = 42\n",
    "\n",
    "my_variable"
   ]
  },
  {
   "cell_type": "markdown",
   "metadata": {},
   "source": [
    "2. **Reassignment**  \n",
    " We can easily reassign a value using the equal sign again. Let's re-assign our variable `my_variable` to have the value `16`."
   ]
  },
  {
   "cell_type": "code",
   "execution_count": 11,
   "metadata": {
    "execution": {
     "iopub.execute_input": "2025-02-11T02:11:15.112459Z",
     "iopub.status.busy": "2025-02-11T02:11:15.112370Z",
     "iopub.status.idle": "2025-02-11T02:11:15.114644Z",
     "shell.execute_reply": "2025-02-11T02:11:15.114370Z",
     "shell.execute_reply.started": "2025-02-11T02:11:15.112449Z"
    }
   },
   "outputs": [
    {
     "data": {
      "text/plain": [
       "16"
      ]
     },
     "execution_count": 11,
     "metadata": {},
     "output_type": "execute_result"
    }
   ],
   "source": [
    "# Your code here for variable reassignment\n",
    "my_variable = 16\n",
    "\n",
    "my_variable"
   ]
  },
  {
   "cell_type": "markdown",
   "metadata": {},
   "source": [
    "3. **Changing type**  \n",
    " There's no requirement for the new value to be of the same type as the original. Let's assign the string `\"Hello\"` to our variable `my_variable`:"
   ]
  },
  {
   "cell_type": "code",
   "execution_count": 12,
   "metadata": {
    "execution": {
     "iopub.execute_input": "2025-02-11T02:11:15.117825Z",
     "iopub.status.busy": "2025-02-11T02:11:15.117666Z",
     "iopub.status.idle": "2025-02-11T02:11:15.120528Z",
     "shell.execute_reply": "2025-02-11T02:11:15.120256Z",
     "shell.execute_reply.started": "2025-02-11T02:11:15.117814Z"
    }
   },
   "outputs": [
    {
     "data": {
      "text/plain": [
       "'Hello'"
      ]
     },
     "execution_count": 12,
     "metadata": {},
     "output_type": "execute_result"
    }
   ],
   "source": [
    "# Your code here to assign a string\n",
    "my_variable = \"Hello\"\n",
    "\n",
    "my_variable"
   ]
  },
  {
   "cell_type": "markdown",
   "metadata": {},
   "source": [
    "### Collection Types\n",
    "\n",
    "So, we've seen how to store individual numbers and bits of text. Well, let's say we want to store a lot of values. If we have a small number, we can just create a bunch of variables:"
   ]
  },
  {
   "cell_type": "code",
   "execution_count": 13,
   "metadata": {
    "execution": {
     "iopub.execute_input": "2025-02-11T02:11:15.121094Z",
     "iopub.status.busy": "2025-02-11T02:11:15.120915Z",
     "iopub.status.idle": "2025-02-11T02:11:15.124559Z",
     "shell.execute_reply": "2025-02-11T02:11:15.124177Z",
     "shell.execute_reply.started": "2025-02-11T02:11:15.121083Z"
    }
   },
   "outputs": [],
   "source": [
    "# Your code here to create three variables with numbers\n",
    "number1 = 3\n",
    "number2 = 5\n",
    "number3 = 16"
   ]
  },
  {
   "cell_type": "markdown",
   "metadata": {},
   "source": [
    "Ok... so, this is a bit hard to manage for even small numbers of variables. Instead of working with multiple variables, we use **collection types**. A **collection** stores *multiple* values. We'll see three main types of collections:\n",
    "\n",
    "1. Tuples - store a small fixed number of values.\n",
    "2. Lists - store multiple values; can add or remove elements.\n",
    "3. Dictionaries - store multiple values based on keys; can add or remove elements.\n",
    "\n",
    "We'll go into more detail about each later, but first let's see some examples. Each collection type has specific notation:\n",
    "\n",
    "1. Tuples - Values separated by commas between parentheses `(a, b)`\n",
    "2. Lists - Values separated by commas between square brackets `[a, b]`\n",
    "3. Dictionaries - Keys-Value pair defined by colons, separated by commas between brace brackets `{a:b, c:d}`\n",
    "\n",
    "Confused? Let's see some examples.\n",
    "\n",
    "First, a tuple example:"
   ]
  },
  {
   "cell_type": "code",
   "execution_count": 14,
   "metadata": {
    "execution": {
     "iopub.execute_input": "2025-02-11T02:11:15.125127Z",
     "iopub.status.busy": "2025-02-11T02:11:15.125023Z",
     "iopub.status.idle": "2025-02-11T02:11:15.127437Z",
     "shell.execute_reply": "2025-02-11T02:11:15.127159Z",
     "shell.execute_reply.started": "2025-02-11T02:11:15.125116Z"
    }
   },
   "outputs": [
    {
     "data": {
      "text/plain": [
       "(3, 5, 16)"
      ]
     },
     "execution_count": 14,
     "metadata": {},
     "output_type": "execute_result"
    }
   ],
   "source": [
    "# Your code here to create a tuple\n",
    "my_tuple = (3, 5, 16)\n",
    "\n",
    "my_tuple"
   ]
  },
  {
   "cell_type": "markdown",
   "metadata": {},
   "source": [
    "Now, let's see a list:"
   ]
  },
  {
   "cell_type": "code",
   "execution_count": 15,
   "metadata": {
    "execution": {
     "iopub.execute_input": "2025-02-11T02:11:15.127902Z",
     "iopub.status.busy": "2025-02-11T02:11:15.127819Z",
     "iopub.status.idle": "2025-02-11T02:11:15.130672Z",
     "shell.execute_reply": "2025-02-11T02:11:15.130378Z",
     "shell.execute_reply.started": "2025-02-11T02:11:15.127893Z"
    }
   },
   "outputs": [
    {
     "data": {
      "text/plain": [
       "[3, 5, 16]"
      ]
     },
     "execution_count": 15,
     "metadata": {},
     "output_type": "execute_result"
    }
   ],
   "source": [
    "# Your code here to create a list\n",
    "my_list = [3, 5, 16]\n",
    "\n",
    "my_list"
   ]
  },
  {
   "cell_type": "markdown",
   "metadata": {},
   "source": [
    "And now a dictionary:"
   ]
  },
  {
   "cell_type": "code",
   "execution_count": 16,
   "metadata": {
    "execution": {
     "iopub.execute_input": "2025-02-11T02:11:15.131038Z",
     "iopub.status.busy": "2025-02-11T02:11:15.130955Z",
     "iopub.status.idle": "2025-02-11T02:11:15.133867Z",
     "shell.execute_reply": "2025-02-11T02:11:15.133600Z",
     "shell.execute_reply.started": "2025-02-11T02:11:15.131029Z"
    }
   },
   "outputs": [
    {
     "data": {
      "text/plain": [
       "{'Milk': 3, 'Apples': 5, 'Eggs': 16}"
      ]
     },
     "execution_count": 16,
     "metadata": {},
     "output_type": "execute_result"
    }
   ],
   "source": [
    "# Your code here to create a dictionary\n",
    "my_dictionary = {\"Milk\": 3, \"Apples\": 5, \"Eggs\": 16}\n",
    "\n",
    "my_dictionary"
   ]
  },
  {
   "cell_type": "markdown",
   "metadata": {},
   "source": [
    "We'll see all of these in **much** more detail later. For now, what's important is that you know they exist. We'll see how to use them later."
   ]
  },
  {
   "cell_type": "markdown",
   "metadata": {},
   "source": [
    "### Introduction to Functions\n",
    "\n",
    "So far, we've seen how to store data... but our code hasn't actually done anything. We'll see soon how to start writing code that makes decisions and does calculations. But first, let's talk about **functions**.\n",
    "\n",
    "We can think of a **function** as a sort of machine. It takes **inputs**, does some sort of operation on them, and produces **outputs**. People often represent functions as a little black box.\n",
    "\n",
    "![black box](../assets/function/Function.png)\n",
    "\n",
    "When we use a function, this is known as **calling** the function. When we *call a function*, we tell it what data to use to perform the operations and where to store the result (typically in a variable). The syntax to call a function and store its result in a variable `x` is as follows:\n",
    "\n",
    "```python\n",
    "    x = function_name(arguments_here)\n",
    "```\n",
    "\n",
    "We've actually already seen a function! We used the `print` function a while ago. This function takes a string that we want to display, shows it on the screen and doesn't return any output. Let's call this function:"
   ]
  },
  {
   "cell_type": "code",
   "execution_count": 17,
   "metadata": {
    "execution": {
     "iopub.execute_input": "2025-02-11T02:11:15.134306Z",
     "iopub.status.busy": "2025-02-11T02:11:15.134226Z",
     "iopub.status.idle": "2025-02-11T02:11:15.136421Z",
     "shell.execute_reply": "2025-02-11T02:11:15.135967Z",
     "shell.execute_reply.started": "2025-02-11T02:11:15.134296Z"
    }
   },
   "outputs": [
    {
     "name": "stdout",
     "output_type": "stream",
     "text": [
      "Hello!!!!\n"
     ]
    }
   ],
   "source": [
    "# Your code here to call the `print` function\n",
    "print(\"Hello!!!!\")"
   ]
  },
  {
   "cell_type": "markdown",
   "metadata": {},
   "source": [
    "Python has other **built-in functions** available. There's a list available at [this link](https://docs.python.org/3/library/functions.html). \n",
    "\n",
    "For example, we can use the `abs` function to take the absolute value of a number:"
   ]
  },
  {
   "cell_type": "code",
   "execution_count": 18,
   "metadata": {
    "execution": {
     "iopub.execute_input": "2025-02-11T02:11:15.137021Z",
     "iopub.status.busy": "2025-02-11T02:11:15.136839Z",
     "iopub.status.idle": "2025-02-11T02:11:15.140114Z",
     "shell.execute_reply": "2025-02-11T02:11:15.139852Z",
     "shell.execute_reply.started": "2025-02-11T02:11:15.137009Z"
    }
   },
   "outputs": [
    {
     "data": {
      "text/plain": [
       "5"
      ]
     },
     "execution_count": 18,
     "metadata": {},
     "output_type": "execute_result"
    }
   ],
   "source": [
    "# Your code here to call the absolute value function on some input\n",
    "my_number = -5\n",
    "\n",
    "# Call the absolute value function and store the result in a new variable\n",
    "my_abs_number = abs(my_number)\n",
    "\n",
    "# Display that new variable\n",
    "my_abs_number"
   ]
  },
  {
   "cell_type": "markdown",
   "metadata": {},
   "source": [
    "Functions can also take multiple inputs. For example, we can round numbers using the `round` function, described [here](https://docs.python.org/3/library/functions.html#round):"
   ]
  },
  {
   "cell_type": "code",
   "execution_count": 19,
   "metadata": {
    "execution": {
     "iopub.execute_input": "2025-02-11T02:11:15.140703Z",
     "iopub.status.busy": "2025-02-11T02:11:15.140549Z",
     "iopub.status.idle": "2025-02-11T02:11:15.142941Z",
     "shell.execute_reply": "2025-02-11T02:11:15.142717Z",
     "shell.execute_reply.started": "2025-02-11T02:11:15.140693Z"
    }
   },
   "outputs": [
    {
     "data": {
      "text/plain": [
       "3.0"
      ]
     },
     "execution_count": 19,
     "metadata": {},
     "output_type": "execute_result"
    }
   ],
   "source": [
    "# Your code here to call the round function on a decimal number 2.95 to 1 decimal place.\n",
    "my_number = 2.95\n",
    "\n",
    "round(my_number, ndigits=1)"
   ]
  },
  {
   "cell_type": "markdown",
   "metadata": {},
   "source": [
    "Here, `ndigits` is an optional **keyword argument**. Functions often have many of these, which have default values. To specify what value a keyword argument should take, you simply write it like you would a variable assignment. In this case, since the keyword argument is called `ndigits` in the documentation, and we want to set it to `1`, in the function call, we must write `ndigits=1`."
   ]
  },
  {
   "cell_type": "markdown",
   "metadata": {},
   "source": [
    "The important thing to remember about functions is that they are **defined packets of behaviour** that **encapsulate** certain operations. We call them on inputs and they produce outputs without us having to worry about the internal details.\n",
    "\n",
    "We'll see how to **define functions** a bit later on in this workshop. Stay tuned!"
   ]
  },
  {
   "cell_type": "markdown",
   "metadata": {},
   "source": [
    "## Numbers and Comparisons\n",
    "\n",
    "We've seen how we can store data in variables. But just storing the data is boring! In this section, we'll start talking about things that we can *do* with the data. Specifically, we'll see operations that we can do on numbers and Booleans."
   ]
  },
  {
   "cell_type": "markdown",
   "metadata": {},
   "source": [
    "### Mathematical Operations\n",
    "\n",
    "Python gives users the ability to perform simple mathematical operations on numbers. The following operations that you know very well can be easily done:\n",
    "* **Addition** is performed using the `+` operator\n",
    "* **Subtraction** is performed using the `-` operator\n",
    "* **Multiplication** is performed using the `*` operator\n",
    "* **Division** is performed using the `/` operator (does not round)\n",
    "\n",
    "Python offers a few other operations as well:\n",
    "* **Exponents** can be taken using the `**` operator (**NOT** `^`)\n",
    "* **Modulus** (remainder) can be taken using the `%` operator (**Warning:** for anyone who uses MATLAB, this is **not** a comment!)\n",
    "* **Integer division** (dividing and rounding down) can be performed using the `//` operator (**Warning:** for anyone who knows Java or C or any number of other languages, this is **not** a comment in Python!)\n",
    "\n",
    "To perform a basic mathematical operation, all you need to do is type in the numbers, along with the operator, in the same way that you'd write the expression on paper. For example, to add 5 and 4, we would write the following:"
   ]
  },
  {
   "cell_type": "code",
   "execution_count": 20,
   "metadata": {
    "execution": {
     "iopub.execute_input": "2025-02-11T02:11:15.143467Z",
     "iopub.status.busy": "2025-02-11T02:11:15.143352Z",
     "iopub.status.idle": "2025-02-11T02:11:15.145651Z",
     "shell.execute_reply": "2025-02-11T02:11:15.145278Z",
     "shell.execute_reply.started": "2025-02-11T02:11:15.143457Z"
    }
   },
   "outputs": [
    {
     "data": {
      "text/plain": [
       "9"
      ]
     },
     "execution_count": 20,
     "metadata": {},
     "output_type": "execute_result"
    }
   ],
   "source": [
    "# Put your code here\n",
    "5 + 4"
   ]
  },
  {
   "cell_type": "markdown",
   "metadata": {},
   "source": [
    "We can also chain operations together. Remember that the rules of **BEMDAS** apply. Let's do an example to show this. \n",
    "\n",
    "Write code that computes and prints the following results: $4+5\\times 3$ and $(4+5) \\times 3$. \n",
    "\n",
    "**Hint:** Remember the `print` function from above and use it to show the result of two different calculations in the same Jupyter notebook cell."
   ]
  },
  {
   "cell_type": "code",
   "execution_count": 21,
   "metadata": {
    "execution": {
     "iopub.execute_input": "2025-02-11T02:11:15.146007Z",
     "iopub.status.busy": "2025-02-11T02:11:15.145928Z",
     "iopub.status.idle": "2025-02-11T02:11:15.147826Z",
     "shell.execute_reply": "2025-02-11T02:11:15.147597Z",
     "shell.execute_reply.started": "2025-02-11T02:11:15.145997Z"
    }
   },
   "outputs": [
    {
     "name": "stdout",
     "output_type": "stream",
     "text": [
      "19\n",
      "27\n"
     ]
    }
   ],
   "source": [
    "# Put your code here\n",
    "print(4 + 5 * 3)\n",
    "print((4 + 5) * 3)"
   ]
  },
  {
   "cell_type": "markdown",
   "metadata": {},
   "source": [
    "These examples contained integers, known in Python as `int`s. We can also do calculations that involve decimal numbers, known as **floating point numbers** or simply, `float`s. We can also mix the two different types of numbers."
   ]
  },
  {
   "cell_type": "markdown",
   "metadata": {},
   "source": [
    "These rules don't only apply when working with numbers. We can also plug in **variables** that hold numeric values. We can also **store** the result in a new variable using the assignment operator `=`.\n",
    "\n",
    "For example, let's set `a=5`, `b=4`, `c=2`. Let's compute the following:\n",
    "\n",
    "* $a\\times b - c$\n",
    "* $\\text{floor}(b^2 / a)$\n",
    "* $(a + b) \\mod c$"
   ]
  },
  {
   "cell_type": "code",
   "execution_count": 22,
   "metadata": {
    "execution": {
     "iopub.execute_input": "2025-02-11T02:11:15.148253Z",
     "iopub.status.busy": "2025-02-11T02:11:15.148151Z",
     "iopub.status.idle": "2025-02-11T02:11:15.151237Z",
     "shell.execute_reply": "2025-02-11T02:11:15.150765Z",
     "shell.execute_reply.started": "2025-02-11T02:11:15.148241Z"
    }
   },
   "outputs": [
    {
     "name": "stdout",
     "output_type": "stream",
     "text": [
      "First answer: 10.0\n",
      "Second answer: 3\n",
      "Third answer: 1\n"
     ]
    }
   ],
   "source": [
    "# Your code here\n",
    "a = 5\n",
    "b = 4\n",
    "c = 2\n",
    "\n",
    "# Example 1\n",
    "ans1 = a * b / c\n",
    "print(\"First answer:\", ans1)\n",
    "\n",
    "# Example 2\n",
    "ans2 = b ** 2 // a\n",
    "print(\"Second answer:\", ans2)\n",
    "\n",
    "# Example 3\n",
    "ans3 = (a + b) % c\n",
    "print(\"Third answer:\", ans3)"
   ]
  },
  {
   "cell_type": "markdown",
   "metadata": {},
   "source": [
    "Well, let's say we want to update the original variable...\n",
    "\n",
    "Let's create a variable called `my_variable` with the value `35`. Let's then multiply it by `2` and store this result in the same `my_variable` variable."
   ]
  },
  {
   "cell_type": "code",
   "execution_count": 23,
   "metadata": {
    "execution": {
     "iopub.execute_input": "2025-02-11T02:11:15.151743Z",
     "iopub.status.busy": "2025-02-11T02:11:15.151637Z",
     "iopub.status.idle": "2025-02-11T02:11:15.154902Z",
     "shell.execute_reply": "2025-02-11T02:11:15.154643Z",
     "shell.execute_reply.started": "2025-02-11T02:11:15.151732Z"
    }
   },
   "outputs": [
    {
     "data": {
      "text/plain": [
       "70"
      ]
     },
     "execution_count": 23,
     "metadata": {},
     "output_type": "execute_result"
    }
   ],
   "source": [
    "# Your code here\n",
    "my_variable = 35\n",
    "\n",
    "# Multiply by 2 and store in same variable\n",
    "my_variable = my_variable * 2\n",
    "\n",
    "# Show the result\n",
    "my_variable"
   ]
  },
  {
   "cell_type": "markdown",
   "metadata": {},
   "source": [
    "This assignment looked a bit bulky! For some of these operations, we have a shortcut so that we don't have to rewrite the variable name twice. For each operation, we can use a new assignment operator:\n",
    "* We replace assignment and `+` with `+=`\n",
    "* We replace assignment and `-` with `-=`\n",
    "* We replace assignment and `*` with `*=`\n",
    "* We replace assignment and `/` with `/=`\n",
    "* We replace assignment and `**` with `**=`\n",
    "* We replace assignment and `%` with `%=`\n",
    "* We replace assignment and `//` with `//=`\n",
    "\n",
    "So, we can rewrite the last example we did:"
   ]
  },
  {
   "cell_type": "code",
   "execution_count": 24,
   "metadata": {
    "execution": {
     "iopub.execute_input": "2025-02-11T02:11:15.155407Z",
     "iopub.status.busy": "2025-02-11T02:11:15.155315Z",
     "iopub.status.idle": "2025-02-11T02:11:15.157976Z",
     "shell.execute_reply": "2025-02-11T02:11:15.157701Z",
     "shell.execute_reply.started": "2025-02-11T02:11:15.155397Z"
    }
   },
   "outputs": [
    {
     "data": {
      "text/plain": [
       "70"
      ]
     },
     "execution_count": 24,
     "metadata": {},
     "output_type": "execute_result"
    }
   ],
   "source": [
    "# Your code here\n",
    "my_variable = 35\n",
    "\n",
    "# Use the assignment operator\n",
    "my_variable *= 2\n",
    "\n",
    "# Show the result\n",
    "my_variable"
   ]
  },
  {
   "cell_type": "markdown",
   "metadata": {},
   "source": [
    "For more information on `int`s and `float`s and the numeric types in Python, see [this page](https://docs.python.org/3/library/stdtypes.html#typesnumeric) from the official Python documentation."
   ]
  },
  {
   "cell_type": "markdown",
   "metadata": {},
   "source": [
    "### Booleans\n",
    "\n",
    "A **boolean** represents a value that is either `True` or `False`. In this section, we'll see how to generate them, and then we'll see fun things we can do with them!\n",
    "\n",
    "#### Comparisons\n",
    "\n",
    "Think back to when you were starting to learn math... What was one of the first things they taught you? For me, it was **comparisons** and **inequalities**. We had two numbers, and we had to put the correct sign, `>,<,=` in between (some of you were maybe also told to think of a crocodile opening its mouth to the bigger number...).\n",
    "\n",
    "Well, this is an important idea in programming too! We can use the following operations to generate boolean values. Let's say that `a` and `b` are both numbers (either `int`s or `float`s):\n",
    "* `a > b` -- **greater than**, evaluates to `True` if `a` is bigger than `b`, otherwise evaluates to `False`\n",
    "* `a >= b`-- **greater than or equal to**\n",
    "* `a < b` -- **less than**\n",
    "* `a <= b` -- **less than or equal to**\n",
    "* `a == b` -- **equal** -- ***NOTE:*** there are ***TWO*** equal signs!!!!!\n",
    "* `a != b` -- **not equal**\n",
    "\n",
    "Again, I want to emphasize that for the equals comparison, you must must must put two equal signs `==`! Otherwise, Python will think you're trying to assign a variable and it will get mad at you and give you an error!\n",
    "\n",
    "Also, for `>=` and `<=`, the order of the two signs matters! Do **NOT** write `=>` or `=<`! If you forget, remember that the order is the same as we read it. **Less that or equal to** is first *less than*, so `<` and then *equal to*, so `=`, so the order is `<=`.\n",
    "\n",
    "Now, let's see some examples:"
   ]
  },
  {
   "cell_type": "code",
   "execution_count": 25,
   "metadata": {
    "execution": {
     "iopub.execute_input": "2025-02-11T02:11:15.158620Z",
     "iopub.status.busy": "2025-02-11T02:11:15.158466Z",
     "iopub.status.idle": "2025-02-11T02:11:15.160972Z",
     "shell.execute_reply": "2025-02-11T02:11:15.160723Z",
     "shell.execute_reply.started": "2025-02-11T02:11:15.158609Z"
    }
   },
   "outputs": [
    {
     "name": "stdout",
     "output_type": "stream",
     "text": [
      "a is greater than b: True\n",
      "a is less than b: False\n",
      "a is equal to b: False\n",
      "a is not equal to b: True\n",
      "a is greater than or equal to b: True\n",
      "a is less than or equal to b: False\n"
     ]
    }
   ],
   "source": [
    "# Your code here\n",
    "a = 92\n",
    "b = 43\n",
    "\n",
    "# Complete these lines: # Your code here\n",
    "print(\"a is greater than b:\", a > b)\n",
    "print(\"a is less than b:\", a < b)\n",
    "print(\"a is equal to b:\", a == b)\n",
    "print(\"a is not equal to b:\", a != b)\n",
    "print(\"a is greater than or equal to b:\", a >= b)\n",
    "print(\"a is less than or equal to b:\", a <= b)"
   ]
  },
  {
   "cell_type": "markdown",
   "metadata": {},
   "source": [
    "Feel free to change the values of `a` and `b` and see how the output changes!"
   ]
  },
  {
   "cell_type": "markdown",
   "metadata": {},
   "source": [
    "These operations don't only work on numbers! We can use `==` and `!=` on just about any other data. Let's see some examples on strings:"
   ]
  },
  {
   "cell_type": "code",
   "execution_count": 26,
   "metadata": {
    "execution": {
     "iopub.execute_input": "2025-02-11T02:11:15.161380Z",
     "iopub.status.busy": "2025-02-11T02:11:15.161284Z",
     "iopub.status.idle": "2025-02-11T02:11:15.163584Z",
     "shell.execute_reply": "2025-02-11T02:11:15.163364Z",
     "shell.execute_reply.started": "2025-02-11T02:11:15.161370Z"
    }
   },
   "outputs": [
    {
     "data": {
      "text/plain": [
       "False"
      ]
     },
     "execution_count": 26,
     "metadata": {},
     "output_type": "execute_result"
    }
   ],
   "source": [
    "# Your code here for string comparisons\n",
    "user_password = \"Password\"\n",
    "actual_password = \"passWorD\"\n",
    "\n",
    "user_password == actual_password"
   ]
  },
  {
   "cell_type": "markdown",
   "metadata": {},
   "source": [
    "These types of comparisons are very important. We'll see why in a bit... But first, let's see some other cool things we can do with Booleans."
   ]
  },
  {
   "cell_type": "markdown",
   "metadata": {},
   "source": [
    "#### Boolean Operations\n",
    "\n",
    "We've seen how to generate booleans using numbers and strings. We can also perform operations on booleans to get... more booleans! These three operations are **logical operations**:\n",
    "* `and`\n",
    "* `or`\n",
    "* `not`"
   ]
  },
  {
   "cell_type": "markdown",
   "metadata": {},
   "source": [
    "#### The `and` operation\n",
    "The `and` operation takes **two** boolean values `a` and `b`. If **both** `a` and `b` are `True`, then `a and b` is also `True`. Otherwise, `a and b` is `False`. People coming from other programming languages may know `and` as `&&` or `&`. We can represent this operation using a **truth table**:\n",
    "\n",
    "| `a` | `b` | `a and b` |\n",
    "| --- | --- | --- |\n",
    "| `False` | `False` | `False` |\n",
    "| `False` | `True` | `False` |\n",
    "| `True` | `False` | `False` |\n",
    "| `True` | `True` | `True` |\n",
    "\n",
    "In practice, you'll often work with Booleans that you've generated using comparisons. Now, let's a more complicated example. Let's set `a=4`, `b=5` and `c=6` and evaluate `(a < b) and (c > b)`:"
   ]
  },
  {
   "cell_type": "code",
   "execution_count": 27,
   "metadata": {
    "execution": {
     "iopub.execute_input": "2025-02-11T02:11:15.164186Z",
     "iopub.status.busy": "2025-02-11T02:11:15.164061Z",
     "iopub.status.idle": "2025-02-11T02:11:15.166307Z",
     "shell.execute_reply": "2025-02-11T02:11:15.166059Z",
     "shell.execute_reply.started": "2025-02-11T02:11:15.164174Z"
    }
   },
   "outputs": [
    {
     "data": {
      "text/plain": [
       "True"
      ]
     },
     "execution_count": 27,
     "metadata": {},
     "output_type": "execute_result"
    }
   ],
   "source": [
    "# Your code here for the example\n",
    "a = 4\n",
    "b = 5\n",
    "c = 6\n",
    "\n",
    "# Perform the operation\n",
    "(a < b) and (c > b)"
   ]
  },
  {
   "cell_type": "markdown",
   "metadata": {},
   "source": [
    "Let's think about that last example: we have `a=4`, `b=5`, `c=6`. We're looking at the logical expression\n",
    "```python\n",
    "a < b and c > b\n",
    "```\n",
    "\n",
    "So, we start by breaking it up into the two parts:\n",
    "* `a < b`\n",
    "* `c > b`\n",
    "\n",
    "Now, we look at each part separately:\n",
    "* `a < b`: well, we have `a=4` and `b=5`, so we have `4 < 5`, which is `True`\n",
    "* `c > b`: we have `c=6` and `b=5`, so we have `6 > 5`, which is `True`\n",
    "\n",
    "Now, we can put these two back together: for `a < b and c > b` both the left and the right are `True`, which makes the whole expression `True`!"
   ]
  },
  {
   "attachments": {},
   "cell_type": "markdown",
   "metadata": {},
   "source": [
    "#### The `or` operation\n",
    "\n",
    "The `or` operation also takes **two** boolean values `a` and `b`, but it evaluates to `True` if **at least one** of `a` or `b` is `True`. If both values are `False`, then `a or b` is `False`. Otherwise, `a or b` is `True`. In other programming languages, the `or` operation is represented as `a || b` or `a | b`.\n",
    "\n",
    "To help visualise, here's the truth table:\n",
    "\n",
    "| `a` | `b` | `a or b` |\n",
    "| --- | --- | --- |\n",
    "| `False` | `False` | `False` |\n",
    "| `False` | `True` | `True` |\n",
    "| `True` | `False` | `True` |\n",
    "| `True` | `True` | `True` |\n",
    "\n",
    "Once again, you'll often work directly with numbers and comparisons. Let's do an example where we have `a = 5`, `b = 6`, `c = 7` and let's evaluate `a > b or c > b`:"
   ]
  },
  {
   "cell_type": "code",
   "execution_count": 28,
   "metadata": {
    "execution": {
     "iopub.execute_input": "2025-02-11T02:11:15.166954Z",
     "iopub.status.busy": "2025-02-11T02:11:15.166702Z",
     "iopub.status.idle": "2025-02-11T02:11:15.169302Z",
     "shell.execute_reply": "2025-02-11T02:11:15.168914Z",
     "shell.execute_reply.started": "2025-02-11T02:11:15.166941Z"
    }
   },
   "outputs": [
    {
     "data": {
      "text/plain": [
       "True"
      ]
     },
     "execution_count": 28,
     "metadata": {},
     "output_type": "execute_result"
    }
   ],
   "source": [
    "# Your code here for a numeric example:\n",
    "a = 5\n",
    "b = 6\n",
    "c = 7\n",
    "\n",
    "# Perform the comparisons and logical operation\n",
    "a > b or c > b"
   ]
  },
  {
   "cell_type": "markdown",
   "metadata": {},
   "source": [
    "Let's go through that last example. We have `a=5`, `b=6`, `c=7`. Let's again break up our expression into two parts:\n",
    "* `a > b`\n",
    "* `c > b`\n",
    "\n",
    "Let's look at each one:\n",
    "* `a > b` --> `5 > 6` --> `False`\n",
    "* `c > b` --> `7 > 6` --> `True`\n",
    "\n",
    "Since at least one of the two boolean values is `True`, then `a > b or c > b` is `True`."
   ]
  },
  {
   "cell_type": "markdown",
   "metadata": {},
   "source": [
    "We don't have to use comparisons of variables of all the same type. Let's set `n1 = 5`, `n2 = 6` and `password = \"Hello\"`. Let's now check to see if the product of the two numbers is less than 28 **or** the password is equal to `\"World\"`:"
   ]
  },
  {
   "cell_type": "code",
   "execution_count": 29,
   "metadata": {
    "execution": {
     "iopub.execute_input": "2025-02-11T02:11:15.169956Z",
     "iopub.status.busy": "2025-02-11T02:11:15.169825Z",
     "iopub.status.idle": "2025-02-11T02:11:15.172681Z",
     "shell.execute_reply": "2025-02-11T02:11:15.172426Z",
     "shell.execute_reply.started": "2025-02-11T02:11:15.169944Z"
    }
   },
   "outputs": [
    {
     "data": {
      "text/plain": [
       "False"
      ]
     },
     "execution_count": 29,
     "metadata": {},
     "output_type": "execute_result"
    }
   ],
   "source": [
    "# Your code here for a more complicated example:\n",
    "\n",
    "# Define our variables\n",
    "n1 = 5\n",
    "n2 = 6\n",
    "password = \"Hello\"\n",
    "\n",
    "# Perform our comparisons\n",
    "(n1 * n2 < 30) or password == \"World\""
   ]
  },
  {
   "cell_type": "markdown",
   "metadata": {},
   "source": [
    "Let's now change the password to `\"World\"` and try again:"
   ]
  },
  {
   "cell_type": "code",
   "execution_count": 30,
   "metadata": {
    "execution": {
     "iopub.execute_input": "2025-02-11T02:11:15.173193Z",
     "iopub.status.busy": "2025-02-11T02:11:15.173058Z",
     "iopub.status.idle": "2025-02-11T02:11:15.175347Z",
     "shell.execute_reply": "2025-02-11T02:11:15.175110Z",
     "shell.execute_reply.started": "2025-02-11T02:11:15.173182Z"
    }
   },
   "outputs": [
    {
     "data": {
      "text/plain": [
       "True"
      ]
     },
     "execution_count": 30,
     "metadata": {},
     "output_type": "execute_result"
    }
   ],
   "source": [
    "# Your code here...\n",
    "\n",
    "# Define our variables\n",
    "n1 = 5\n",
    "n2 = 6\n",
    "password = \"World\"\n",
    "\n",
    "# Perform our comparisons\n",
    "(n1 * n2 < 30) or password == \"World\""
   ]
  },
  {
   "cell_type": "markdown",
   "metadata": {},
   "source": [
    "Hopefully, you're starting to see that we can use these booleans to make decisions. We'll come back to this idea **really soon**."
   ]
  },
  {
   "attachments": {},
   "cell_type": "markdown",
   "metadata": {},
   "source": [
    "#### The `not` operation\n",
    "\n",
    "The `not` operation only takes in **one** boolean value `a` and flips its value. If `a` is `True`, then `not a` is `False` and if `a` is `False`, then `not a` is `True`. In other languages, it may be represented by `!a` or `~a`.\n",
    "\n",
    "Here's the truth table:\n",
    "\n",
    "| `a` | `not a` |\n",
    "| --- | --- |\n",
    "|`False` | `True`|\n",
    "|`True` | `False` |\n",
    "\n",
    "The easy way to understand it is that it's opposite day! When you add the `not` operator, everything that is usually `True` becomes `False` and everything that is usually `False` becomes `True`.\n",
    "\n",
    "\n",
    "Let's do a numeric example. Let's set `a=6` and `b=8`. Let's evaluate `not a > b`:"
   ]
  },
  {
   "cell_type": "code",
   "execution_count": 31,
   "metadata": {
    "execution": {
     "iopub.execute_input": "2025-02-11T02:11:15.175915Z",
     "iopub.status.busy": "2025-02-11T02:11:15.175813Z",
     "iopub.status.idle": "2025-02-11T02:11:15.177888Z",
     "shell.execute_reply": "2025-02-11T02:11:15.177649Z",
     "shell.execute_reply.started": "2025-02-11T02:11:15.175906Z"
    }
   },
   "outputs": [
    {
     "data": {
      "text/plain": [
       "True"
      ]
     },
     "execution_count": 31,
     "metadata": {},
     "output_type": "execute_result"
    }
   ],
   "source": [
    "# Your code here for a numeric example\n",
    "\n",
    "# Define our variables\n",
    "a = 6\n",
    "b = 8\n",
    "\n",
    "# Perform the logical operation\n",
    "not a > b"
   ]
  },
  {
   "cell_type": "markdown",
   "metadata": {},
   "source": [
    "Let's look a bit more closely at this last example. We have `a=6` and `b=8`.\n",
    "\n",
    "The value of `a > b` is `6 > 8`, which is `False`. But the `not` operation flips this from `False` to `True`.\n",
    "\n",
    "**Note:** When you want to invert equality, *DO NOT* do `not a == b`. We have an operation that does this in one step, called `!=`. So, you should do `a != b` instead. It's cleaner and simpler."
   ]
  },
  {
   "cell_type": "markdown",
   "metadata": {},
   "source": [
    "Now that we have a basic understanding of booleans, let's see one of their most practical uses..."
   ]
  },
  {
   "cell_type": "markdown",
   "metadata": {},
   "source": [
    "## Intro to Control Flow and Loops\n",
    "\n",
    "So far, our code has just run line-by-line. Everything we've written has run. But, we have ways of making decisions and repeating certain lines. In this section, we'll see how to do this using:\n",
    "\n",
    "* Control Flow\n",
    "* `while` Loops\n",
    "* `for` Loops "
   ]
  },
  {
   "cell_type": "markdown",
   "metadata": {},
   "source": [
    "### Control Flow: the `if` Statement\n",
    "\n",
    "Let's say you're coming to this workshop. You take the metro and get off at Peel. You get out at the corner of Metcalfe and de Maisonneuve and look around. In your head, you're thinking, `if` Metcalfe is open, I'll walk up there, otherwise (`else`), I'll go to Peel. **Congratulations!!!** You've just done control flow!\n",
    "\n",
    "Control flow is about **making decisions** using boolean values. The important keyword here is `if`. Here is the structure of control flow in Python:\n",
    "\n",
    "```python\n",
    "if some_boolean:\n",
    "    do_something\n",
    "elif some_other_boolean:\n",
    "    do_something_else\n",
    "elif yet_another_boolean:\n",
    "    do_another_something_else\n",
    "...\n",
    "else:\n",
    "    all_else_has_failed_so_lets_do_this\n",
    "\n",
    "some_other_code_here\n",
    "```\n",
    "\n",
    "Here's the idea: \n",
    "\n",
    "* If the value of `some_boolean` is `True`, then the line `do_something` runs.\n",
    "* If the first branch isn't run, then we test to see if `some_other_boolean` is `True`. If it is, then we run `do_something_else`.\n",
    "* We keep checking all the branches until one of the conditions is met (evaluates to `True`).\n",
    "* If all conditions are `False`, then the code under `else` runs.\n",
    "\n",
    "Here are a few things to note about the syntax:\n",
    "* there is a **colon** (:) after the boolean value.\n",
    "* the line `do_something` only runs if the `boolean_value` evaluates to `True`. \n",
    "* the line `do_something` is **indented**. In other languages, you might be used to curly brackets. Python **DOES NOT** use these. In Python, different blocks of code are indented. Also, note that in Python, we don't need to write `end` when we're done! It's enough to stop indenting.\n",
    "* the line `some_other_code_here` runs *regardless* of whether the `boolean_value` is `True`. We can tell because it's **not** indented.\n",
    "\n",
    "And now, some notes about the different branches:\n",
    "\n",
    "* The `if` branch is **required** (otherwise, there's not much of a point here...).\n",
    "* There is no limit to the number of `elif` clauses you can have. You can have zero, one, or as many as you want.\n",
    "* There is no requirement to add an `else` clause. You can lots of `elif` clauses without a final `else`.\n",
    "* You can only have at most **one** `else` clause.\n",
    "\n",
    "It's **SUPER IMPORTANT** to remember that **only one branch is run**. Once Python finds a condition that matches, it stops checking all the other branches.\n",
    "\n",
    "Let's see some examples to help illustrate."
   ]
  },
  {
   "cell_type": "code",
   "execution_count": 32,
   "metadata": {
    "execution": {
     "iopub.execute_input": "2025-02-11T02:11:15.178253Z",
     "iopub.status.busy": "2025-02-11T02:11:15.178173Z",
     "iopub.status.idle": "2025-02-11T02:11:15.180414Z",
     "shell.execute_reply": "2025-02-11T02:11:15.180171Z",
     "shell.execute_reply.started": "2025-02-11T02:11:15.178244Z"
    }
   },
   "outputs": [
    {
     "name": "stdout",
     "output_type": "stream",
     "text": [
      "I'm out of the metro...\n",
      "Yay! I can walk up Metcalfe.\n",
      "I'm heading up to the Education Building.\n"
     ]
    }
   ],
   "source": [
    "# Your code here\n",
    "\n",
    "metcalfe_is_open = True\n",
    "peel_is_open = True\n",
    "\n",
    "print(\"I'm out of the metro...\")\n",
    "\n",
    "if metcalfe_is_open:\n",
    "    print(\"Yay! I can walk up Metcalfe.\")\n",
    "elif peel_is_open:\n",
    "    print(\"Construction, great... I'm heading to Peel.\")\n",
    "else:\n",
    "    print(\"No streets are open... How am I going to do this?\")\n",
    "\n",
    "print(\"I'm heading up to the Education Building.\")\n"
   ]
  },
  {
   "cell_type": "markdown",
   "metadata": {},
   "source": [
    "Try changing the variable `metcalfe_is_open` to `False` and see what happens... Try playing with both boolean values.\n",
    "\n",
    "You may have noticed that the lines under the `if` statement are indented. That tells Python that they will only run when the `if` condition is met. The lines underneath that aren't indented tell Python that they run no matter what.\n",
    "\n",
    "You may have also noticed that I didn't write:\n",
    "```python\n",
    "if metcalfe_is_open == True\n",
    "```\n",
    "\n",
    "This isn't necessary, since we already have a boolean. Putting in the extra comparison makes our code less clean. Also, just try reading the code like it's a sentence. It even sounds like a conversation:\n",
    "\"If Metcalfe is open, [print] I'm going up Metcalfe\".\n",
    "\n",
    "If you think about all the branches, it still seems intuitive:\n",
    "* If Metcalfe is open, I'm taking Metcalfe.\n",
    "* If it's not open, but Peel is open, then I'm taking Peel.\n",
    "* Otherwise, find another way...\n",
    "\n",
    "We typically won't plug in a raw boolean value. To see something more practical, let's replace the boolean with one of the comparisons we have above...\n",
    "\n",
    "Let's write a simple program that takes the current outdoor temperature in a variable, and tells us if we're below freezing, above freezing or at freezing."
   ]
  },
  {
   "cell_type": "code",
   "execution_count": 33,
   "metadata": {
    "execution": {
     "iopub.execute_input": "2025-02-11T02:11:15.180751Z",
     "iopub.status.busy": "2025-02-11T02:11:15.180675Z",
     "iopub.status.idle": "2025-02-11T02:11:15.183330Z",
     "shell.execute_reply": "2025-02-11T02:11:15.182743Z",
     "shell.execute_reply.started": "2025-02-11T02:11:15.180742Z"
    }
   },
   "outputs": [
    {
     "name": "stdout",
     "output_type": "stream",
     "text": [
      "We're taking the temperature...\n",
      "We're above freezing!\n",
      "Done taking the temperature\n"
     ]
    }
   ],
   "source": [
    "# Freezing point example: Your code here\n",
    "\n",
    "current_temperature = 100\n",
    "\n",
    "# Give an introductory message\n",
    "print(\"We're taking the temperature...\")\n",
    "\n",
    "# Check if the temperature is below zero\n",
    "if current_temperature < 0:\n",
    "    print(\"We're below freezing!\")\n",
    "elif current_temperature == 0:\n",
    "    print(\"We're at freezing!\")\n",
    "else:\n",
    "    print(\"We're above freezing!\")\n",
    "\n",
    "# Give a concluding message\n",
    "print(\"Done taking the temperature\")"
   ]
  },
  {
   "cell_type": "markdown",
   "metadata": {},
   "source": [
    "In this example, we put an expression that evaluates to a boolean after the `if`. Try setting the value of `current_temperature` to be above zero and see what happens."
   ]
  },
  {
   "cell_type": "markdown",
   "metadata": {},
   "source": [
    "### `while` loops\n",
    "\n",
    "So, control flow is great for choosing which lines of code to run, but what if we want to run a line more than once? To do this, we can use **loops**. There are two main kinds of loops in Python:\n",
    "* `while` loops\n",
    "* `for` loops\n",
    "\n",
    "They are similar, but `for` loops run for a predetermined number of times and `while` loops run for an arbitrary number of iterations. We'll start with `while` loops.\n",
    "\n",
    "Syntax:\n",
    "\n",
    "```python\n",
    "    while some_boolean:\n",
    "        do_some_code\n",
    "    \n",
    "    code_after_loop...\n",
    "```\n",
    "\n",
    "Now, you'll pretty much **NEVER** want to put a raw boolean value in the `while`. You'll instead want to use some sort of operation that returns a boolean. This operation usually involves a variable that you update in the loop. Again, notice the indent!\n",
    "\n",
    "Sticking with our temperature theme... Let's write an example where the temperature starts at -15 and increases by 2° at every iteration until it hits 10°. At each iteration, we print a message saying the current temperature and whether we are below, at or above freezing:"
   ]
  },
  {
   "cell_type": "code",
   "execution_count": 34,
   "metadata": {
    "execution": {
     "iopub.execute_input": "2025-02-11T02:11:15.183796Z",
     "iopub.status.busy": "2025-02-11T02:11:15.183694Z",
     "iopub.status.idle": "2025-02-11T02:11:15.187014Z",
     "shell.execute_reply": "2025-02-11T02:11:15.186563Z",
     "shell.execute_reply.started": "2025-02-11T02:11:15.183786Z"
    }
   },
   "outputs": [
    {
     "name": "stdout",
     "output_type": "stream",
     "text": [
      "Current temperature -15 is below zero.\n",
      "Current temperature -13 is below zero.\n",
      "Current temperature -11 is below zero.\n",
      "Current temperature -9 is below zero.\n",
      "Current temperature -7 is below zero.\n",
      "Current temperature -5 is below zero.\n",
      "Current temperature -3 is below zero.\n",
      "Current temperature -1 is below zero.\n",
      "Current temperature 1 is above zero.\n",
      "Current temperature 3 is above zero.\n",
      "Current temperature 5 is above zero.\n",
      "Current temperature 7 is above zero.\n",
      "Current temperature 9 is above zero.\n"
     ]
    }
   ],
   "source": [
    "current_temperature = -15\n",
    "\n",
    "# Your code here\n",
    "while current_temperature < 10:\n",
    "    # Print our message\n",
    "    if current_temperature > 0:\n",
    "        message = \"is above zero.\"\n",
    "    elif current_temperature == 0:\n",
    "        message = \"is at zero.\"\n",
    "    else:\n",
    "        message = \"is below zero.\"\n",
    "    print(\"Current temperature\", current_temperature, message)\n",
    "    \n",
    "    # Increase the temperature\n",
    "    current_temperature += 2"
   ]
  },
  {
   "cell_type": "markdown",
   "metadata": {},
   "source": [
    "Try changing the increment or the starting value to see the differences in the output.\n",
    "\n",
    "**Remember:** It is **CRITICALLY IMPORTANT** to update the variable in the loop. Otherwise, the condition will always be true and the loop will run forever."
   ]
  },
  {
   "cell_type": "markdown",
   "metadata": {},
   "source": [
    "### Iteration with `for` loops\n",
    "\n",
    "`for` loops are a bit simpler, since they involve running for a pre-determined number of times. To use a `for` loop, we need something to iterate over. One basic iterable uses the `range` function.\n",
    "\n",
    "The `range` function takes **up to** three arguments:\n",
    "```python\n",
    "    range(a,b,c)\n",
    "```\n",
    "\n",
    "The behaviour changes depending on how many arguments you give:\n",
    "\n",
    "* `range(a)` - produce all numbers from `0` up to, but *excluding* `a`.\n",
    "* `range(a, b)` - produce all numbers from `a` up to, but *excluding* `b`.\n",
    "* `range(a, b, c)` - produce all numbers from `a` up to, but *excluding* `b`, incrementing by `c`.\n",
    "\n",
    "**Note:** In the last case, the numbers can be decreasing if `b < a` and `c < 0`.\n",
    "\n",
    "Now that we know about ranges, let's look at the `for` loop!\n",
    "\n",
    "Here is the `for` loop syntax:\n",
    "```python\n",
    "\n",
    "    for var_name in iterable:\n",
    "        some_code\n",
    "    \n",
    "    code_when_finished\n",
    "\n",
    "```\n",
    "\n",
    "At each step, the next item from our iterable is stored in `var_name`. If we have a list, then the next list item is considered. If we have a `range`, then the next number in the `range` is considered.\n",
    "\n",
    "Let's see an example where we're calculating the squares of all numbers between 1 and 10 (excluding 10):"
   ]
  },
  {
   "cell_type": "code",
   "execution_count": 35,
   "metadata": {
    "execution": {
     "iopub.execute_input": "2025-02-11T02:11:15.187434Z",
     "iopub.status.busy": "2025-02-11T02:11:15.187317Z",
     "iopub.status.idle": "2025-02-11T02:11:15.189735Z",
     "shell.execute_reply": "2025-02-11T02:11:15.189478Z",
     "shell.execute_reply.started": "2025-02-11T02:11:15.187420Z"
    }
   },
   "outputs": [
    {
     "name": "stdout",
     "output_type": "stream",
     "text": [
      "1 squared is 1\n",
      "2 squared is 4\n",
      "3 squared is 9\n",
      "4 squared is 16\n",
      "5 squared is 25\n",
      "6 squared is 36\n",
      "7 squared is 49\n",
      "8 squared is 64\n",
      "9 squared is 81\n"
     ]
    }
   ],
   "source": [
    "# Your code here\n",
    "\n",
    "for i in range(1, 10):\n",
    "    i_squared = i * i\n",
    "    print(i, \"squared is\", i_squared)\n"
   ]
  },
  {
   "cell_type": "markdown",
   "metadata": {},
   "source": [
    "We can use many different types of objects in the `for` loop. We'll see examples where we can provide a `list` or a `str` instead."
   ]
  },
  {
   "cell_type": "markdown",
   "metadata": {},
   "source": [
    "#### Interrupting Loops\n",
    "\n",
    "Sometimes, you may want to interrupt a loop early, or skip one iteration. For this, we have the keywords `break` and `continue`.\n",
    "\n",
    "We use `break` if we want to stop going through a loop. For example, let's say we are using a `for` loop to calculate squares, but we don't want to go above 50:"
   ]
  },
  {
   "cell_type": "code",
   "execution_count": 36,
   "metadata": {
    "execution": {
     "iopub.execute_input": "2025-02-11T02:11:15.190346Z",
     "iopub.status.busy": "2025-02-11T02:11:15.190225Z",
     "iopub.status.idle": "2025-02-11T02:11:15.192472Z",
     "shell.execute_reply": "2025-02-11T02:11:15.192193Z",
     "shell.execute_reply.started": "2025-02-11T02:11:15.190336Z"
    }
   },
   "outputs": [
    {
     "name": "stdout",
     "output_type": "stream",
     "text": [
      "0 squared is 0\n",
      "1 squared is 1\n",
      "2 squared is 4\n",
      "3 squared is 9\n",
      "4 squared is 16\n",
      "5 squared is 25\n",
      "6 squared is 36\n",
      "7 squared is 49\n",
      "8 squared is 64\n",
      "We're above 50! Stopping!\n"
     ]
    }
   ],
   "source": [
    "# Your code here\n",
    "for i in range(10):\n",
    "    i_squared = i * i\n",
    "    print(i, \"squared is\", i_squared)\n",
    "    \n",
    "    # Check if above 50\n",
    "    if i_squared > 50:\n",
    "        print(\"We're above 50! Stopping!\")\n",
    "        break"
   ]
  },
  {
   "cell_type": "markdown",
   "metadata": {},
   "source": [
    "If you have disregarded my advice and you've put a pure boolean into a `while` loop, then **make sure** that you have a `break` somewhere to get out of the infinite loop.\n",
    "\n",
    "**Hint for later:** Think about a common biological system where this ability to interrupt might be helpful..."
   ]
  },
  {
   "cell_type": "markdown",
   "metadata": {},
   "source": [
    "The `continue` keyword skips the current iteration and moves on to the next step in the loop. For an example with `continue`, let's say we have a list and we only want to compute squares of all even numbers:"
   ]
  },
  {
   "cell_type": "code",
   "execution_count": 37,
   "metadata": {
    "execution": {
     "iopub.execute_input": "2025-02-11T02:11:15.193154Z",
     "iopub.status.busy": "2025-02-11T02:11:15.192937Z",
     "iopub.status.idle": "2025-02-11T02:11:15.195496Z",
     "shell.execute_reply": "2025-02-11T02:11:15.195251Z",
     "shell.execute_reply.started": "2025-02-11T02:11:15.193143Z"
    }
   },
   "outputs": [
    {
     "name": "stdout",
     "output_type": "stream",
     "text": [
      "Skipping odd number...\n",
      "Skipping odd number...\n",
      "4 squared is 16\n",
      "Skipping odd number...\n",
      "2 squared is 4\n",
      "2 squared is 4\n",
      "6 squared is 36\n",
      "Skipping odd number...\n",
      "8 squared is 64\n",
      "Skipping odd number...\n",
      "Skipping odd number...\n",
      "4 squared is 16\n",
      "8 squared is 64\n"
     ]
    }
   ],
   "source": [
    "# Here's our list\n",
    "my_list = [5, 23, 4, 1, 2, 2, 6, 7, 8, 5, 3, 4, 8]\n",
    "\n",
    "# Your code here\n",
    "\n",
    "# Iterate over the list\n",
    "for n in my_list:\n",
    "    # Check if n is odd\n",
    "    if n % 2 == 1:\n",
    "        print(\"Skipping odd number...\")\n",
    "        continue\n",
    "    n_squared = n * n\n",
    "    print(n, \"squared is\", n_squared)\n"
   ]
  },
  {
   "cell_type": "markdown",
   "metadata": {},
   "source": [
    "These two keywords can also be used in `while` loops."
   ]
  },
  {
   "cell_type": "markdown",
   "metadata": {},
   "source": [
    "## Exercises\n",
    "\n",
    "We have reached the end of this module!!!\n",
    "\n",
    "Here are a few exercises to work on based on what we saw this module."
   ]
  },
  {
   "cell_type": "markdown",
   "metadata": {},
   "source": [
    "### Advanced Freezing Point Thermometer\n",
    "\n",
    "We've seen a lot of examples of control flow using numbers. Well, we can also use strings.\n",
    "\n",
    "For this exercise, let's update our temperature detector to be helpful for people who use Fahrenheit or Kelvin. Write code that takes the current temperature and a variable `units`. The `units` can be equal to `C`, `F` or `K`. Using these two variables and some control flow, determine whether the provided temperature is above, below or at freezing and print a message for each case."
   ]
  },
  {
   "cell_type": "code",
   "execution_count": 38,
   "metadata": {
    "execution": {
     "iopub.execute_input": "2025-02-11T02:11:15.195941Z",
     "iopub.status.busy": "2025-02-11T02:11:15.195853Z",
     "iopub.status.idle": "2025-02-11T02:11:15.199434Z",
     "shell.execute_reply": "2025-02-11T02:11:15.199178Z",
     "shell.execute_reply.started": "2025-02-11T02:11:15.195931Z"
    }
   },
   "outputs": [
    {
     "name": "stdout",
     "output_type": "stream",
     "text": [
      "We're taking the temperature...\n",
      "We're below freezing!\n",
      "Done taking the temperature\n"
     ]
    }
   ],
   "source": [
    "# Store the current temperature and the units\n",
    "current_temperature = 10\n",
    "units = \"F\"\n",
    "\n",
    "# Your code here for exercise with units\n",
    "\n",
    "# Give an introductory message\n",
    "print(\"We're taking the temperature...\")\n",
    "\n",
    "# Get the value for the freezing point\n",
    "if units == \"C\":\n",
    "    freezing_point = 0\n",
    "elif units == \"F\":\n",
    "    freezing_point = 32\n",
    "elif units == \"K\":\n",
    "    freezing_point = 273.15\n",
    "else:\n",
    "    print(\"Invalid units! Assuming Celsius!\")\n",
    "    freezing_point = 0\n",
    "\n",
    "# Check if the temperature is below zero\n",
    "if current_temperature < freezing_point:\n",
    "    print(\"We're below freezing!\")\n",
    "elif current_temperature == freezing_point:\n",
    "    print(\"We're at freezing!\")\n",
    "else:\n",
    "    print(\"We're above freezing!\")\n",
    "\n",
    "# Give a concluding message\n",
    "print(\"Done taking the temperature\")"
   ]
  },
  {
   "cell_type": "markdown",
   "metadata": {},
   "source": [
    "### Temperature Conversions\n",
    "\n",
    "Let's stick with the temperature theme for a bit longer (we'll get into more biological examples in the next section). In the United States, the temperature is commonly reported in Fahrenheit. But, here in Canada (and in much of the rest of the world), the temperature is recorded in Celsius. The conversion to Fahrenheit from Celsius is given by:\n",
    "$$\n",
    "    \\text{F} = \\frac{9}{5}\\text{C} + 32\n",
    "$$\n",
    "\n",
    "To convert from Fahrenheit back to Celsius, we use the equation:\n",
    "$$\n",
    "    \\text{C} = \\frac{5}{9}(\\text{F} - 32)\n",
    "$$\n",
    "\n",
    "(P.S. if you ever forget, easy way to remember: the relationship is linear -- the lines intersect at -40 -- and we know that water freezes at 32°F and 0°C and boils at 212°F and 100°C; with any two of these three points, you can definitely find the line)."
   ]
  },
  {
   "cell_type": "markdown",
   "metadata": {},
   "source": [
    "First, let's write code to convert between the two units. Users will include an input temperature and input unit (either as `\"F\"` or `\"C\"`) and the code should convert to the other unit."
   ]
  },
  {
   "cell_type": "code",
   "execution_count": 39,
   "metadata": {
    "execution": {
     "iopub.execute_input": "2025-02-11T02:11:15.205876Z",
     "iopub.status.busy": "2025-02-11T02:11:15.205684Z",
     "iopub.status.idle": "2025-02-11T02:11:15.208368Z",
     "shell.execute_reply": "2025-02-11T02:11:15.208020Z",
     "shell.execute_reply.started": "2025-02-11T02:11:15.205865Z"
    }
   },
   "outputs": [
    {
     "name": "stdout",
     "output_type": "stream",
     "text": [
      "Unit conversion complete! 60 F equals 15.555555555555557 C\n"
     ]
    }
   ],
   "source": [
    "# Your code here\n",
    "\n",
    "input_temperature = 60\n",
    "input_units = \"F\"\n",
    "\n",
    "if input_units == \"C\":\n",
    "    output_units = \"F\"\n",
    "    converted_temperature = 9 / 5 * input_temperature + 32\n",
    "else:\n",
    "    output_units = \"C\"\n",
    "    converted_temperature = 5 / 9 * (input_temperature - 32)\n",
    "\n",
    "print(\"Unit conversion complete!\", input_temperature, input_units, \"equals\", converted_temperature, output_units)"
   ]
  },
  {
   "cell_type": "markdown",
   "metadata": {},
   "source": [
    "Now, for another example, let's find the temperature in Fahrenheit for all Celsius temperatures from $-40^\\circ \\text{C}$ to $+35^\\circ \\text{C}$ (inclusively), incrementing by $5^\\circ$.\n",
    "\n",
    "**BONUS:** Write this code twice: once using a `for` loop and once using a `while` loop."
   ]
  },
  {
   "cell_type": "code",
   "execution_count": 40,
   "metadata": {
    "execution": {
     "iopub.execute_input": "2025-02-11T02:11:15.208962Z",
     "iopub.status.busy": "2025-02-11T02:11:15.208783Z",
     "iopub.status.idle": "2025-02-11T02:11:15.211728Z",
     "shell.execute_reply": "2025-02-11T02:11:15.211492Z",
     "shell.execute_reply.started": "2025-02-11T02:11:15.208949Z"
    }
   },
   "outputs": [
    {
     "name": "stdout",
     "output_type": "stream",
     "text": [
      "===== FOR LOOP RESULTS ======\n",
      "-40 C equals -40.0 F.\n",
      "-35 C equals -31.0 F.\n",
      "-30 C equals -22.0 F.\n",
      "-25 C equals -13.0 F.\n",
      "-20 C equals -4.0 F.\n",
      "-15 C equals 5.0 F.\n",
      "-10 C equals 14.0 F.\n",
      "-5 C equals 23.0 F.\n",
      "0 C equals 32.0 F.\n",
      "5 C equals 41.0 F.\n",
      "10 C equals 50.0 F.\n",
      "15 C equals 59.0 F.\n",
      "20 C equals 68.0 F.\n",
      "25 C equals 77.0 F.\n",
      "30 C equals 86.0 F.\n",
      "35 C equals 95.0 F.\n",
      "\n",
      "\n",
      "===== FOR LOOP RESULTS ======\n",
      "-40 C equals -40.0 F.\n",
      "-35 C equals -31.0 F.\n",
      "-30 C equals -22.0 F.\n",
      "-25 C equals -13.0 F.\n",
      "-20 C equals -4.0 F.\n",
      "-15 C equals 5.0 F.\n",
      "-10 C equals 14.0 F.\n",
      "-5 C equals 23.0 F.\n",
      "0 C equals 32.0 F.\n",
      "5 C equals 41.0 F.\n",
      "10 C equals 50.0 F.\n",
      "15 C equals 59.0 F.\n",
      "20 C equals 68.0 F.\n",
      "25 C equals 77.0 F.\n",
      "30 C equals 86.0 F.\n",
      "35 C equals 95.0 F.\n"
     ]
    }
   ],
   "source": [
    "# Put your code here...\n",
    "\n",
    "# For loop solution\n",
    "print(\"===== FOR LOOP RESULTS ======\")\n",
    "\n",
    "for c in range(-40, 36, 5): # Notice that we have to go above 35, since 35 is excluded\n",
    "    f = 9 / 5 * c + 32\n",
    "    print(c, \"C equals\", f, \"F.\")\n",
    "\n",
    "# While loop solution\n",
    "print(\"\\n\\n===== FOR LOOP RESULTS ======\")\n",
    "\n",
    "# Note that here we need to set the initial temperature\n",
    "c = -40\n",
    "\n",
    "while c <= 35:\n",
    "    f = 9 / 5 * c + 32\n",
    "    print(c, \"C equals\", f, \"F.\")\n",
    "\n",
    "    # We need to explicitly increment\n",
    "    c += 5"
   ]
  },
  {
   "cell_type": "markdown",
   "metadata": {},
   "source": [
    "### BONUS: Replacing `for` Loops with `while` Loops\n",
    "\n",
    "Any time that you use a `for` loop, you can actually use a `while` loop instead. It's just not always as nice and clean:"
   ]
  },
  {
   "cell_type": "code",
   "execution_count": 41,
   "metadata": {
    "execution": {
     "iopub.execute_input": "2025-02-11T02:11:15.212395Z",
     "iopub.status.busy": "2025-02-11T02:11:15.212102Z",
     "iopub.status.idle": "2025-02-11T02:11:15.214395Z",
     "shell.execute_reply": "2025-02-11T02:11:15.214152Z",
     "shell.execute_reply.started": "2025-02-11T02:11:15.212382Z"
    }
   },
   "outputs": [
    {
     "name": "stdout",
     "output_type": "stream",
     "text": [
      "The value of i is now 0\n",
      "The value of i is now 1\n",
      "The value of i is now 2\n",
      "The value of i is now 3\n",
      "The value of i is now 4\n",
      "The value of i is now 5\n",
      "The value of i is now 6\n",
      "The value of i is now 7\n",
      "The value of i is now 8\n",
      "The value of i is now 9\n",
      "The value of i is now 0\n",
      "The value of i is now 1\n",
      "The value of i is now 2\n",
      "The value of i is now 3\n",
      "The value of i is now 4\n",
      "The value of i is now 5\n",
      "The value of i is now 6\n",
      "The value of i is now 7\n",
      "The value of i is now 8\n",
      "The value of i is now 9\n"
     ]
    }
   ],
   "source": [
    "# Done using a `for` loop\n",
    "for i in range(10):\n",
    "    print(\"The value of i is now\", i)\n",
    "    # print(\"The operation 2 * i gives us:\", 2 * i)\n",
    "\n",
    "\n",
    "# Done using a `while` loop.\n",
    "i = 0\n",
    "\n",
    "while i < 10:\n",
    "    print(\"The value of i is now\", i)\n",
    "    i += 1"
   ]
  },
  {
   "cell_type": "markdown",
   "metadata": {},
   "source": [
    "## Module Summary\n",
    "\n",
    "Congratulations! You've made it through the basics! In this module we've seen:\n",
    "\n",
    "* How to *store* different *types* of data in **variables**.\n",
    "* How to perform *basic mathematical operations* on **integers** and **floating-point numbers**.\n",
    "* How to perform **boolean operations** and apply these to **control flow** through **`if` statements**.\n",
    "* How to repeat tasks using **`for` and `while` loops**."
   ]
  },
  {
   "cell_type": "markdown",
   "metadata": {},
   "source": [
    "# Module 2 - Strings and Collections: An Object Primer\n",
    "\n",
    "In this module, we'll take things up to a new level. We've seen how to write code that does stuff with basic data, such as numbers and booleans. We've also played a bit with strings. Now, let's go into a bit more depth on strings and collections.\n",
    "\n",
    "Here's the outline for this section:\n",
    "1. Introducing Objects\n",
    "    1. What is an Object?\n",
    "2. Introducing the String!\n",
    "    1. String Slicing\n",
    "    2. String Methods (concatenation and string formatting, converting strings to numbers, find and replace)\n",
    "3. Introduction to Tuples, Lists and Dictionaries\n",
    "    1. Tuples and Tuple Unpacking\n",
    "    2. Lists and List Methods (adding, removing, slicing)\n",
    "    3. Dictionaries (Key-Value storage, accessing, adding, removing)\n",
    "4. *Exercises*"
   ]
  },
  {
   "cell_type": "markdown",
   "metadata": {},
   "source": [
    "## Introducing Objects\n",
    "\n",
    "Python is **object-oriented**... What does that mean?\n",
    "\n",
    "Well, at a basic level, it means that everything is an *object*. Does that help? Probably not.\n",
    "\n",
    "Let's take a step back...\n",
    "\n",
    "### What is an Object?\n",
    "\n",
    "An **object** is a combination of **variables** (data) and of **functions** (behaviours) that can modify the data. The data contained in an object are known as **attributes** and the functions associated with the object are known as **methods**.\n",
    "\n",
    "All objects have a **type**, which tells you what kind of object they are. All objects of the same type have the **same** attributes (although not necessarily the same *value*) and the same available methods.\n",
    "\n",
    "For example, let's say we're talking about cars. All cars have *attributes*, like colour, year and model. They also have *methods*, like turning on, turning off, switching gear, and activating the headlights. Your car may be red while mine may be blue, and they may be from different manufacturers and have different ages, but they're still both cars. They both *have* these attributes and they both can do the same things (methods).\n",
    "\n",
    "For a biological example, let's say we're looking at mice for an experiment. All mice have certain basic biological parameters, such as age and sex. They may also have attributes related to your experiment, such as a specific genotype or phenotype. All these define the **attributes** of each mouse. There are also certain experimental manipulations that can be performed on the mice, such as feeding, or exercising (I don't work with mice, but bear with me...). These define the mouse **methods**.\n",
    "\n",
    "In Python, **everything is an object**. This doesn't really do much for the primitive types that we talked about above. But, it gets more important when we start discussing more complicated types of data, like **strings** and **collections**."
   ]
  },
  {
   "cell_type": "markdown",
   "metadata": {},
   "source": [
    "## Introducing the String!\n",
    "\n",
    "A **string** is a sequence of text characters, surrounded by quotation marks. We saw an example above when we wrote the \"Hello, World!\" program. We can use either single quotes or double quotes:"
   ]
  },
  {
   "cell_type": "code",
   "execution_count": 42,
   "metadata": {
    "execution": {
     "iopub.execute_input": "2025-02-11T02:11:15.214841Z",
     "iopub.status.busy": "2025-02-11T02:11:15.214748Z",
     "iopub.status.idle": "2025-02-11T02:11:15.216476Z",
     "shell.execute_reply": "2025-02-11T02:11:15.216234Z",
     "shell.execute_reply.started": "2025-02-11T02:11:15.214831Z"
    }
   },
   "outputs": [
    {
     "name": "stdout",
     "output_type": "stream",
     "text": [
      "This is a string\n",
      "This is also a string\n"
     ]
    }
   ],
   "source": [
    "# Your code here\n",
    "print(\"This is a string\")\n",
    "print('This is also a string')"
   ]
  },
  {
   "cell_type": "markdown",
   "metadata": {},
   "source": [
    "We can also use triple-quotes to have a longer string that has line breaks in it, like we saw above."
   ]
  },
  {
   "cell_type": "markdown",
   "metadata": {},
   "source": [
    "**Remember:** It's very very very important that you remember the quotation marks! Otherwise, Python will think you're talking about variables."
   ]
  },
  {
   "cell_type": "markdown",
   "metadata": {},
   "source": [
    "What if we want to indent, or to add a new line? Well, we can add special characters through **escape sequences**:\n",
    "\n",
    "* `\\t` - Tab, indent.\n",
    "* `\\n` - New line.\n",
    "* `\\\\` - Backslash.\n",
    "* `\\uXXXX` - Insert unicode character with code `XXXX`.\n",
    "* `\\'` - Insert an apostrophe (useful if your string is defined with `'`).\n",
    "* `\\\"` - Insert a quotation mark (useful if your string is defined with `\"`).\n",
    "\n",
    "If you look at the value of the string, you will see these escape sequences, but if you print them, they get converted into their actual meaning:"
   ]
  },
  {
   "cell_type": "code",
   "execution_count": 43,
   "metadata": {
    "execution": {
     "iopub.execute_input": "2025-02-11T02:11:15.216964Z",
     "iopub.status.busy": "2025-02-11T02:11:15.216875Z",
     "iopub.status.idle": "2025-02-11T02:11:15.219110Z",
     "shell.execute_reply": "2025-02-11T02:11:15.218768Z",
     "shell.execute_reply.started": "2025-02-11T02:11:15.216955Z"
    }
   },
   "outputs": [
    {
     "data": {
      "text/plain": [
       "'This \"string\"\\nhas\\n\\ta\\n\\t\\tlot\\n\\t\\t\\tof\\n\\t\\t\\t\\tlines.'"
      ]
     },
     "execution_count": 43,
     "metadata": {},
     "output_type": "execute_result"
    }
   ],
   "source": [
    "# Your code here for escape sequences\n",
    "my_string = \"This \\\"string\\\"\\nhas\\n\\ta\\n\\t\\tlot\\n\\t\\t\\tof\\n\\t\\t\\t\\tlines.\"\n",
    "\n",
    "my_string"
   ]
  },
  {
   "cell_type": "code",
   "execution_count": 44,
   "metadata": {
    "execution": {
     "iopub.execute_input": "2025-02-11T02:11:15.219547Z",
     "iopub.status.busy": "2025-02-11T02:11:15.219457Z",
     "iopub.status.idle": "2025-02-11T02:11:15.221362Z",
     "shell.execute_reply": "2025-02-11T02:11:15.221068Z",
     "shell.execute_reply.started": "2025-02-11T02:11:15.219537Z"
    }
   },
   "outputs": [
    {
     "name": "stdout",
     "output_type": "stream",
     "text": [
      "This \"string\"\n",
      "has\n",
      "\ta\n",
      "\t\tlot\n",
      "\t\t\tof\n",
      "\t\t\t\tlines.\n"
     ]
    }
   ],
   "source": [
    "# Your code here to print that string\n",
    "print(my_string)"
   ]
  },
  {
   "cell_type": "markdown",
   "metadata": {},
   "source": [
    "See these pages for more information about escape sequences:\n",
    "\n",
    "* [Python documentation](https://docs.python.org/3/reference/lexical_analysis.html#grammar-token-python-grammar-stringescapeseq)\n",
    "* [W3Schools tutorial](https://www.w3schools.com/python/gloss_python_escape_characters.asp)"
   ]
  },
  {
   "cell_type": "markdown",
   "metadata": {},
   "source": [
    "So, we can print strings... But what else?\n",
    "\n",
    "There's lots of stuff that we can do with these strings. Let's discuss a few operations on strings."
   ]
  },
  {
   "cell_type": "markdown",
   "metadata": {},
   "source": [
    "The absolute most basic thing we can do is get the **length**, or number of characters, in a string. We can use the built-in `len` function to get this information, passing the string as the argument:"
   ]
  },
  {
   "cell_type": "code",
   "execution_count": 45,
   "metadata": {
    "execution": {
     "iopub.execute_input": "2025-02-11T02:11:15.221994Z",
     "iopub.status.busy": "2025-02-11T02:11:15.221835Z",
     "iopub.status.idle": "2025-02-11T02:11:15.223974Z",
     "shell.execute_reply": "2025-02-11T02:11:15.223698Z",
     "shell.execute_reply.started": "2025-02-11T02:11:15.221983Z"
    }
   },
   "outputs": [
    {
     "name": "stdout",
     "output_type": "stream",
     "text": [
      "The length of my string is 14 characters\n"
     ]
    }
   ],
   "source": [
    "# Your code here\n",
    "my_string = \"I like Python!\"\n",
    "string_length = len(my_string)\n",
    "print(\"The length of my string is\", string_length, \"characters\")"
   ]
  },
  {
   "cell_type": "markdown",
   "metadata": {},
   "source": [
    "**Note:** `\"\"` defines the **empty string**. This string has no characters in it, and so it has a length of zero."
   ]
  },
  {
   "cell_type": "code",
   "execution_count": 46,
   "metadata": {
    "execution": {
     "iopub.execute_input": "2025-02-11T02:11:15.224407Z",
     "iopub.status.busy": "2025-02-11T02:11:15.224319Z",
     "iopub.status.idle": "2025-02-11T02:11:15.226393Z",
     "shell.execute_reply": "2025-02-11T02:11:15.226150Z",
     "shell.execute_reply.started": "2025-02-11T02:11:15.224397Z"
    }
   },
   "outputs": [
    {
     "name": "stdout",
     "output_type": "stream",
     "text": [
      "The length of the empty string is 0 characters\n"
     ]
    }
   ],
   "source": [
    "# Your code here to check the length of the empty string\n",
    "empty_string_length = len(\"\")\n",
    "\n",
    "print(\"The length of the empty string is\", empty_string_length, \"characters\")"
   ]
  },
  {
   "cell_type": "markdown",
   "metadata": {},
   "source": [
    "### String Slicing\n",
    "\n",
    "We can also access individual characters or substrings using the **bracket operator** `[]`. But first, we need to talk about **indexing**. In a Python string, every character has a numbered position. It's **extremely** important to remember that in Python, the first position is indexed with the number **0**.\n",
    "\n",
    "Again, I'll repeat that...\n",
    "\n",
    "***The first character in a Python string has index 0.***\n",
    "\n",
    "So, you can also figure out that the last character in a string with *n* characters has index *n-1*, **not** *n*.\n",
    "\n",
    "This diagram should help clarify it:\n",
    "\n",
    "![string indexing](../assets/StringIndexingPositive.png)\n",
    "\n",
    "Note that blank spaces are counted! To get the character at an index, stored in variable `i`, we'd write the following:\n",
    "\n",
    "```python\n",
    "character_of_interest = my_string[i]\n",
    "```\n",
    "\n",
    "To get a substring starting at index `i` and going to the character at index `j` (**excluding** that character), we write:\n",
    "```python\n",
    "my_substring = my_string[i:j]\n",
    "```\n",
    "\n",
    "If we omit `i`, then we get everything from the beginning up to (but **excluding**) `j`. If we omit `j`, then we get the substring starting at index `i`.\n",
    "\n",
    "We can even skip every `k` characters by adding a third number:\n",
    "```python\n",
    "my_substring = my_string[i:j:k]\n",
    "```\n",
    "\n",
    "Now, let's see some examples of string indexing and taking substrings. In Python, this process is commonly referred to as *slicing*."
   ]
  },
  {
   "cell_type": "code",
   "execution_count": 47,
   "metadata": {
    "execution": {
     "iopub.execute_input": "2025-02-11T02:11:15.226966Z",
     "iopub.status.busy": "2025-02-11T02:11:15.226774Z",
     "iopub.status.idle": "2025-02-11T02:11:15.229074Z",
     "shell.execute_reply": "2025-02-11T02:11:15.228800Z",
     "shell.execute_reply.started": "2025-02-11T02:11:15.226956Z"
    }
   },
   "outputs": [
    {
     "name": "stdout",
     "output_type": "stream",
     "text": [
      "The first character in the string is: m\n",
      "The last character in the string is: t\n",
      "The substring from index 3 to index 12 is: string te\n",
      "The substring from 5 to the end, skipping every 2 is: rn et\n"
     ]
    }
   ],
   "source": [
    "my_string = \"my string text\"\n",
    "\n",
    "# Your code here\n",
    "\n",
    "# Let's look at single characters\n",
    "print(\"The first character in the string is:\", my_string[0])\n",
    "print(\"The last character in the string is:\", my_string[len(my_string) - 1])\n",
    "\n",
    "# Now, let's look at substrings\n",
    "print(\"The substring from index 3 to index 12 is:\", my_string[3:12])\n",
    "\n",
    "# Now, let's skip a few characters\n",
    "print(\"The substring from 5 to the end, skipping every 2 is:\", my_string[5::2])"
   ]
  },
  {
   "cell_type": "markdown",
   "metadata": {},
   "source": [
    "Python also has a great feature where we can use **negative** indices! The last character has an index of -1 and the values go back to -n, where n is the length of the string. Here's an updated diagram:\n",
    "\n",
    "![Negative indices](../assets/StringIndexingNegative.png)\n",
    "\n",
    "Now, it's your turn! Let's do some string indexing with negative indices. **Note:** We *can* combine positive and negative indices."
   ]
  },
  {
   "cell_type": "code",
   "execution_count": 48,
   "metadata": {
    "execution": {
     "iopub.execute_input": "2025-02-11T02:11:15.229475Z",
     "iopub.status.busy": "2025-02-11T02:11:15.229398Z",
     "iopub.status.idle": "2025-02-11T02:11:15.231587Z",
     "shell.execute_reply": "2025-02-11T02:11:15.231324Z",
     "shell.execute_reply.started": "2025-02-11T02:11:15.229466Z"
    }
   },
   "outputs": [
    {
     "name": "stdout",
     "output_type": "stream",
     "text": [
      "The last character in the string is: t\n",
      "The last 3 characters in the string are: ext\n",
      "The first 7 characters in the string are: my stri\n"
     ]
    }
   ],
   "source": [
    "# Reproduce the above strings using negative indexing where convenient\n",
    "my_string = \"my string text\"\n",
    "\n",
    "# Your code here\n",
    "\n",
    "# Let's look at single characters\n",
    "print(\"The last character in the string is:\", my_string[-1])\n",
    "\n",
    "# Now, let's look at substrings\n",
    "print(\"The last 3 characters in the string are:\", my_string[-3:])\n",
    "print(\"The first 7 characters in the string are:\", my_string[:7])"
   ]
  },
  {
   "cell_type": "markdown",
   "metadata": {},
   "source": [
    "One last note on string slicing and indexing: Strings are **immutable**, meaning that you can't change any of the individual characters or substrings. You can create a new string using existing strings, but you **cannot** change the content of a string."
   ]
  },
  {
   "cell_type": "markdown",
   "metadata": {},
   "source": [
    "**Note:** These indexing rules are **super important** to remember! They aren't just useful for strings. When we get to lists, we'll see these slicing tools again."
   ]
  },
  {
   "cell_type": "markdown",
   "metadata": {},
   "source": [
    "### String Operations and Methods\n",
    "\n",
    "#### Concatenation and Formatting\n",
    "A common operation on strings is **concatenation**, or combining strings. We can combine strings with the `+` sign:"
   ]
  },
  {
   "cell_type": "code",
   "execution_count": 49,
   "metadata": {
    "execution": {
     "iopub.execute_input": "2025-02-11T02:11:15.232295Z",
     "iopub.status.busy": "2025-02-11T02:11:15.232109Z",
     "iopub.status.idle": "2025-02-11T02:11:15.234587Z",
     "shell.execute_reply": "2025-02-11T02:11:15.234248Z",
     "shell.execute_reply.started": "2025-02-11T02:11:15.232284Z"
    }
   },
   "outputs": [
    {
     "name": "stdout",
     "output_type": "stream",
     "text": [
      "Concatenated string is: Hello,World!\n"
     ]
    }
   ],
   "source": [
    "string_1 = \"Hello,\"\n",
    "string_2 = \"World!\"\n",
    "\n",
    "# Your code here\n",
    "concatenated_string = string_1 + string_2\n",
    "\n",
    "print(\"Concatenated string is:\", concatenated_string)"
   ]
  },
  {
   "cell_type": "markdown",
   "metadata": {},
   "source": [
    "This example shows something very important! Concatenation does **NOT** add in any spaces. It just takes the two strings and combines them together. If you want there to be spaces, you need to make sure to add them in!\n",
    "\n",
    "Also, concatenation only works on **strings**! Let's look at this example:"
   ]
  },
  {
   "cell_type": "code",
   "execution_count": 50,
   "metadata": {
    "execution": {
     "iopub.execute_input": "2025-02-11T02:11:15.235367Z",
     "iopub.status.busy": "2025-02-11T02:11:15.235142Z",
     "iopub.status.idle": "2025-02-11T02:11:15.237564Z",
     "shell.execute_reply": "2025-02-11T02:11:15.237227Z",
     "shell.execute_reply.started": "2025-02-11T02:11:15.235353Z"
    }
   },
   "outputs": [],
   "source": [
    "string_1 = \"The meaning of life, the universe and everything is \"\n",
    "meaning_of_life = 42\n",
    "\n",
    "# This gives an error!\n",
    "# print(string_1 + meaning_of_life)"
   ]
  },
  {
   "cell_type": "markdown",
   "metadata": {},
   "source": [
    "This is very important to remember if you know JavaScript! Running this gives us an error! We can't concatenate an integer and a string. If we want to add the two together, we **must convert the `int` to a string** using `str`:"
   ]
  },
  {
   "cell_type": "code",
   "execution_count": 51,
   "metadata": {
    "execution": {
     "iopub.execute_input": "2025-02-11T02:11:15.238007Z",
     "iopub.status.busy": "2025-02-11T02:11:15.237911Z",
     "iopub.status.idle": "2025-02-11T02:11:15.240159Z",
     "shell.execute_reply": "2025-02-11T02:11:15.239901Z",
     "shell.execute_reply.started": "2025-02-11T02:11:15.237996Z"
    }
   },
   "outputs": [
    {
     "name": "stdout",
     "output_type": "stream",
     "text": [
      "The meaning of life, the universe and everything is 42\n"
     ]
    }
   ],
   "source": [
    "string_1 = \"The meaning of life, the universe and everything is \"\n",
    "meaning_of_life = 42\n",
    "\n",
    "# Your code here\n",
    "complete_sentence = string_1 + str(meaning_of_life)\n",
    "\n",
    "print(complete_sentence)"
   ]
  },
  {
   "cell_type": "markdown",
   "metadata": {},
   "source": [
    "But, there's a shortcut using **string formatting**, or **f-strings**, which let you put a variable directly into a string:\n",
    "```python\n",
    "my_formatted_string = f\"The meaning of life, the universe and everything is... {meaning_of_life}\"\n",
    "```"
   ]
  },
  {
   "cell_type": "code",
   "execution_count": 52,
   "metadata": {
    "execution": {
     "iopub.execute_input": "2025-02-11T02:11:15.240575Z",
     "iopub.status.busy": "2025-02-11T02:11:15.240496Z",
     "iopub.status.idle": "2025-02-11T02:11:15.242491Z",
     "shell.execute_reply": "2025-02-11T02:11:15.242169Z",
     "shell.execute_reply.started": "2025-02-11T02:11:15.240566Z"
    }
   },
   "outputs": [
    {
     "name": "stdout",
     "output_type": "stream",
     "text": [
      "The meaning of life, the universe and everything is 42.\n"
     ]
    }
   ],
   "source": [
    "# Your code here for string formatting\n",
    "my_formatted_string = f\"The meaning of life, the universe and everything is {meaning_of_life}.\"\n",
    "\n",
    "print(my_formatted_string)"
   ]
  },
  {
   "cell_type": "markdown",
   "metadata": {},
   "source": [
    "Notice that there is an `f` before the opening quotation mark and that the variable goes in curly braces. This tool makes life **much** easier! There are also cool ways of formatting numbers with extra zeros and spaces... but we won't see them today."
   ]
  },
  {
   "cell_type": "markdown",
   "metadata": {},
   "source": [
    "#### Converting Strings to Numbers\n",
    "\n",
    "Let's say, you've gotten some data from a file or the internet and it contains a number. You want to do some sort of mathematical operation on it... and you rush to Python and you do this:\n",
    "\n",
    "```python\n",
    "    my_number_from_file = \"32.3\"\n",
    "\n",
    "    my_answer = 3 * my_number_from_file\n",
    "\n",
    "    print(\"The answer to my computation is:\", my_answer)\n",
    "```\n",
    "\n",
    "What do you think will print?"
   ]
  },
  {
   "cell_type": "code",
   "execution_count": 53,
   "metadata": {
    "execution": {
     "iopub.execute_input": "2025-02-11T02:11:15.243027Z",
     "iopub.status.busy": "2025-02-11T02:11:15.242898Z",
     "iopub.status.idle": "2025-02-11T02:11:15.244725Z",
     "shell.execute_reply": "2025-02-11T02:11:15.244502Z",
     "shell.execute_reply.started": "2025-02-11T02:11:15.243018Z"
    }
   },
   "outputs": [
    {
     "name": "stdout",
     "output_type": "stream",
     "text": [
      "The answer to my computation is: 32.332.332.3\n"
     ]
    }
   ],
   "source": [
    "my_number_from_file = \"32.3\"\n",
    "\n",
    "# Your code here to multiply by 3\n",
    "my_answer = my_number_from_file * 3\n",
    "\n",
    "print(\"The answer to my computation is:\", my_answer)"
   ]
  },
  {
   "cell_type": "markdown",
   "metadata": {},
   "source": [
    "The answer may surprise you. Depending on which operation you're doing, you'll either get:\n",
    "* a complete nonsense answer\n",
    "* an error.\n",
    "\n",
    "There's an important step that we need to do before we can do any mathematical operations: we must convert the strings to numeric types. This is very easy:\n",
    "* To convert a string to a `float`, just call the `float()` function with the string as the argument.\n",
    "* To convert a string to an `int`, just call the `int()` function with the string as the argument.\n",
    "\n",
    "For example:"
   ]
  },
  {
   "cell_type": "code",
   "execution_count": 54,
   "metadata": {
    "execution": {
     "iopub.execute_input": "2025-02-11T02:11:15.245274Z",
     "iopub.status.busy": "2025-02-11T02:11:15.245143Z",
     "iopub.status.idle": "2025-02-11T02:11:15.247228Z",
     "shell.execute_reply": "2025-02-11T02:11:15.246955Z",
     "shell.execute_reply.started": "2025-02-11T02:11:15.245265Z"
    }
   },
   "outputs": [
    {
     "name": "stdout",
     "output_type": "stream",
     "text": [
      "The product of 32.3 and 41 is: 1324.3\n"
     ]
    }
   ],
   "source": [
    "my_string_float = \"32.3\"\n",
    "my_string_int = \"41\"\n",
    "\n",
    "# Fill in the blanks to perform the type conversions\n",
    "# Your code here\n",
    "\n",
    "my_int = int(my_string_int)\n",
    "my_float = float(my_string_float)\n",
    "\n",
    "print(\"The product of 32.3 and 41 is:\", my_float * my_int)"
   ]
  },
  {
   "cell_type": "markdown",
   "metadata": {},
   "source": [
    "**Fun fact**: The `int` function can also be used on numbers that are not base-10!"
   ]
  },
  {
   "cell_type": "markdown",
   "metadata": {},
   "source": [
    "### Finding a Substring - Intro to Methods and Objects\n",
    "And now, for a string exercise! Remember that I said you can't change the contents of a string. Well, let's now create a new string that has a single character that is different. And, since this is a QLS-MiCM workshop, let's use DNA as an example."
   ]
  },
  {
   "cell_type": "code",
   "execution_count": 55,
   "metadata": {
    "execution": {
     "iopub.execute_input": "2025-02-11T02:11:15.247754Z",
     "iopub.status.busy": "2025-02-11T02:11:15.247596Z",
     "iopub.status.idle": "2025-02-11T02:11:15.249322Z",
     "shell.execute_reply": "2025-02-11T02:11:15.249103Z",
     "shell.execute_reply.started": "2025-02-11T02:11:15.247743Z"
    }
   },
   "outputs": [],
   "source": [
    "dna_sequence = \"AAGGACCTTAGAAGGGGACCATTATTAAATTCCCGCA\""
   ]
  },
  {
   "cell_type": "markdown",
   "metadata": {},
   "source": [
    "There are more things that we can do with strings. In Python, strings are a type of **object**. An **object** is a grouping of variables, known as **attributes**, and functions, known as **methods** that all relate to one thing. String objects have various methods that we can use, or **call**, to do different things with the text contents. To call a method, we use the syntax\n",
    "\n",
    "```python\n",
    "    variable_name.method_name(arguments)\n",
    "```\n",
    "\n",
    "***This syntax will look quite familiar to anyone coming from Java or a C-based language. It may be a bit confusing for people coming from R or MATLAB. Remember, in Python, the dot `.` is NOT part of the variable name. It is an operator that lets us access functions and variables that belong to certain objects.***\n",
    "\n",
    "Remember from earlier that **functions** may take inputs, or **arguments**, perform calculations, and then **return** outputs. Let's see a few examples of methods that we can use on strings.\n",
    "\n",
    "For example, one method we can use on strings is `find`. Let's look at the documentation to see what this method does: https://docs.python.org/3/library/stdtypes.html#str.find\n",
    "\n",
    "The `find` method looks for a specified substring within a whole string, or part of a string, and returns the index where it is located."
   ]
  },
  {
   "cell_type": "code",
   "execution_count": 56,
   "metadata": {
    "execution": {
     "iopub.execute_input": "2025-02-11T02:11:15.249762Z",
     "iopub.status.busy": "2025-02-11T02:11:15.249677Z",
     "iopub.status.idle": "2025-02-11T02:11:15.251735Z",
     "shell.execute_reply": "2025-02-11T02:11:15.251433Z",
     "shell.execute_reply.started": "2025-02-11T02:11:15.249753Z"
    }
   },
   "outputs": [
    {
     "name": "stdout",
     "output_type": "stream",
     "text": [
      "The first thymine nucleotide is located at index 7\n",
      "T\n"
     ]
    }
   ],
   "source": [
    "dna_sequence = \"AAGGACCTTAGAAGGGGACCATTATTAAATTCCCGCA\"\n",
    "\n",
    "# Put in your code to find the index of the first T nucleotide\n",
    "index_of_first_t = dna_sequence.find(\"T\")\n",
    "\n",
    "print(\"The first thymine nucleotide is located at index\", index_of_first_t)\n",
    "print(dna_sequence[index_of_first_t])"
   ]
  },
  {
   "cell_type": "markdown",
   "metadata": {},
   "source": [
    "### Replacing Characters\n",
    "\n",
    "Well, let's say we want to replace this `T` nucleotide with a `G` nucleotide. We can use another useful method: `replace`. As the name suggests, this method replaces specified characters or substrings with the provided new ones. Its documentation is [here](https://docs.python.org/3/library/stdtypes.html#str.replace).\n",
    "\n",
    "The syntax is:\n",
    "```python\n",
    "    new_string = my_string.replace(\"old\", \"new\", optional_count)\n",
    "```\n",
    "\n",
    "Let's go back to our DNA sequence and replace only the first `T` with `G`:"
   ]
  },
  {
   "cell_type": "code",
   "execution_count": 57,
   "metadata": {
    "execution": {
     "iopub.execute_input": "2025-02-11T02:11:15.252097Z",
     "iopub.status.busy": "2025-02-11T02:11:15.252004Z",
     "iopub.status.idle": "2025-02-11T02:11:15.254570Z",
     "shell.execute_reply": "2025-02-11T02:11:15.254254Z",
     "shell.execute_reply.started": "2025-02-11T02:11:15.252087Z"
    }
   },
   "outputs": [
    {
     "name": "stdout",
     "output_type": "stream",
     "text": [
      "Our modified sequence is: AAGGACCGTAGAAGGGGACCATTATTAAATTCCCGCA\n"
     ]
    }
   ],
   "source": [
    "# Your code here\n",
    "mutated_dna_sequence = dna_sequence.replace(\"T\", \"G\", 1)\n",
    "\n",
    "print(\"Our modified sequence is:\", mutated_dna_sequence)"
   ]
  },
  {
   "cell_type": "markdown",
   "metadata": {},
   "source": [
    "There are many more methods we can call for strings. To learn more, see the `str` reference on the Python documentation website (https://docs.python.org/3/library/stdtypes.html#text-sequence-type-str)."
   ]
  },
  {
   "cell_type": "markdown",
   "metadata": {},
   "source": [
    "### String Iteration and the `for` Loop\n",
    "\n",
    "Remember, earlier we saw the `for` loop. Well, we can do fun things with the `for` loop in strings! We can iterate over each character in the string.\n",
    "\n",
    "Here's the syntax:\n",
    "\n",
    "```python\n",
    "    for c in my_string:\n",
    "        do_something\n",
    "```\n",
    "\n",
    "Here, `c` is a single character in the string. Let's see an example:"
   ]
  },
  {
   "cell_type": "code",
   "execution_count": 58,
   "metadata": {
    "execution": {
     "iopub.execute_input": "2025-02-11T02:11:15.255097Z",
     "iopub.status.busy": "2025-02-11T02:11:15.255008Z",
     "iopub.status.idle": "2025-02-11T02:11:15.257539Z",
     "shell.execute_reply": "2025-02-11T02:11:15.257289Z",
     "shell.execute_reply.started": "2025-02-11T02:11:15.255087Z"
    }
   },
   "outputs": [
    {
     "name": "stdout",
     "output_type": "stream",
     "text": [
      "In our sequence there are 19 purines and 10 pyrimidines.\n"
     ]
    }
   ],
   "source": [
    "my_dna_sequence = \"ACGGACAGGAGCGAGATTTGACAGCATTA\"\n",
    "\n",
    "number_of_purines = 0\n",
    "number_of_pyrimidines = 0\n",
    "\n",
    "# Your code here\n",
    "for nucleotide in my_dna_sequence:\n",
    "    if nucleotide == \"C\" or nucleotide == \"T\":\n",
    "        number_of_pyrimidines += 1\n",
    "    elif nucleotide == \"A\" or nucleotide == \"G\":\n",
    "        number_of_purines += 1\n",
    "    else:\n",
    "        print(\"Invalid nucleotide! Skipping!\")\n",
    "\n",
    "print(f\"In our sequence there are {number_of_purines} purines and {number_of_pyrimidines} pyrimidines.\")"
   ]
  },
  {
   "cell_type": "markdown",
   "metadata": {},
   "source": [
    "There's actually an easy way to clean up our boolean conditions. Instead of using string equality, we can check if the nucleotide is contained in a string using the `in` keyword:"
   ]
  },
  {
   "cell_type": "code",
   "execution_count": 59,
   "metadata": {
    "execution": {
     "iopub.execute_input": "2025-02-11T02:11:15.258099Z",
     "iopub.status.busy": "2025-02-11T02:11:15.257973Z",
     "iopub.status.idle": "2025-02-11T02:11:15.260164Z",
     "shell.execute_reply": "2025-02-11T02:11:15.259917Z",
     "shell.execute_reply.started": "2025-02-11T02:11:15.258088Z"
    }
   },
   "outputs": [
    {
     "name": "stdout",
     "output_type": "stream",
     "text": [
      "In our sequence there are 19 purines and 10 pyrimidines.\n"
     ]
    }
   ],
   "source": [
    "my_dna_sequence = \"ACGGACAGGAGCGAGATTTGACAGCATTA\"\n",
    "\n",
    "number_of_purines = 0\n",
    "number_of_pyrimidines = 0\n",
    "\n",
    "for nucleotide in my_dna_sequence:\n",
    "    # Your code here to simplify\n",
    "    if nucleotide in \"CT\":\n",
    "        number_of_pyrimidines += 1\n",
    "    elif nucleotide in \"AG\":\n",
    "        number_of_purines += 1\n",
    "    else:\n",
    "        print(\"Invalid nucleotide! Skipping!\")\n",
    "\n",
    "print(f\"In our sequence there are {number_of_purines} purines and {number_of_pyrimidines} pyrimidines.\")"
   ]
  },
  {
   "cell_type": "markdown",
   "metadata": {},
   "source": [
    "### String Summary\n",
    "\n",
    "We've reached the end of the section on strings. Here are the main points:\n",
    "* Strings represent **text** in Python.\n",
    "* We can use **slicing** to access individual characters or substrings.\n",
    "* Strings are **objects** and we can use string **methods** to create new, modified strings.\n",
    "\n",
    "Now that we've seen strings, let's look at some collection types!"
   ]
  },
  {
   "cell_type": "markdown",
   "metadata": {},
   "source": [
    "## Collection Types - Introduction to Tuples, Lists and Dictionaries\n",
    "\n",
    "We've seen that we can store data in basic types, like strings, `int`s and `float`s. But, let's say we want to store many of these at a time. For example, let say we have 100 DNA sequences that we want to store and process? Well, for this we have **collection types**. In this section, we'll see three important collection types:\n",
    "* Tuples\n",
    "* Lists\n",
    "* Dictionaries\n",
    "\n",
    "For more information on tuples and lists, see [this page](https://docs.python.org/3/library/stdtypes.html#sequence-types-list-tuple-range) of the Python documentation. For more info about dictionaries, see [here](https://docs.python.org/3/library/stdtypes.html#mapping-types-dict)."
   ]
  },
  {
   "cell_type": "markdown",
   "metadata": {},
   "source": [
    "### Tuples\n",
    "\n",
    "A tuple is a way of packaging a fixed number of values together. The number of values can't be changed, and neither can the values themselves. Tuples are **immutable**, like strings. Remember, though, we can always assign a new tuple to the same variable. Tuples are represented using multiple values separated by commas within round brackets (parentheses) -- `()`."
   ]
  },
  {
   "cell_type": "code",
   "execution_count": 60,
   "metadata": {
    "execution": {
     "iopub.execute_input": "2025-02-11T02:11:15.260599Z",
     "iopub.status.busy": "2025-02-11T02:11:15.260507Z",
     "iopub.status.idle": "2025-02-11T02:11:15.262717Z",
     "shell.execute_reply": "2025-02-11T02:11:15.262483Z",
     "shell.execute_reply.started": "2025-02-11T02:11:15.260588Z"
    }
   },
   "outputs": [
    {
     "data": {
      "text/plain": [
       "('Error', 404)"
      ]
     },
     "execution_count": 60,
     "metadata": {},
     "output_type": "execute_result"
    }
   ],
   "source": [
    "# Your code here\n",
    "my_tuple = (\"Error\", 404)\n",
    "\n",
    "my_tuple"
   ]
  },
  {
   "cell_type": "markdown",
   "metadata": {},
   "source": [
    "#### Accessing Elements\n",
    "There are two different ways to access individual elements in a tuple:\n",
    "* Slicing\n",
    "* Unpacking\n",
    "\n",
    "When working with tuples, **slicing** works the *exact same way* that it did with strings, described above. And since it works the same way, we won't do an example right here.\n",
    "\n",
    "But, even without an example, I'll give you my usual reminder... ***INDEXING STARTS AT ZERO***."
   ]
  },
  {
   "cell_type": "markdown",
   "metadata": {},
   "source": [
    "#### Tuple Unpacking\n",
    "**Unpacking** is a different process. Let's say we have a tuple with 2 elements in it. We can assign each one of these elements to a variable, like this:"
   ]
  },
  {
   "cell_type": "code",
   "execution_count": 61,
   "metadata": {
    "execution": {
     "iopub.execute_input": "2025-02-11T02:11:15.263241Z",
     "iopub.status.busy": "2025-02-11T02:11:15.263113Z",
     "iopub.status.idle": "2025-02-11T02:11:15.265126Z",
     "shell.execute_reply": "2025-02-11T02:11:15.264838Z",
     "shell.execute_reply.started": "2025-02-11T02:11:15.263231Z"
    }
   },
   "outputs": [
    {
     "name": "stdout",
     "output_type": "stream",
     "text": [
      "The value of my point is: (-3, 5)\n",
      "The value of x is: -3\n",
      "The value of y is: 5\n"
     ]
    }
   ],
   "source": [
    "my_point = (-3, 5)\n",
    "\n",
    "# Your code here to assign x and y\n",
    "x, y = my_point\n",
    "\n",
    "print(\"The value of my point is:\", my_point)\n",
    "print(\"The value of x is:\", x)\n",
    "print(\"The value of y is:\", y)"
   ]
  },
  {
   "cell_type": "markdown",
   "metadata": {},
   "source": [
    "**NOTE:** You **MUST** have the same number of variables and the number of elements in the tuple. Otherwise, unpacking won't work and you'll get an error from Python.\n",
    "\n",
    "Finally, like with strings, we can concatenate tuples using the `+` operation."
   ]
  },
  {
   "cell_type": "code",
   "execution_count": 62,
   "metadata": {
    "execution": {
     "iopub.execute_input": "2025-02-11T02:11:15.265633Z",
     "iopub.status.busy": "2025-02-11T02:11:15.265551Z",
     "iopub.status.idle": "2025-02-11T02:11:15.267873Z",
     "shell.execute_reply": "2025-02-11T02:11:15.267673Z",
     "shell.execute_reply.started": "2025-02-11T02:11:15.265624Z"
    }
   },
   "outputs": [
    {
     "data": {
      "text/plain": [
       "(4, 5, 'Hello', 'World!', 12, True, 4.5, -3, 5)"
      ]
     },
     "execution_count": 62,
     "metadata": {},
     "output_type": "execute_result"
    }
   ],
   "source": [
    "my_tuple = (4, 5, \"Hello\", \"World!\", 12, True, 4.5)\n",
    "\n",
    "# Your code here to concatenate tuples\n",
    "my_combined_tuples = my_tuple + my_point\n",
    "\n",
    "my_combined_tuples"
   ]
  },
  {
   "cell_type": "markdown",
   "metadata": {},
   "source": [
    "#### Tuple Summary\n",
    "\n",
    "Here are the main take-aways about tuples:\n",
    "* Tuples hold a **small number** of values.\n",
    "* The values can have different types.\n",
    "* We can use **unpacking** to extract the elements.\n",
    "* We **can't change** the elements."
   ]
  },
  {
   "cell_type": "markdown",
   "metadata": {},
   "source": [
    "### Lists and List Methods\n",
    "\n",
    "List are more exciting than tuples. Lists are **mutable**! So, we can add entries to a list, remove entries from a list, and change the entries in a list. Lists are represented as comma-separated values in square brackets -- `[]`. Unlike tuples, we can't unpack lists. Lists also *usually* contain elements of the same or similar type (although they don't have to)."
   ]
  },
  {
   "cell_type": "code",
   "execution_count": 63,
   "metadata": {
    "execution": {
     "iopub.execute_input": "2025-02-11T02:11:15.268415Z",
     "iopub.status.busy": "2025-02-11T02:11:15.268262Z",
     "iopub.status.idle": "2025-02-11T02:11:15.270860Z",
     "shell.execute_reply": "2025-02-11T02:11:15.270530Z",
     "shell.execute_reply.started": "2025-02-11T02:11:15.268402Z"
    }
   },
   "outputs": [
    {
     "data": {
      "text/plain": [
       "['The', 'quick', 'brown', 'fox']"
      ]
     },
     "execution_count": 63,
     "metadata": {},
     "output_type": "execute_result"
    }
   ],
   "source": [
    "# Your code here for an example list\n",
    "my_list = [\"The\", \"quick\", \"brown\", \"fox\"]\n",
    "\n",
    "my_list"
   ]
  },
  {
   "cell_type": "markdown",
   "metadata": {},
   "source": [
    "**Note:** While you *can* put elements of different types in a list, ask yourself whether in a given scenario you *should* and make sure that your code is prepared to handle the different types of data."
   ]
  },
  {
   "cell_type": "markdown",
   "metadata": {},
   "source": [
    "Now, I've told you all these great things that we can do with lists... but how do we do them?"
   ]
  },
  {
   "cell_type": "markdown",
   "metadata": {},
   "source": [
    "#### Length of a List\n",
    "Well, let's start with the simplest thing... taking the **length** of a list. We do this in the exact same way that we took the length of a string! We use the `len` function."
   ]
  },
  {
   "cell_type": "code",
   "execution_count": 64,
   "metadata": {
    "execution": {
     "iopub.execute_input": "2025-02-11T02:11:15.271327Z",
     "iopub.status.busy": "2025-02-11T02:11:15.271239Z",
     "iopub.status.idle": "2025-02-11T02:11:15.273237Z",
     "shell.execute_reply": "2025-02-11T02:11:15.273001Z",
     "shell.execute_reply.started": "2025-02-11T02:11:15.271317Z"
    }
   },
   "outputs": [
    {
     "name": "stdout",
     "output_type": "stream",
     "text": [
      "My squares list has length: 11\n"
     ]
    }
   ],
   "source": [
    "# Your code here\n",
    "my_squares = [1, 4, 9, 16, 25, 36, 49, 64, 81, 100, 121]\n",
    "print(\"My squares list has length:\", len(my_squares))"
   ]
  },
  {
   "cell_type": "markdown",
   "metadata": {},
   "source": [
    "#### List Slicing\n",
    "\n",
    "We can obtain individual items and sublists through *slicing*, exactly the same way that we did with strings and tuples.\n",
    "\n",
    "And, in case you forgot, indexing starts at zero 😉.\n",
    "\n",
    "Here's an exercise to test your skills with this...\n",
    "\n",
    "I'm giving you this list: `[1, 1, 2, 3, 5, 8, 13, 21, 34]`\n",
    "\n",
    "Using slicing, find:\n",
    "* the last element\n",
    "* the values `3, 5, 8`\n",
    "* the values `1, 2, 5, 13`"
   ]
  },
  {
   "cell_type": "code",
   "execution_count": 65,
   "metadata": {
    "execution": {
     "iopub.execute_input": "2025-02-11T02:11:15.273575Z",
     "iopub.status.busy": "2025-02-11T02:11:15.273498Z",
     "iopub.status.idle": "2025-02-11T02:11:15.275706Z",
     "shell.execute_reply": "2025-02-11T02:11:15.275456Z",
     "shell.execute_reply.started": "2025-02-11T02:11:15.273566Z"
    }
   },
   "outputs": [
    {
     "name": "stdout",
     "output_type": "stream",
     "text": [
      "The last element in the list is: 34\n",
      "The sublist is: [3, 5, 8]\n",
      "The sublist is: [1, 2, 5, 13]\n"
     ]
    }
   ],
   "source": [
    "my_list = [1, 1, 2, 3, 5, 8, 13, 21, 34]\n",
    "\n",
    "# Your code here\n",
    "print(\"The last element in the list is:\", my_list[-1])\n",
    "print(\"The sublist is:\", my_list[3:6])\n",
    "print(\"The sublist is:\", my_list[0:-1:2])"
   ]
  },
  {
   "cell_type": "markdown",
   "metadata": {},
   "source": [
    "But, there's more that we can do with the slicing! We can now update values using the `=` sign! We can do this for both individual elements and for sublists!\n",
    "\n",
    "Let's take this example: `[1, 2, 4, 9, 16, 32, 64, 129, 257]`\n",
    "\n",
    "Any idea what this sequence is? There are three mistakes that we need to correct!\n",
    "\n",
    "So... Where are the mistakes? How do we correct them?"
   ]
  },
  {
   "cell_type": "code",
   "execution_count": 66,
   "metadata": {
    "execution": {
     "iopub.execute_input": "2025-02-11T02:11:15.276201Z",
     "iopub.status.busy": "2025-02-11T02:11:15.276103Z",
     "iopub.status.idle": "2025-02-11T02:11:15.278193Z",
     "shell.execute_reply": "2025-02-11T02:11:15.277938Z",
     "shell.execute_reply.started": "2025-02-11T02:11:15.276191Z"
    }
   },
   "outputs": [
    {
     "name": "stdout",
     "output_type": "stream",
     "text": [
      "The corrected list is: [1, 2, 4, 8, 16, 32, 64, 128, 256]\n"
     ]
    }
   ],
   "source": [
    "# Here is our error-filled list:\n",
    "powers_of_two = [1, 2, 4, 9, 16, 32, 64, 129, 257]\n",
    "\n",
    "# Your code here to correct\n",
    "powers_of_two[3] = 8\n",
    "powers_of_two[-2:] = [128, 256]\n",
    "\n",
    "\n",
    "print(\"The corrected list is:\", powers_of_two)"
   ]
  },
  {
   "cell_type": "markdown",
   "metadata": {},
   "source": [
    "So, we can replace single elements by assigning a new value, or an entire sub-range by passing a list!"
   ]
  },
  {
   "cell_type": "markdown",
   "metadata": {},
   "source": [
    "#### Adding Elements\n",
    "\n",
    "Now for the fun part! Let's insert new items! Remember that the list is **mutable**, so when we add new items, we are actually *changing* the list. We are **not** creating a new list and we are **not** creating a new variable (there's no `=` sign). To change the list, we use **methods** from the list object.\n",
    "\n",
    "Let's start with adding a new item at the **end** of the list. This process is known as *appending* to a list. So, naturally, the method to do this is called `append`:"
   ]
  },
  {
   "cell_type": "code",
   "execution_count": 67,
   "metadata": {
    "execution": {
     "iopub.execute_input": "2025-02-11T02:11:15.278616Z",
     "iopub.status.busy": "2025-02-11T02:11:15.278538Z",
     "iopub.status.idle": "2025-02-11T02:11:15.280477Z",
     "shell.execute_reply": "2025-02-11T02:11:15.280260Z",
     "shell.execute_reply.started": "2025-02-11T02:11:15.278607Z"
    }
   },
   "outputs": [
    {
     "name": "stdout",
     "output_type": "stream",
     "text": [
      "Powers of two is now: [1, 2, 4, 8, 16, 32, 64, 128, 256, 512]\n"
     ]
    }
   ],
   "source": [
    "# Example using our powers of two\n",
    "# Your code here to continue the list\n",
    "powers_of_two.append(512)\n",
    "\n",
    "print(\"Powers of two is now:\", powers_of_two)"
   ]
  },
  {
   "cell_type": "markdown",
   "metadata": {},
   "source": [
    "We can also insert at any index `i` using the method called... [`insert`](https://docs.python.org/3/library/stdtypes.html#sequence-types-list-tuple-range:~:text=(6)-,s.insert(i%2C%20x),-inserts%20x%20into)! This method takes **two** arguments: the index `i` *before which* we want to insert the new element and the new element that we want to insert:\n",
    "\n",
    "```python\n",
    "my_list.insert(i, new_element)\n",
    "```\n",
    "\n",
    "***NOTE:*** You must respect this order of arguments.\n",
    "\n",
    "Here's an example:"
   ]
  },
  {
   "cell_type": "code",
   "execution_count": 68,
   "metadata": {
    "execution": {
     "iopub.execute_input": "2025-02-11T02:11:15.280911Z",
     "iopub.status.busy": "2025-02-11T02:11:15.280827Z",
     "iopub.status.idle": "2025-02-11T02:11:15.283111Z",
     "shell.execute_reply": "2025-02-11T02:11:15.282876Z",
     "shell.execute_reply.started": "2025-02-11T02:11:15.280902Z"
    }
   },
   "outputs": [
    {
     "name": "stdout",
     "output_type": "stream",
     "text": [
      "The 7 days of the week are: ['Sunday', 'Monday', 'Tuesday', 'Wednesday', 'Thursday', 'Friday', 'Saturday']\n"
     ]
    }
   ],
   "source": [
    "days_of_the_week = [\"Sunday\", \"Tuesday\", \"Wednesday\", \"Thursday\", \"Saturday\"]\n",
    "\n",
    "# Your code here to add Monday in the correct spot\n",
    "days_of_the_week.insert(1, \"Monday\")\n",
    "\n",
    "# Your code here to add Friday in the right spot (hint: negative indexing)\n",
    "days_of_the_week.insert(-1, \"Friday\")\n",
    "\n",
    "\n",
    "print(f\"The {len(days_of_the_week)} days of the week are: {days_of_the_week}\")"
   ]
  },
  {
   "cell_type": "markdown",
   "metadata": {},
   "source": [
    "How can we learn more about these methods? We can check out the [documentation](https://docs.python.org/3/library/stdtypes.html#list). We can also see other methods, like `index`, which we can use to find the position of an element."
   ]
  },
  {
   "cell_type": "markdown",
   "metadata": {},
   "source": [
    "#### Removing Elements\n",
    "\n",
    "Sometimes, we want to delete elements from a list. There are a few ways to do this:\n",
    "- using the `del` keyword\n",
    "- using an assignment\n",
    "- using the `pop` method\n",
    "- using the `clear` method\n",
    "\n",
    "Here are the details:\n",
    "* The `del` keyword can be used to get rid of single elements or a range. `del` is **not** a function, so we **don't** use brackets. \n",
    "* To remove a range, we can alternatively just use slicing and assign an empty list to the desired range (see [here](https://docs.python.org/3/library/stdtypes.html#mutable-sequence-types)).\n",
    "* We can use the `pop` method without an argument to remove the last item from a list, or with an index as argument to remove the item at index `i`. The `pop` method returns the removed element, so it can be stored in a variable.\n",
    "* We can use the `clear` method to remove **all** items from a list."
   ]
  },
  {
   "cell_type": "code",
   "execution_count": 69,
   "metadata": {
    "execution": {
     "iopub.execute_input": "2025-02-11T02:11:15.283460Z",
     "iopub.status.busy": "2025-02-11T02:11:15.283380Z",
     "iopub.status.idle": "2025-02-11T02:11:15.285819Z",
     "shell.execute_reply": "2025-02-11T02:11:15.285387Z",
     "shell.execute_reply.started": "2025-02-11T02:11:15.283450Z"
    }
   },
   "outputs": [
    {
     "name": "stdout",
     "output_type": "stream",
     "text": [
      "Test list is now: [2, 3, 5, 7, 11, 13, 17, 19, 23] since we removed item: 9\n"
     ]
    }
   ],
   "source": [
    "test_list = [2, 3, 5, 7, 9, 11, 13, 17, 19, 23]\n",
    "\n",
    "# Your code here to remove the number which doesn't belong using `pop`...\n",
    "my_index = test_list.index(9)\n",
    "removed_element = test_list.pop(my_index)\n",
    "\n",
    "\n",
    "print(\"Test list is now:\", test_list, \"since we removed item:\", removed_element)"
   ]
  },
  {
   "cell_type": "code",
   "execution_count": 70,
   "metadata": {
    "execution": {
     "iopub.execute_input": "2025-02-11T02:11:15.286591Z",
     "iopub.status.busy": "2025-02-11T02:11:15.286487Z",
     "iopub.status.idle": "2025-02-11T02:11:15.288721Z",
     "shell.execute_reply": "2025-02-11T02:11:15.288475Z",
     "shell.execute_reply.started": "2025-02-11T02:11:15.286579Z"
    }
   },
   "outputs": [
    {
     "name": "stdout",
     "output_type": "stream",
     "text": [
      "Test list 2 is now: [1, 2, 2, 1, 1, 2, 2, 1, 1, 2, 2]\n"
     ]
    }
   ],
   "source": [
    "test_list_2 = [1, 2, 2, 1, 2, 3, 1, 2, 2, 1, 1, 2, 2]\n",
    "\n",
    "# Your code here to remove the numbers that disrupt the pattern using assignment.\n",
    "test_list_2[4:6] = []\n",
    "\n",
    "print(\"Test list 2 is now:\", test_list_2)"
   ]
  },
  {
   "cell_type": "code",
   "execution_count": 71,
   "metadata": {
    "execution": {
     "iopub.execute_input": "2025-02-11T02:11:15.289268Z",
     "iopub.status.busy": "2025-02-11T02:11:15.289143Z",
     "iopub.status.idle": "2025-02-11T02:11:15.290914Z",
     "shell.execute_reply": "2025-02-11T02:11:15.290681Z",
     "shell.execute_reply.started": "2025-02-11T02:11:15.289258Z"
    }
   },
   "outputs": [
    {
     "name": "stdout",
     "output_type": "stream",
     "text": [
      "The test list 2 is now: []\n"
     ]
    }
   ],
   "source": [
    "# Your code here to remove all elements using `clear`\n",
    "test_list_2.clear()\n",
    "\n",
    "print(\"The test list 2 is now:\", test_list_2)"
   ]
  },
  {
   "cell_type": "markdown",
   "metadata": {},
   "source": [
    "**Extra:** Using `del` to delete elements. Remember *not* to put brackets."
   ]
  },
  {
   "cell_type": "code",
   "execution_count": 72,
   "metadata": {
    "execution": {
     "iopub.execute_input": "2025-02-11T02:11:15.291403Z",
     "iopub.status.busy": "2025-02-11T02:11:15.291303Z",
     "iopub.status.idle": "2025-02-11T02:11:15.293493Z",
     "shell.execute_reply": "2025-02-11T02:11:15.293192Z",
     "shell.execute_reply.started": "2025-02-11T02:11:15.291393Z"
    }
   },
   "outputs": [
    {
     "name": "stdout",
     "output_type": "stream",
     "text": [
      "Test list is now: [2, 3, 5, 7, 11, 13, 17, 19, 23]\n"
     ]
    }
   ],
   "source": [
    "test_list = [2, 3, 5, 7, 9, 11, 13, 17, 19, 23]\n",
    "\n",
    "# Your code here\n",
    "\n",
    "# Get index of 9\n",
    "my_index = test_list.index(9)\n",
    "\n",
    "# Remove the number which doesn't belong using `del`...\n",
    "del test_list[my_index]\n",
    "\n",
    "print(\"Test list is now:\", test_list)"
   ]
  },
  {
   "cell_type": "code",
   "execution_count": 73,
   "metadata": {
    "execution": {
     "iopub.execute_input": "2025-02-11T02:11:15.293891Z",
     "iopub.status.busy": "2025-02-11T02:11:15.293797Z",
     "iopub.status.idle": "2025-02-11T02:11:15.295825Z",
     "shell.execute_reply": "2025-02-11T02:11:15.295569Z",
     "shell.execute_reply.started": "2025-02-11T02:11:15.293881Z"
    }
   },
   "outputs": [
    {
     "name": "stdout",
     "output_type": "stream",
     "text": [
      "Test list 2 is now: [1, 2, 2, 1, 1, 2, 2, 1, 1, 2, 2]\n"
     ]
    }
   ],
   "source": [
    "test_list_2 = [1, 2, 2, 1, 2, 3, 1, 2, 2, 1, 1, 2, 2]\n",
    "\n",
    "# Your code here to remove the numbers that disrupt the pattern using `del`.\n",
    "del test_list_2[4:6]\n",
    "\n",
    "\n",
    "print(\"Test list 2 is now:\", test_list_2)"
   ]
  },
  {
   "cell_type": "markdown",
   "metadata": {},
   "source": [
    "#### List Concatenation\n",
    "\n",
    "One last operation: lists can be concatenated using the `+` operator like strings and tuples. Remember that **both** the left and the right must be lists! You can't add a number to a list by concatenation! If you want to add a new element without appending, you must first embed it in a list."
   ]
  },
  {
   "cell_type": "code",
   "execution_count": 74,
   "metadata": {
    "execution": {
     "iopub.execute_input": "2025-02-11T02:11:15.296253Z",
     "iopub.status.busy": "2025-02-11T02:11:15.296175Z",
     "iopub.status.idle": "2025-02-11T02:11:15.298005Z",
     "shell.execute_reply": "2025-02-11T02:11:15.297735Z",
     "shell.execute_reply.started": "2025-02-11T02:11:15.296243Z"
    }
   },
   "outputs": [
    {
     "name": "stdout",
     "output_type": "stream",
     "text": [
      "Modified list a is: [1, 4, 6, 3]\n"
     ]
    }
   ],
   "source": [
    "list_a = [1, 4, 6]\n",
    "\n",
    "# Your code here to add 3 to the end of list_a to create list_b\n",
    "list_b = list_a + [3]\n",
    "\n",
    "print(\"Modified list a is:\", list_b)"
   ]
  },
  {
   "cell_type": "markdown",
   "metadata": {},
   "source": [
    "**Remember,** concatenation makes a new list! After concatenating our two lists, the original lists are not modified!"
   ]
  },
  {
   "cell_type": "markdown",
   "metadata": {},
   "source": [
    "#### List Iteration\n",
    "\n",
    "Remember how we went through each character in a string? Well, we can do the exact same thing with a list!\n",
    "\n",
    "```python\n",
    "    for item in my_list:\n",
    "        do_something...\n",
    "```\n",
    "\n",
    "We saw examples of this earlier, so I'll skip the simple examples. Let's see something a bit more complicated..."
   ]
  },
  {
   "cell_type": "markdown",
   "metadata": {},
   "source": [
    "Let's say we want to loop through the list **and** get the index of the element... Well, we can use the `enumerate` function. This returns a **tuple** containing the index and the item from the list.\n",
    "\n",
    "**Note:** In the `for` loop, we can **immediately unpack** the tuple!"
   ]
  },
  {
   "cell_type": "code",
   "execution_count": 75,
   "metadata": {
    "execution": {
     "iopub.execute_input": "2025-02-11T02:11:15.298509Z",
     "iopub.status.busy": "2025-02-11T02:11:15.298421Z",
     "iopub.status.idle": "2025-02-11T02:11:15.301600Z",
     "shell.execute_reply": "2025-02-11T02:11:15.301223Z",
     "shell.execute_reply.started": "2025-02-11T02:11:15.298499Z"
    }
   },
   "outputs": [
    {
     "name": "stdout",
     "output_type": "stream",
     "text": [
      "Our list has 7 even numbers and 9 odd numbers.\n",
      "The last even number was at index 13 and the last odd number was at index 15\n"
     ]
    }
   ],
   "source": [
    "my_list = [2, 4, 6, 5, 8, 7, 1, 3, 5, 7, 8, 9, 10, 22, 11, 95]\n",
    "\n",
    "number_of_even = 0\n",
    "number_of_odd = 0\n",
    "\n",
    "last_even_index = -1\n",
    "last_odd_index = -1\n",
    "\n",
    "# Your code here to extract the number of odd and even and get the final indices of each\n",
    "for i, n in enumerate(my_list):\n",
    "    if n % 2 == 0:\n",
    "        number_of_even += 1\n",
    "        last_even_index = i\n",
    "    else:\n",
    "        number_of_odd += 1\n",
    "        last_odd_index = i\n",
    "\n",
    "\n",
    "print(\"Our list has\", number_of_even, \"even numbers and\", number_of_odd, \"odd numbers.\")\n",
    "print(\"The last even number was at index\", last_even_index, \"and the last odd number was at index\", last_odd_index)\n"
   ]
  },
  {
   "cell_type": "markdown",
   "metadata": {},
   "source": [
    "#### List Summary\n",
    "\n",
    "That's all we'll discuss for lists. Here are the main takeaways:\n",
    "\n",
    "* A list contains an **unfixed number** of values, *typically* of the **same** type.\n",
    "* We can access individual elements through **slicing** and **indexing**.\n",
    "* Lists are **mutable**, so we can **add** and **remove** elements easily.\n",
    "* We can **iterate** over lists and use **`enumerate`** to get the index of each element.\n",
    "\n",
    "Now that we're doing with our first look at lists, let's look at our last major collection type: the **dictionary**."
   ]
  },
  {
   "cell_type": "markdown",
   "metadata": {},
   "source": [
    "### Dictionaries\n",
    "\n",
    "So... How many of you can remember using a paper dictionary? What's the idea behind them?\n",
    "\n",
    "#### Key-Value Storage\n",
    "\n",
    "Well, we're not going to be defining words... but think about the **structure** of a dictionary. You look up a word and you get an associated valuable piece of information, a definition. Let's call the word a **key** and the associated information a **value**. A **dictionary** is a collection that stores **Key-Value** pairs.\n",
    "\n",
    "Now, for the syntax... Well, tuples involved round brackets, and lists involved square brackets... so it's only natural that the syntax for dictionaries uses curly brackets, or brace brackets `{}`. But, there's another twist here. \n",
    "\n",
    "We need both keys and values! The **values** can be any type, but the **keys** must be **immutable**. So, the keys can be numbers, tuples or strings (or booleans, I guess, but that may not be useful), but they **cannot** be lists. In addition, keys **cannot** be duplicated, but values can. If you try to duplicate a key, only one of the values is kept.\n",
    "\n",
    "Let's make a simple dictionary with keys for `microCT`, `FIB-SEM`, `confocal`, `STORM` and `cryoTEM`:"
   ]
  },
  {
   "cell_type": "code",
   "execution_count": 76,
   "metadata": {
    "execution": {
     "iopub.execute_input": "2025-02-11T02:11:15.302147Z",
     "iopub.status.busy": "2025-02-11T02:11:15.302035Z",
     "iopub.status.idle": "2025-02-11T02:11:15.305842Z",
     "shell.execute_reply": "2025-02-11T02:11:15.305587Z",
     "shell.execute_reply.started": "2025-02-11T02:11:15.302136Z"
    }
   },
   "outputs": [
    {
     "data": {
      "text/plain": [
       "{'microCT': 12, 'FIB-SEM': 5, 'confocal': 36, 'STORM': 6, 'cryoTEM': 2}"
      ]
     },
     "execution_count": 76,
     "metadata": {},
     "output_type": "execute_result"
    }
   ],
   "source": [
    "# Your code here: dictionary example for image_counts\n",
    "\n",
    "image_counts = {\"microCT\": 12, \"FIB-SEM\": 5, \"confocal\": 36, \"STORM\": 6, \"cryoTEM\": 2}\n",
    "\n",
    "image_counts"
   ]
  },
  {
   "cell_type": "markdown",
   "metadata": {},
   "source": [
    "Now, there are lots of operations that we can do on dictionaries!"
   ]
  },
  {
   "cell_type": "markdown",
   "metadata": {},
   "source": [
    "#### Accessing and Modifying Dictionary Entries\n",
    "\n",
    "Recall that in strings, tuples and lists we used the square brackets `[]` for indexing. We're still going to use them here, but instead of using a *numeric* index, we put a key in the brackets instead. We can then perform our usual operations of retrieving and replacing values."
   ]
  },
  {
   "cell_type": "code",
   "execution_count": 77,
   "metadata": {
    "execution": {
     "iopub.execute_input": "2025-02-11T02:11:15.306538Z",
     "iopub.status.busy": "2025-02-11T02:11:15.306415Z",
     "iopub.status.idle": "2025-02-11T02:11:15.308413Z",
     "shell.execute_reply": "2025-02-11T02:11:15.308167Z",
     "shell.execute_reply.started": "2025-02-11T02:11:15.306528Z"
    }
   },
   "outputs": [
    {
     "name": "stdout",
     "output_type": "stream",
     "text": [
      "We have 12 microCT scans in our database!\n",
      "Imaging database now has the following datasets: {'microCT': 12, 'FIB-SEM': 5, 'confocal': 39, 'STORM': 6, 'cryoTEM': 2}\n"
     ]
    }
   ],
   "source": [
    "# Your code here to access the number of microCT scans and store it in micro_ct_scans\n",
    "micro_ct_scans = image_counts[\"microCT\"]\n",
    "\n",
    "print(f\"We have {micro_ct_scans} microCT scans in our database!\")\n",
    "\n",
    "# Your code here to modify the number of confocal images\n",
    "image_counts[\"confocal\"] = 39\n",
    "\n",
    "print(\"Imaging database now has the following datasets:\", image_counts)\n"
   ]
  },
  {
   "cell_type": "markdown",
   "metadata": {},
   "source": [
    "**Note:** Remember, unless your keys are numbers, you **cannot** use numerical indexing to select elements. You **must** use a valid key.\n",
    "\n",
    "**Warning:** You **cannot** do slicing on a dictionary!"
   ]
  },
  {
   "cell_type": "markdown",
   "metadata": {},
   "source": [
    "#### Adding Keys\n",
    "\n",
    "Adding new elements to a dictionary is easy! We just need the new key and the new value, and then we write:\n",
    "```python\n",
    "    my_dictionary[new_key] = new_value\n",
    "```\n",
    "\n",
    "For example:"
   ]
  },
  {
   "cell_type": "code",
   "execution_count": 78,
   "metadata": {
    "execution": {
     "iopub.execute_input": "2025-02-11T02:11:15.308945Z",
     "iopub.status.busy": "2025-02-11T02:11:15.308856Z",
     "iopub.status.idle": "2025-02-11T02:11:15.311029Z",
     "shell.execute_reply": "2025-02-11T02:11:15.310774Z",
     "shell.execute_reply.started": "2025-02-11T02:11:15.308935Z"
    }
   },
   "outputs": [
    {
     "name": "stdout",
     "output_type": "stream",
     "text": [
      "Our imaging database now has the following datasets available: {'microCT': 12, 'FIB-SEM': 5, 'confocal': 39, 'STORM': 6, 'cryoTEM': 2, 'TEM': 10}\n"
     ]
    }
   ],
   "source": [
    "# Your code here to add TEM to our imaging database\n",
    "image_counts[\"TEM\"] = 10\n",
    "\n",
    "print(f\"Our imaging database now has the following datasets available: {image_counts}\")"
   ]
  },
  {
   "cell_type": "markdown",
   "metadata": {},
   "source": [
    "#### Removing Entries\n",
    "\n",
    "To remove an entry, we can again use the `del` keyword, or we can use `pop`. Like with lists, `pop` gives us the value that we removed in a variable."
   ]
  },
  {
   "cell_type": "code",
   "execution_count": 79,
   "metadata": {
    "execution": {
     "iopub.execute_input": "2025-02-11T02:11:15.311523Z",
     "iopub.status.busy": "2025-02-11T02:11:15.311436Z",
     "iopub.status.idle": "2025-02-11T02:11:15.313468Z",
     "shell.execute_reply": "2025-02-11T02:11:15.313185Z",
     "shell.execute_reply.started": "2025-02-11T02:11:15.311513Z"
    }
   },
   "outputs": [
    {
     "name": "stdout",
     "output_type": "stream",
     "text": [
      "The number of STORM datasets was: 6\n",
      "Our dictionary is now: {'microCT': 12, 'FIB-SEM': 5, 'confocal': 39, 'cryoTEM': 2, 'TEM': 10}\n"
     ]
    }
   ],
   "source": [
    "# Your code here to remove the STORM datasets and store them in a variable storm_datasets\n",
    "storm_datasets = image_counts.pop(\"STORM\")\n",
    "\n",
    "print(\"The number of STORM datasets was:\", storm_datasets)\n",
    "\n",
    "print(\"Our dictionary is now:\", image_counts)"
   ]
  },
  {
   "cell_type": "markdown",
   "metadata": {},
   "source": [
    "#### Other Operations\n",
    "\n",
    "Much of the expected behaviour of dictionaries is similar to lists. There are a few methods that are exclusively used by dictionaries:\n",
    "* The `keys` method returns the keys in the dictionary.\n",
    "* The `values` method returns the values in the dictionary.\n",
    "* The `items` method returns tuples containing `(key, value)` pairs.\n",
    "* The `update` method can be used for combining dictionaries (Concatenation doesn't work!). **This method updates the current dictionary and does not produce a new one!**"
   ]
  },
  {
   "cell_type": "code",
   "execution_count": 80,
   "metadata": {
    "execution": {
     "iopub.execute_input": "2025-02-11T02:11:15.314004Z",
     "iopub.status.busy": "2025-02-11T02:11:15.313885Z",
     "iopub.status.idle": "2025-02-11T02:11:15.315902Z",
     "shell.execute_reply": "2025-02-11T02:11:15.315678Z",
     "shell.execute_reply.started": "2025-02-11T02:11:15.313995Z"
    }
   },
   "outputs": [
    {
     "name": "stdout",
     "output_type": "stream",
     "text": [
      "The keys are: dict_keys(['microCT', 'FIB-SEM', 'confocal', 'cryoTEM', 'TEM'])\n",
      "The values are: dict_values([12, 5, 39, 2, 10])\n",
      "The items are: dict_items([('microCT', 12), ('FIB-SEM', 5), ('confocal', 39), ('cryoTEM', 2), ('TEM', 10)])\n"
     ]
    }
   ],
   "source": [
    "# Your code here\n",
    "my_keys = image_counts.keys()\n",
    "my_values = image_counts.values()\n",
    "my_items = image_counts.items()\n",
    "\n",
    "print(\"The keys are:\", my_keys)\n",
    "print(\"The values are:\", my_values)\n",
    "print(\"The items are:\", my_items)"
   ]
  },
  {
   "cell_type": "code",
   "execution_count": 81,
   "metadata": {
    "execution": {
     "iopub.execute_input": "2025-02-11T02:11:15.316458Z",
     "iopub.status.busy": "2025-02-11T02:11:15.316328Z",
     "iopub.status.idle": "2025-02-11T02:11:15.318235Z",
     "shell.execute_reply": "2025-02-11T02:11:15.317998Z",
     "shell.execute_reply.started": "2025-02-11T02:11:15.316448Z"
    }
   },
   "outputs": [
    {
     "name": "stdout",
     "output_type": "stream",
     "text": [
      "Imaging catalogue now has data: {'microCT': 12, 'FIB-SEM': 5, 'confocal': 39, 'cryoTEM': 2, 'TEM': 10, 'synchrotron': 3, 'STEM': 4}\n"
     ]
    }
   ],
   "source": [
    "new_datasets = {\n",
    "    \"synchrotron\": 3,\n",
    "    \"STEM\": 4,\n",
    "}\n",
    "\n",
    "# Your code here to update the dictionary\n",
    "image_counts.update(new_datasets)\n",
    "\n",
    "print(\"Imaging catalogue now has data:\", image_counts)"
   ]
  },
  {
   "cell_type": "markdown",
   "metadata": {},
   "source": [
    "#### Dictionary Iteration\n",
    "\n",
    "To do things with all data stored in the dictionary, we don't usually iterate over indices. Instead, we can iterate over the keys, or the values, or the `items` which contain both. To iterate over the keys, we can just do the following:\n",
    "\n",
    "```python\n",
    "for k in my_dictionary:\n",
    "    do_something\n",
    "```\n",
    "\n",
    "To iterate over the keys, values or item tuples explicitly, just put the appropriate method call in the `for` loop. For example:\n",
    "\n",
    "```python\n",
    "for v in my_dictionary.values():\n",
    "    do_something\n",
    "```\n",
    "\n",
    "As an example, let's find the average of our imaging catalogue counts from above:"
   ]
  },
  {
   "cell_type": "code",
   "execution_count": 82,
   "metadata": {
    "execution": {
     "iopub.execute_input": "2025-02-11T02:11:15.318823Z",
     "iopub.status.busy": "2025-02-11T02:11:15.318735Z",
     "iopub.status.idle": "2025-02-11T02:11:15.321172Z",
     "shell.execute_reply": "2025-02-11T02:11:15.320935Z",
     "shell.execute_reply.started": "2025-02-11T02:11:15.318814Z"
    }
   },
   "outputs": [
    {
     "name": "stdout",
     "output_type": "stream",
     "text": [
      "The average number of image datasets is 12.2\n"
     ]
    }
   ],
   "source": [
    "image_counts = {\n",
    "    \"microCT\": 12,\n",
    "    \"FIB-SEM\": 5,\n",
    "    \"confocal\": 36,\n",
    "    \"STORM\": 6,\n",
    "    \"cryoTEM\": 2\n",
    "}\n",
    "\n",
    "# Your code here to compute the average number of datasets for the modalities and store it in average_count\n",
    "number_of_datasets = 0\n",
    "\n",
    "for modality in image_counts:\n",
    "    n = image_counts[modality]\n",
    "    number_of_datasets += n\n",
    "\n",
    "average_count = number_of_datasets / len(image_counts)\n",
    "\n",
    "print(\"The average number of image datasets is\", average_count)"
   ]
  },
  {
   "cell_type": "markdown",
   "metadata": {},
   "source": [
    "#### Dictionary Summary\n",
    "\n",
    "We've reached the end of the dictionary section. Here are the highlights:\n",
    "\n",
    "* Dictionaries store **key-value** pairs.\n",
    "* Instead of using a numerical index, a **key** must be used to look up a value.\n",
    "* Dictionaries are **mutable**, so we can easily add and remove keys, and change the values associated with each key.\n",
    "\n",
    "Now that we're done covering our basic collection types, let's do some exercises!"
   ]
  },
  {
   "cell_type": "markdown",
   "metadata": {},
   "source": [
    "## Exercises: Working with Strings and Collections for DNA and Protein Processing\n",
    "\n",
    "Earlier, we were looking at temperatures. Now, let's do some more biological exercises. DNA, RNA and proteins can be easily represented using Python collections. In these exercises, we're going to implement the fundamental gene expression steps: **transcription** and **translation**.\n",
    "\n",
    "DNA and RNA are both **nucleic acids** that are composed of sequences of **nucleotides**. We won't go into the chemical details here (there are plenty of biology textbooks and Wikipedia pages for that), but here are the important ideas:\n",
    "\n",
    "* DNA is composed of **adenine** (`A`), **thymine** (`T`), **guanine** (`G`) and **cytosine** (`C`).\n",
    "  * `A` and `G` are known as **purines** and `T` and `C` are known as **pyrimidines**.\n",
    "* DNA is double-stranded. Each strand consists of a sequence of nucleotides. These two strands interact with each other through **base pairing**. The rules for base pairing are:\n",
    "  * `A` always pairs with `T`.\n",
    "  * `C` always pairs with `G`.\n",
    "* DNA and RNA share *most* of their nucleotides, but they differ in one of the pyrimidines. DNA has thymine `T` while RNA has uracil `U`.\n",
    "* RNA is single-stranded.\n",
    "\n",
    "DNA and RNA are (of course) more complicated, but these are the basics that will be helpful in these exercises."
   ]
  },
  {
   "cell_type": "markdown",
   "metadata": {},
   "source": [
    "### Transcription\n",
    "\n",
    "**Transcription** is the process by which messenger RNA (mRNA) is produced based on DNA. Recall that DNA is **double-stranded**. One strand serves as the **template** for the mRNA, and the new nucleotides forming the mRNA base-pair with this template strand. To obtain an mRNA sequence based on a DNA sequence, we have two possibilities:\n",
    "\n",
    "* If we are considering the *template* strand, we go backwards along the sequence, base-pairing each nucleotide to build up a sequence.\n",
    "* If we are considering the *non-template* strand, we go along the sequence, replacing each `T` with a `U`.\n",
    "\n",
    "Let's consider the following sequence:\n",
    "\n",
    "```\n",
    "AGCAGATGCATTAGCCATTAGTTTGCACCAGTATATGCAGAGTTTAGGAGACCATAATTAACGAGAGCCGATAGCTAGA\n",
    "```\n",
    "\n",
    "1. Assume that this is the **non-template strand**. Transcribe this sequence into mRNA."
   ]
  },
  {
   "cell_type": "code",
   "execution_count": 83,
   "metadata": {
    "execution": {
     "iopub.execute_input": "2025-02-11T02:11:15.321566Z",
     "iopub.status.busy": "2025-02-11T02:11:15.321478Z",
     "iopub.status.idle": "2025-02-11T02:11:15.323893Z",
     "shell.execute_reply": "2025-02-11T02:11:15.323660Z",
     "shell.execute_reply.started": "2025-02-11T02:11:15.321557Z"
    }
   },
   "outputs": [
    {
     "data": {
      "text/plain": [
       "'AGCAGAUGCAUUAGCCAUUAGUUUGCACCAGUAUAUGCAGAGUUUAGGAGACCAUAAUUAACGAGAGCCGAUAGCUAGA'"
      ]
     },
     "execution_count": 83,
     "metadata": {},
     "output_type": "execute_result"
    }
   ],
   "source": [
    "dna_sequence = \"AGCAGATGCATTAGCCATTAGTTTGCACCAGTATATGCAGAGTTTAGGAGACCATAATTAACGAGAGCCGATAGCTAGA\"\n",
    "\n",
    "# Put your code here\n",
    "rna_sequence = dna_sequence.replace(\"T\", \"U\")\n",
    "\n",
    "rna_sequence"
   ]
  },
  {
   "cell_type": "markdown",
   "metadata": {},
   "source": [
    "2. Now, let's assume it is the **template strand**. Perform the transcription."
   ]
  },
  {
   "cell_type": "code",
   "execution_count": 84,
   "metadata": {
    "execution": {
     "iopub.execute_input": "2025-02-11T02:11:15.324452Z",
     "iopub.status.busy": "2025-02-11T02:11:15.324312Z",
     "iopub.status.idle": "2025-02-11T02:11:15.328434Z",
     "shell.execute_reply": "2025-02-11T02:11:15.328173Z",
     "shell.execute_reply.started": "2025-02-11T02:11:15.324442Z"
    }
   },
   "outputs": [
    {
     "name": "stdout",
     "output_type": "stream",
     "text": [
      "AGATCGATAGCCGAGAGCAATTAATACCAGAGGATTTGAGACGTATATGACCACGTTTGATTACCGATTACGTAGACGA\n",
      "-------------------------------------------------------------------------------\n",
      "UCUAGCUAUCGGCUCUCGUUAAUUAUGGUCUCCUAAACUCUGCAUAUACUGGUGCAAACUAAUGGCUAAUGCAUCUGCU\n",
      "UCUAGCUAUCGGCUCUCGUUAAUUAUGGUCUCCUAAACUCUGCAUAUACUGGUGCAAACUAAUGGCUAAUGCAUCUGCU\n",
      "UCUAGCUAUCGGCUCUCGUUAAUUAUGGUCUCCUAAACUCUGCAUAUACUGGUGCAAACUAAUGGCUAAUGCAUCUGCU\n",
      "UCUAGCUAUCGGCUCUCGUUAAUUAUGGUCUCCUAAACUCUGCAUAUACUGGUGCAAACUAAUGGCUAAUGCAUCUGCU\n"
     ]
    }
   ],
   "source": [
    "dna_sequence = \"AGCAGATGCATTAGCCATTAGTTTGCACCAGTATATGCAGAGTTTAGGAGACCATAATTAACGAGAGCCGATAGCTAGA\"\n",
    "\n",
    "# Put your code here\n",
    "\n",
    "# Solution 1\n",
    "reversed_strand = dna_sequence[::-1]\n",
    "\n",
    "print(reversed_strand)\n",
    "print(\"-\"*len(reversed_strand))\n",
    "\n",
    "rna_sequence = \"\"\n",
    "\n",
    "for nucleotide in reversed_strand:\n",
    "    if nucleotide == \"A\":\n",
    "        rna_sequence += \"U\"\n",
    "    elif nucleotide == \"T\":\n",
    "        rna_sequence += \"A\"\n",
    "    elif nucleotide == \"C\":\n",
    "        rna_sequence += \"G\"\n",
    "    elif nucleotide == \"G\":\n",
    "        rna_sequence += \"C\"\n",
    "\n",
    "# Solution 2\n",
    "rna_sequence = \"\"\n",
    "\n",
    "for i in range(len(dna_sequence) - 1, -1, -1):\n",
    "    nucleotide = dna_sequence[i]\n",
    "    if nucleotide == \"A\":\n",
    "        rna_sequence += \"U\"\n",
    "    elif nucleotide == \"T\":\n",
    "        rna_sequence += \"A\"\n",
    "    elif nucleotide == \"C\":\n",
    "        rna_sequence += \"G\"\n",
    "    elif nucleotide == \"G\":\n",
    "        rna_sequence += \"C\"\n",
    "\n",
    "print(rna_sequence)\n",
    "\n",
    "# Solution 3\n",
    "pairings = {\"A\": \"U\", \"T\": \"A\", \"C\": \"G\", \"G\": \"C\"}\n",
    "\n",
    "rna_sequence = \"\"\n",
    "\n",
    "for i in range(len(dna_sequence) - 1, -1, -1):\n",
    "    nucleotide = dna_sequence[i]\n",
    "    rna_sequence += pairings[nucleotide]\n",
    "\n",
    "print(rna_sequence)\n",
    "\n",
    "# Solution 4\n",
    "pairings = {\"A\": \"U\", \"T\": \"A\", \"C\": \"G\", \"G\": \"C\"}\n",
    "\n",
    "rna_sequence = \"\".join([pairings[dna_sequence[i]] for i in range(len(dna_sequence) - 1, -1, -1)])\n",
    "\n",
    "print(rna_sequence)\n",
    "\n",
    "# Solution 5\n",
    "pairings = {\"A\": \"U\", \"T\": \"A\", \"C\": \"G\", \"G\": \"C\"}\n",
    "\n",
    "rna_sequence = \"\".join([pairings[nt] for nt in reversed(dna_sequence)])\n",
    "\n",
    "print(rna_sequence)\n"
   ]
  },
  {
   "cell_type": "markdown",
   "metadata": {},
   "source": [
    "### Translation (Part I)\n",
    "\n",
    "After the DNA is transcribed into mRNA, the mRNA travels to the ribosomes, where it is translated into an amino acid sequence. This translation occurs by **codons** of 3 nucleotides each. But, remember, we need to look for a **start codon** `AUG`.\n",
    "\n",
    "I've given you an mRNA sequence. To prepare for translation, convert the mRNA sequence into a list of codons **starting with the start codon**. Print the number of codons you've found."
   ]
  },
  {
   "cell_type": "code",
   "execution_count": 85,
   "metadata": {
    "execution": {
     "iopub.execute_input": "2025-02-11T02:11:15.328806Z",
     "iopub.status.busy": "2025-02-11T02:11:15.328728Z",
     "iopub.status.idle": "2025-02-11T02:11:15.330366Z",
     "shell.execute_reply": "2025-02-11T02:11:15.330114Z",
     "shell.execute_reply.started": "2025-02-11T02:11:15.328797Z"
    }
   },
   "outputs": [],
   "source": [
    "my_rna = \"AGCAGCAUGACCGAGUCAGUCAGCUUGCGGCUACGUACUGGCCAUUAGCAGUACAGU\"\n",
    "\n",
    "# Your code here"
   ]
  },
  {
   "cell_type": "code",
   "execution_count": 86,
   "metadata": {
    "execution": {
     "iopub.execute_input": "2025-02-11T02:11:15.330799Z",
     "iopub.status.busy": "2025-02-11T02:11:15.330716Z",
     "iopub.status.idle": "2025-02-11T02:11:15.333050Z",
     "shell.execute_reply": "2025-02-11T02:11:15.332813Z",
     "shell.execute_reply.started": "2025-02-11T02:11:15.330790Z"
    }
   },
   "outputs": [
    {
     "name": "stdout",
     "output_type": "stream",
     "text": [
      "We found 17 codons\n",
      "['AUG', 'ACC', 'GAG', 'UCA', 'GUC', 'AGC', 'UUG', 'CGG', 'CUA', 'CGU', 'ACU', 'GGC', 'CAU', 'UAG', 'CAG', 'UAC', 'AGU']\n"
     ]
    }
   ],
   "source": [
    "my_rna = \"AGCAGCAUGACCGAGUCAGUCAGCUUGCGGCUACGUACUGGCCAUUAGCAGUACAGU\"\n",
    "\n",
    "# Your code here\n",
    "\n",
    "# Here are a few hints ...\n",
    "\n",
    "# 1. Create an empty codon list\n",
    "my_codons = []\n",
    "\n",
    "# 2. Find the start codon\n",
    "start_codon_index = my_rna.find(\"AUG\")\n",
    "\n",
    "# 3. Iterate over the string\n",
    "for i in range(start_codon_index, len(my_rna) - 2, 3):\n",
    "    # 4. Get the codon...\n",
    "    new_codon = my_rna[i: i + 3]\n",
    "\n",
    "    # 5. Add codon to list\n",
    "    my_codons.append(new_codon)\n",
    "    \n",
    "\n",
    "print(\"We found\", len(my_codons), \"codons\")\n",
    "print(my_codons)"
   ]
  },
  {
   "cell_type": "markdown",
   "metadata": {},
   "source": [
    "### Translation (Part II)\n",
    "\n",
    "Now that we have a list of codons, we can convert them to amino acids using a codon table. To make things a bit more interesting, I've given you the inverse codon table from https://en.wikipedia.org/wiki/DNA_and_RNA_codon_tables. This table has the amino acids as keys and the list of corresponding codons as the values.\n",
    "\n",
    "**Hint:** As a first step, you may want to create the forward dictionary, with the codons as keys and the amino acid as value. This step isn't *necessary* but it will make your code more efficient (and look nicer).\n",
    "\n",
    "**Recall:** Your list of codons from the DNA sequence earlier should still be in the variable `my_codons`."
   ]
  },
  {
   "cell_type": "code",
   "execution_count": 87,
   "metadata": {
    "execution": {
     "iopub.execute_input": "2025-02-11T02:11:15.333597Z",
     "iopub.status.busy": "2025-02-11T02:11:15.333442Z",
     "iopub.status.idle": "2025-02-11T02:11:15.337739Z",
     "shell.execute_reply": "2025-02-11T02:11:15.337461Z",
     "shell.execute_reply.started": "2025-02-11T02:11:15.333587Z"
    }
   },
   "outputs": [
    {
     "name": "stdout",
     "output_type": "stream",
     "text": [
      "Added new amino acid M for codon AUG!\n",
      "Added new amino acid T for codon ACC!\n",
      "Added new amino acid E for codon GAG!\n",
      "Added new amino acid S for codon UCA!\n",
      "Added new amino acid V for codon GUC!\n",
      "Added new amino acid S for codon AGC!\n",
      "Added new amino acid L for codon UUG!\n",
      "Added new amino acid R for codon CGG!\n",
      "Added new amino acid L for codon CUA!\n",
      "Added new amino acid R for codon CGU!\n",
      "Added new amino acid T for codon ACU!\n",
      "Added new amino acid G for codon GGC!\n",
      "Added new amino acid H for codon CAU!\n",
      "STOP CODON!\n",
      "Our protein has amino acid sequence: MTESVSLRLRTGH\n"
     ]
    }
   ],
   "source": [
    "amino_acid_to_codon_table = {\n",
    "    \"F\": [\"UUU\", \"UUC\"],\n",
    "    \"L\": [\"UUA\", \"UUG\", \"CUU\", \"CUC\", \"CUA\", \"CUG\"],\n",
    "    \"I\": [\"AUU\", \"AUC\", \"AUA\"],\n",
    "    \"M\": [\"AUG\"],\n",
    "    \"V\": [\"GUU\", \"GUC\", \"GUA\", \"GUG\"],\n",
    "    \"S\": [\"UCU\", \"UCC\", \"UCA\", \"UCG\", \"AGU\", \"AGC\"],\n",
    "    \"P\": [\"CCU\", \"CCC\", \"CCA\", \"CCG\"],\n",
    "    \"T\": [\"ACU\", \"ACC\", \"ACA\", \"ACG\"],\n",
    "    \"A\": [\"GCU\", \"GCC\", \"GCA\", \"GCG\"],\n",
    "    \"Y\": [\"UAU\", \"UAC\"],\n",
    "    \"STOP\": [\"UAA\", \"UAG\", \"UGA\"],\n",
    "    \"H\": [\"CAU\", \"CAC\"],\n",
    "    \"Q\": [\"CAA\", \"CAG\"],\n",
    "    \"N\": [\"AAU\", \"AAC\"],\n",
    "    \"K\": [\"AAA\", \"AAG\"],\n",
    "    \"D\": [\"GAU\", \"GAC\"],\n",
    "    \"E\": [\"GAA\", \"GAG\"],\n",
    "    \"C\": [\"UGU\", \"UGC\"],\n",
    "    \"W\": [\"UGG\"],\n",
    "    \"R\": [\"CGU\", \"CGC\", \"CGA\", \"CGG\", \"AGA\", \"AGG\"],\n",
    "    \"G\": [\"GGU\", \"GGC\", \"GGA\", \"GGG\"]\n",
    "}\n",
    "# Your code here\n",
    "\n",
    "# Start by creating a new dictionary where the codons are the keys\n",
    "forward_codon_table = {} # This creates an empty dictionary\n",
    "\n",
    "# Use iteration to create the opposite table: Codons to Amino Acids\n",
    "for amino_acid in amino_acid_to_codon_table:\n",
    "    for codon in amino_acid_to_codon_table[amino_acid]:\n",
    "        forward_codon_table[codon] = amino_acid\n",
    "\n",
    "# Perform the translation on the provided codon list:\n",
    "my_codons = ['AUG', 'ACC', 'GAG', 'UCA', 'GUC', 'AGC', 'UUG', 'CGG',\n",
    "          'CUA', 'CGU', 'ACU', 'GGC', 'CAU', 'UAG', 'CAG', 'UAC', 'AGU']\n",
    "\n",
    "my_protein = \"\"\n",
    "\n",
    "for codon in my_codons:\n",
    "    # Get the corresponding amino acid for the codon\n",
    "    new_amino_acid = forward_codon_table[codon]\n",
    "    \n",
    "    # Check if it is the stop codon\n",
    "    if new_amino_acid == \"STOP\":\n",
    "        print(\"STOP CODON!\")\n",
    "        break # End the loop\n",
    "\n",
    "    # Add the new amino acid to the protein\n",
    "    my_protein += new_amino_acid\n",
    "    print(f\"Added new amino acid {new_amino_acid} for codon {codon}!\")\n",
    "\n",
    "print(\"Our protein has amino acid sequence:\", my_protein)"
   ]
  },
  {
   "cell_type": "markdown",
   "metadata": {},
   "source": [
    "## Module Summary\n",
    "\n",
    "Yay! We've made it through our second content module! Here, we've explored the basics of strings and collection types. Here are the main points that we saw:\n",
    "\n",
    "* An **object** groups together variables, known as **attributes** and functions, known as **methods**.\n",
    "* A **string** represents *text* in Python. We can use **slicing** to access its elements. We can also perform operations, like **concatenation and string formatting**, and use **methods** to get extra info about a string or create modified versions of it.\n",
    "* A **tuple** represents a *small number of objects grouped together*. To access elements, we can either use slicing, or we can **unpack** its contents into the corresponding number of variables. Tuples can't be modified.\n",
    "* A **list** represents a *variable-length collection* of objects. We can add or remove objects from the list using **list methods**, such as `append`, `insert` and `pop`. We can also iterate over all elements of a list using a `for` loop.\n",
    "* A **dictionary** represents *key-value storage*. Instead of having a numeric index, we access **values** using a **key**. We can add or remove elements using keys and we can modify the dictionary using **dictionary methods**, such as `pop` and `update`. We can also use the `keys`, `values` and `items` methods to get different pieces of information.\n",
    "* All of these are **objects**, which means that they store information and have functions, or **methods** associated with them.\n",
    "* We can iterate over all these types of objects to process individual elements.\n",
    "\n",
    "For more information about any of these objects, check out the official Python documentation. There's a lot of detail about each type:\n",
    "* Strings: https://docs.python.org/3/library/stdtypes.html#text-sequence-type-str\n",
    "* Tuples: https://docs.python.org/3/library/stdtypes.html#tuple\n",
    "* Lists: https://docs.python.org/3/library/stdtypes.html#list\n",
    "* Dictionaries: https://docs.python.org/3/library/stdtypes.html#mapping-types-dict\n",
    "\n",
    "Finally, there's another collection type that I didn't discuss, called a *set*. If you want to learn about it, check out this page: https://docs.python.org/3/library/stdtypes.html#set-types-set-frozenset."
   ]
  },
  {
   "cell_type": "markdown",
   "metadata": {},
   "source": [
    "# Module 3 - Introduction to Functions\n",
    "\n",
    "In this module, we'll explore functions. By now, we've used existing functions, like `abs` or `round` or, of course, `print`, as well as methods like `str.replace`. Here, we'll see how to *define* new functions.\n",
    "\n",
    "Here's the outline for this module:\n",
    "\n",
    "1. Function Overview\n",
    "    1. What is a function?\n",
    "2. Writing Custom Functions\n",
    "    1. Basic function definitions\n",
    "    2. Passing inputs: Defining parameters\n",
    "    3. Producing outputs: Return values\n",
    "3. Documenting Functions\n",
    "    1. Defining function docstrings\n",
    "4. *Exercises*\n"
   ]
  },
  {
   "attachments": {},
   "cell_type": "markdown",
   "metadata": {},
   "source": [
    "## Function Overview\n",
    "\n",
    "We saw functions earlier when we were getting a flavour for Python. Let's do a quick recap.\n",
    "\n",
    "### What is a Function?\n",
    "\n",
    "We can think of functions as **machines** that take in **inputs**, run code (do calculations, magic or a bit of both), and then produce an **output** that can be used.\n",
    "\n",
    "The inputs are known as *parameters* or *arguments* and the outputs are known as *return values*.\n",
    "\n",
    "Here's a diagram to illustrate this.\n",
    "\n",
    "![Function as a machine](../assets/function/Function.png)\n",
    "\n",
    "Like anything in Python, a function has a **name**. To run the function, we must **call it** by writing its name, and then including the arguments in brackets.\n",
    "\n",
    "**Remember! Even if the function has no arguments, you must put the brackets!**\n",
    "\n",
    "If the function **returns** a value, we can store it in a variable using the typical `=` assignment.\n",
    "\n",
    "Let's explore the built-in [`round`](https://docs.python.org/3/library/functions.html#round) function:"
   ]
  },
  {
   "cell_type": "code",
   "execution_count": 88,
   "metadata": {
    "execution": {
     "iopub.execute_input": "2025-02-11T02:11:15.338184Z",
     "iopub.status.busy": "2025-02-11T02:11:15.338092Z",
     "iopub.status.idle": "2025-02-11T02:11:15.340061Z",
     "shell.execute_reply": "2025-02-11T02:11:15.339813Z",
     "shell.execute_reply.started": "2025-02-11T02:11:15.338174Z"
    }
   },
   "outputs": [
    {
     "name": "stdout",
     "output_type": "stream",
     "text": [
      "3\n"
     ]
    }
   ],
   "source": [
    "# Your code here\n",
    "\n",
    "my_float = 3.4\n",
    "\n",
    "my_rounded_number = round(my_float)\n",
    "\n",
    "print(my_rounded_number)"
   ]
  },
  {
   "cell_type": "markdown",
   "metadata": {},
   "source": [
    "We can learn more about any function using the built-in `help` function:"
   ]
  },
  {
   "cell_type": "code",
   "execution_count": 89,
   "metadata": {
    "execution": {
     "iopub.execute_input": "2025-02-11T02:11:15.340434Z",
     "iopub.status.busy": "2025-02-11T02:11:15.340356Z",
     "iopub.status.idle": "2025-02-11T02:11:15.342637Z",
     "shell.execute_reply": "2025-02-11T02:11:15.342368Z",
     "shell.execute_reply.started": "2025-02-11T02:11:15.340424Z"
    }
   },
   "outputs": [
    {
     "name": "stdout",
     "output_type": "stream",
     "text": [
      "Help on built-in function round in module builtins:\n",
      "\n",
      "round(number, ndigits=None)\n",
      "    Round a number to a given precision in decimal digits.\n",
      "\n",
      "    The return value is an integer if ndigits is omitted or None.  Otherwise\n",
      "    the return value has the same type as the number.  ndigits may be negative.\n",
      "\n"
     ]
    }
   ],
   "source": [
    "# Your code here\n",
    "\n",
    "help(round)"
   ]
  },
  {
   "cell_type": "markdown",
   "metadata": {},
   "source": [
    "This help documentation, known as a **docstring** tells us important information about the function. It describes the parameters and return values, as well as any quirks that the function may have.\n",
    "\n",
    "In addition to using the `help` function, we can also read the docstring online, at the official Python documentation: https://docs.python.org/3/library/functions.html#round."
   ]
  },
  {
   "cell_type": "markdown",
   "metadata": {},
   "source": [
    "## Writing Custom Functions\n",
    "\n",
    "Now that we've review what functions are and how to *use* them, let's dive into **defining** our own.\n",
    "\n",
    "### Why write our own functions?\n",
    "\n",
    "It's all good and fun to write all the steps you want to do line-by-line. But, let's say you want to run the same set of steps multiple times, potentially on different inputs. You could just copy-paste the code... but what happens if you have to change it? You'll have to change all the copies!\n",
    "\n",
    "Instead of copying the code, we can write new **functions**."
   ]
  },
  {
   "cell_type": "markdown",
   "metadata": {},
   "source": [
    "### A Bit of Syntax\n",
    "\n",
    "In Python, functions are defined using the `def` keyword. The syntax is:\n",
    "\n",
    "```python\n",
    "\n",
    "def function_name(argument1, argument2, argument3, ..., argumentN):\n",
    "    \"\"\"\n",
    "    documentation here\n",
    "    \"\"\"\n",
    "\n",
    "    your_code_here...\n",
    "\n",
    "    return some_value\n",
    "\n",
    "```\n",
    "Here are the important elements to notice when **defining** a function:\n",
    "\n",
    "* The function definition begins with the `def` keyword. This is similar to the `function` keyword in Javascript, or the `func` keyword in Swift.\n",
    "* The **function name** follows the same rules as variable names. There are different naming conventions for names that consist of multiple words (`snake_case` vs `camelCase`). By common convention, the function name starts with a **lowercase** letter.\n",
    "* After the function name, you can include a list of parameters in parentheses. **If your function takes no arguments, you must still put the brackets.** Each argument in the list must have a valid variable name. We'll discuss these in more detail later.\n",
    "* After closing the argument list bracket, we put a **colon** (`:`).\n",
    "* After the first line, we must **indent**. This tells Python where the function body begins and ends.\n",
    "* We can start the body with a **docstring**, which describes the function. We'll discuss these more later.\n",
    "* Then, you write your code as normal. In this function body, treat the arguments **like normal variables**.\n",
    "* To **output** a result that can be used later, use the keyword `return`, followed by the result. We'll discuss this more later.\n",
    "* After finishing to define the function, simply stop indenting. There's no need to close any brackets or type `end`."
   ]
  },
  {
   "cell_type": "markdown",
   "metadata": {},
   "source": [
    "To demonstrate, let's write a function with no arguments that simply prints a string onto the screen:"
   ]
  },
  {
   "cell_type": "code",
   "execution_count": 90,
   "metadata": {
    "execution": {
     "iopub.execute_input": "2025-02-11T02:11:15.343048Z",
     "iopub.status.busy": "2025-02-11T02:11:15.342912Z",
     "iopub.status.idle": "2025-02-11T02:11:15.344610Z",
     "shell.execute_reply": "2025-02-11T02:11:15.344327Z",
     "shell.execute_reply.started": "2025-02-11T02:11:15.343038Z"
    }
   },
   "outputs": [],
   "source": [
    "# Your code here\n",
    "\n",
    "def do_nothing():\n",
    "    print(\"Not much going on...\")"
   ]
  },
  {
   "cell_type": "markdown",
   "metadata": {},
   "source": [
    "Wait! What happened? Or well, what didn't happen? We didn't see any string... What's going on?\n",
    "\n",
    "Well, we only **defined** the function. To actually run the function we must *call* it. To call a function, simply write the name of the function, followed by the desired arguments in brackets. **If the function takes no arguments, you must still type the empty brackets.**"
   ]
  },
  {
   "cell_type": "markdown",
   "metadata": {},
   "source": [
    "Let's call our function we just defined:"
   ]
  },
  {
   "cell_type": "code",
   "execution_count": 91,
   "metadata": {
    "execution": {
     "iopub.execute_input": "2025-02-11T02:11:15.345207Z",
     "iopub.status.busy": "2025-02-11T02:11:15.345005Z",
     "iopub.status.idle": "2025-02-11T02:11:15.346953Z",
     "shell.execute_reply": "2025-02-11T02:11:15.346706Z",
     "shell.execute_reply.started": "2025-02-11T02:11:15.345197Z"
    }
   },
   "outputs": [
    {
     "name": "stdout",
     "output_type": "stream",
     "text": [
      "Not much going on...\n"
     ]
    }
   ],
   "source": [
    "# Your code here\n",
    "\n",
    "do_nothing()"
   ]
  },
  {
   "cell_type": "markdown",
   "metadata": {},
   "source": [
    "### Function Parameters\n",
    "\n",
    "This function worked, but we didn't really put the *fun* in *function*.\n",
    "\n",
    "We said that a function takes input and produces output... This does neither!!! So, let's create a function with some parameters! Let's look at the specific syntax:\n",
    "\n",
    "```python\n",
    "\n",
    "def my_function(arg1, arg2, arg3, ..., argN):\n",
    "    my_code...\n",
    "\n",
    "```\n",
    "\n",
    "We separate each parameter using **commas (,)**. We can then refer to these as variables in the function body. In this case, in the function body's code, you can refer to `arg1` just as you would any other variable.\n",
    "\n",
    "As an example, let's write a function that takes a DNA sequence as input and prints the transcribed RNA. To make it more interesting, let's add an extra parameter that indicates whether we are considering the sequence to be on the template strand or not. For simplicity, let's ignore the directionality of DNA.\n",
    "\n",
    "Remember, if the DNA is on the template strand, we must perform base-pairing!"
   ]
  },
  {
   "cell_type": "code",
   "execution_count": 92,
   "metadata": {
    "execution": {
     "iopub.execute_input": "2025-02-11T02:11:15.347401Z",
     "iopub.status.busy": "2025-02-11T02:11:15.347318Z",
     "iopub.status.idle": "2025-02-11T02:11:15.350529Z",
     "shell.execute_reply": "2025-02-11T02:11:15.350180Z",
     "shell.execute_reply.started": "2025-02-11T02:11:15.347391Z"
    }
   },
   "outputs": [],
   "source": [
    "# Your code here\n",
    "\n",
    "def transcribe(dna, is_template_strand):\n",
    "    if not is_template_strand:\n",
    "        rna_sequence = dna.replace(\"T\", \"U\")\n",
    "    else:\n",
    "        base_pairs = {\"A\": \"U\", \"C\": \"G\", \"T\": \"A\", \"G\": \"C\"}\n",
    "        rna_sequence = \"\"\n",
    "        for nt in dna:\n",
    "            rna_sequence += base_pairs[nt]\n",
    "    print(rna_sequence)"
   ]
  },
  {
   "cell_type": "markdown",
   "metadata": {},
   "source": [
    "And now, let's call this function using a specific sequence."
   ]
  },
  {
   "cell_type": "code",
   "execution_count": 93,
   "metadata": {
    "execution": {
     "iopub.execute_input": "2025-02-11T02:11:15.350976Z",
     "iopub.status.busy": "2025-02-11T02:11:15.350865Z",
     "iopub.status.idle": "2025-02-11T02:11:15.353791Z",
     "shell.execute_reply": "2025-02-11T02:11:15.353384Z",
     "shell.execute_reply.started": "2025-02-11T02:11:15.350966Z"
    }
   },
   "outputs": [
    {
     "name": "stdout",
     "output_type": "stream",
     "text": [
      "UUAAUCGCUCGGCUUAUAUAUCGGCGCUAAGUCUGUCAAGGUCGCGU\n"
     ]
    }
   ],
   "source": [
    "my_sequence = \"AATTAGCGAGCCGAATATATAGCCGCGATTCAGACAGTTCCAGCGCA\"\n",
    "\n",
    "# Your code here\n",
    "transcribe(my_sequence, True)"
   ]
  },
  {
   "cell_type": "markdown",
   "metadata": {},
   "source": [
    "This works well! Except, what if most of the time, we're going to call the function on the template strand? It would be nice if we didn't have to specify this argument every time we call the function and if we could give it a default value."
   ]
  },
  {
   "cell_type": "markdown",
   "metadata": {},
   "source": [
    "#### Keyword Arguments\n",
    "\n",
    "Good news! We can set default values for function arguments. These are known as *keyword* arguments. Values without a default value are known as *positional* arguments. To specify the default value, simply assign the value with `=`:\n",
    "\n",
    "```python\n",
    "\n",
    "def my_function(my_positional_arg, my_kw_arg=default_value):\n",
    "    ...\n",
    "\n",
    "```\n",
    "\n",
    "Let's extend our transcription example to set a default value for the `is_template_strand` parameter:"
   ]
  },
  {
   "cell_type": "code",
   "execution_count": 94,
   "metadata": {
    "execution": {
     "iopub.execute_input": "2025-02-11T02:11:15.354357Z",
     "iopub.status.busy": "2025-02-11T02:11:15.354221Z",
     "iopub.status.idle": "2025-02-11T02:11:15.356515Z",
     "shell.execute_reply": "2025-02-11T02:11:15.356216Z",
     "shell.execute_reply.started": "2025-02-11T02:11:15.354346Z"
    }
   },
   "outputs": [],
   "source": [
    "# Your code here to modify the function\n",
    "\n",
    "def transcribe(dna, is_template_strand=True):\n",
    "    if not is_template_strand:\n",
    "        rna_sequence = dna.replace(\"T\", \"U\")\n",
    "    else:\n",
    "        base_pairs = {\"A\": \"U\", \"C\": \"G\", \"T\": \"A\", \"G\": \"C\"}\n",
    "        rna_sequence = \"\"\n",
    "        for nt in dna:\n",
    "            rna_sequence += base_pairs[nt]\n",
    "    print(rna_sequence)"
   ]
  },
  {
   "cell_type": "markdown",
   "metadata": {},
   "source": [
    "So, now we can call the function without having to specify a value for the second parameter:"
   ]
  },
  {
   "cell_type": "code",
   "execution_count": 95,
   "metadata": {
    "execution": {
     "iopub.execute_input": "2025-02-11T02:11:15.357012Z",
     "iopub.status.busy": "2025-02-11T02:11:15.356894Z",
     "iopub.status.idle": "2025-02-11T02:11:15.358921Z",
     "shell.execute_reply": "2025-02-11T02:11:15.358677Z",
     "shell.execute_reply.started": "2025-02-11T02:11:15.357003Z"
    }
   },
   "outputs": [
    {
     "name": "stdout",
     "output_type": "stream",
     "text": [
      "UUAAUCGCUCGGCUUAUAUAUCGGCGCUAAGUCUGUCAAGGUCGCGU\n"
     ]
    }
   ],
   "source": [
    "transcribe(my_sequence)"
   ]
  },
  {
   "cell_type": "markdown",
   "metadata": {},
   "source": [
    "There are a few **important rules** to remember about positional and keyword arguments:\n",
    "\n",
    "1. Positional arguments **always** come first, both when defining and when calling functions.\n",
    "2. When calling a function, you **must** include **all** positional arguments, but you can omit keyword arguments (since they have default values).\n",
    "3. Keyword arguments can be passed in **any order**, but positional arguments must be kept in the same order."
   ]
  },
  {
   "cell_type": "markdown",
   "metadata": {},
   "source": [
    "### Function Return Values\n",
    "\n",
    "So, we've seen how to pass information into functions, but now, how do we get information out? The answer is **return values**. These return values let us capture the result of a function, which we can then use like a normal variable in code. To return a value, we simply type `return` followed by the value we want to return.\n",
    "\n",
    "Here's the syntax:\n",
    "```python\n",
    "\n",
    "def my_function(...):\n",
    "    ...\n",
    "\n",
    "    my_result = ...\n",
    "\n",
    "    ...\n",
    "\n",
    "    return my_result\n",
    "\n",
    "```\n",
    "\n",
    "Let's now switch our previous transcription function to *return* the mRNA instead of simply printing it:"
   ]
  },
  {
   "cell_type": "code",
   "execution_count": 96,
   "metadata": {
    "execution": {
     "iopub.execute_input": "2025-02-11T02:11:15.359454Z",
     "iopub.status.busy": "2025-02-11T02:11:15.359357Z",
     "iopub.status.idle": "2025-02-11T02:11:15.361504Z",
     "shell.execute_reply": "2025-02-11T02:11:15.361247Z",
     "shell.execute_reply.started": "2025-02-11T02:11:15.359445Z"
    }
   },
   "outputs": [],
   "source": [
    "# Your code here to modify the function to return a result\n",
    "\n",
    "def transcribe(dna, is_template_strand=True):\n",
    "    if not is_template_strand:\n",
    "        return dna.replace(\"T\", \"U\")\n",
    "    else:\n",
    "        base_pairs = {\"A\": \"U\", \"C\" : \"G\", \"T\": \"A\", \"G\": \"C\"}\n",
    "        rna_sequence = \"\"\n",
    "        for nt in dna:\n",
    "            rna_sequence += base_pairs[nt]\n",
    "        return rna_sequence"
   ]
  },
  {
   "cell_type": "markdown",
   "metadata": {},
   "source": [
    "So, this is how to return the value. Now, let's see how to capture and use it. To capture the value, we simply assign it to a variable, like normal, using the equal sign `=`."
   ]
  },
  {
   "cell_type": "code",
   "execution_count": 97,
   "metadata": {
    "execution": {
     "iopub.execute_input": "2025-02-11T02:11:15.362012Z",
     "iopub.status.busy": "2025-02-11T02:11:15.361913Z",
     "iopub.status.idle": "2025-02-11T02:11:15.363783Z",
     "shell.execute_reply": "2025-02-11T02:11:15.363531Z",
     "shell.execute_reply.started": "2025-02-11T02:11:15.362001Z"
    }
   },
   "outputs": [
    {
     "name": "stdout",
     "output_type": "stream",
     "text": [
      "UUAAUCGCUCGGCUUAUAUAUCGGCGCUAAGUCUGUCAAGGUCGCGU\n"
     ]
    }
   ],
   "source": [
    "# Your code here\n",
    "my_rna_sequence = transcribe(my_sequence)\n",
    "\n",
    "print(my_rna_sequence)"
   ]
  },
  {
   "cell_type": "markdown",
   "metadata": {},
   "source": [
    "**Note:** If your code has multiple branches, you can put multiple return statements in your code. **But**, once your code reaches the `return` line, the function **stops** and returns to the code that called it. Any code that you've written after the `return` statement **will not run**.\n",
    "\n",
    "Let's just repeat that again: **Code underneath a `return` statement WILL NOT RUN.**\n",
    "\n",
    "If you're using a good code editor, it will give you a warning about this \"dead code\"."
   ]
  },
  {
   "cell_type": "markdown",
   "metadata": {},
   "source": [
    "We can also return *multiple* values using tuples, lists or dictionaries. For example, let's say we want to count the number of each type of nucleotide in a sequence of DNA:"
   ]
  },
  {
   "cell_type": "code",
   "execution_count": 98,
   "metadata": {
    "execution": {
     "iopub.execute_input": "2025-02-11T02:11:15.364217Z",
     "iopub.status.busy": "2025-02-11T02:11:15.364136Z",
     "iopub.status.idle": "2025-02-11T02:11:15.366406Z",
     "shell.execute_reply": "2025-02-11T02:11:15.366130Z",
     "shell.execute_reply.started": "2025-02-11T02:11:15.364207Z"
    }
   },
   "outputs": [],
   "source": [
    "# Your code here\n",
    "\n",
    "def count_nucleotides(dna_sequence):\n",
    "    number_of_a = 0\n",
    "    number_of_t = 0\n",
    "    number_of_c = 0\n",
    "    number_of_g = 0\n",
    "\n",
    "    dna_sequence = dna_sequence.upper()\n",
    "\n",
    "    for nt in dna_sequence:\n",
    "        if nt == \"A\":\n",
    "            number_of_a += 1\n",
    "        elif nt == \"T\":\n",
    "            number_of_t += 1\n",
    "        elif nt == \"C\":\n",
    "            number_of_c += 1\n",
    "        else:\n",
    "            number_of_g += 1\n",
    "    \n",
    "    return number_of_a, number_of_t, number_of_c, number_of_g"
   ]
  },
  {
   "cell_type": "markdown",
   "metadata": {},
   "source": [
    "Now, let's run this code on our example sequence:"
   ]
  },
  {
   "cell_type": "code",
   "execution_count": 99,
   "metadata": {
    "execution": {
     "iopub.execute_input": "2025-02-11T02:11:15.366965Z",
     "iopub.status.busy": "2025-02-11T02:11:15.366830Z",
     "iopub.status.idle": "2025-02-11T02:11:15.368729Z",
     "shell.execute_reply": "2025-02-11T02:11:15.368349Z",
     "shell.execute_reply.started": "2025-02-11T02:11:15.366955Z"
    }
   },
   "outputs": [
    {
     "name": "stdout",
     "output_type": "stream",
     "text": [
      "(15, 9, 12, 11)\n"
     ]
    }
   ],
   "source": [
    "# Your code here\n",
    "my_counts = count_nucleotides(my_sequence)\n",
    "\n",
    "print(my_counts)"
   ]
  },
  {
   "cell_type": "markdown",
   "metadata": {},
   "source": [
    "This is great! But let's say you get this function from someone else to import and use in your own code. You don't want to have to find this function and read all the code just to use it... But, how do we know what parameters this function takes and what values it returns..."
   ]
  },
  {
   "cell_type": "markdown",
   "metadata": {},
   "source": [
    "## Documenting Functions\n",
    "\n",
    "The answer to this question is **documentation**. Remember how we looked at the `help` for the `round` function earlier? We can do the same thing for our custom functions!\n",
    "\n",
    "### Defining Function Docstrings\n",
    "\n",
    "When defining a function, we can provide a *docstring*, which describes the important information about a function in a **human-readable** form. The docstring is just a string that a person can read to learn more about a function. If you're using a code editor or IDE, like VS code or PyCharm, this string appears when you hover your mouse over a function. The information contained in this docstring can include:\n",
    "\n",
    "* A brief description of the function.\n",
    "* A longer description of the function. If you're implementing an existing approach, it could be good to include a citation here. You can also include equations here.\n",
    "* A description of the function parameters, including their types.\n",
    "* A description of the function return values, as well as their types. This is especially useful if you are returning multiple values and need to include their order.\n",
    "\n",
    "Let's clarify our previous example by adding a docstring:\n"
   ]
  },
  {
   "cell_type": "code",
   "execution_count": 100,
   "metadata": {
    "execution": {
     "iopub.execute_input": "2025-02-11T02:11:15.369477Z",
     "iopub.status.busy": "2025-02-11T02:11:15.369368Z",
     "iopub.status.idle": "2025-02-11T02:11:15.372237Z",
     "shell.execute_reply": "2025-02-11T02:11:15.371967Z",
     "shell.execute_reply.started": "2025-02-11T02:11:15.369466Z"
    }
   },
   "outputs": [],
   "source": [
    "# Your code here to add a docstring to our function\n",
    "\n",
    "def count_nucleotides(dna_sequence):\n",
    "    \"\"\"Count nucleotides in a DNA sequence.\n",
    "\n",
    "    Parameters\n",
    "    ----------\n",
    "    dna_sequence: str\n",
    "        String containing a DNA sequence.\n",
    "\n",
    "    Returns\n",
    "    -------\n",
    "    a : int\n",
    "        Number of A nucleotides\n",
    "    t : int\n",
    "        Number of T nucleotides\n",
    "    c : int\n",
    "        Number of C nucleotides\n",
    "    g : int\n",
    "        Number of G nucleotides\n",
    "\n",
    "    Warnings\n",
    "    --------\n",
    "    This function only works on DNA sequences.\n",
    "    \n",
    "    \"\"\"\n",
    "    \n",
    "    number_of_a = 0\n",
    "    number_of_t = 0\n",
    "    number_of_c = 0\n",
    "    number_of_g = 0\n",
    "\n",
    "    dna_sequence = dna_sequence.upper()\n",
    "\n",
    "    for nt in dna_sequence:\n",
    "        if nt == \"A\":\n",
    "            number_of_a += 1\n",
    "        elif nt == \"T\":\n",
    "            number_of_t += 1\n",
    "        elif nt == \"C\":\n",
    "            number_of_c += 1\n",
    "        else:\n",
    "            number_of_g += 1\n",
    "    \n",
    "    return number_of_a, number_of_t, number_of_c, number_of_g"
   ]
  },
  {
   "cell_type": "markdown",
   "metadata": {},
   "source": [
    "Now that we have a docstring, we can actually read it using the `help` function!"
   ]
  },
  {
   "cell_type": "code",
   "execution_count": 101,
   "metadata": {
    "execution": {
     "iopub.execute_input": "2025-02-11T02:11:15.372893Z",
     "iopub.status.busy": "2025-02-11T02:11:15.372684Z",
     "iopub.status.idle": "2025-02-11T02:11:15.374848Z",
     "shell.execute_reply": "2025-02-11T02:11:15.374620Z",
     "shell.execute_reply.started": "2025-02-11T02:11:15.372881Z"
    }
   },
   "outputs": [
    {
     "name": "stdout",
     "output_type": "stream",
     "text": [
      "Help on function count_nucleotides in module __main__:\n",
      "\n",
      "count_nucleotides(dna_sequence)\n",
      "    Count nucleotides in a DNA sequence.\n",
      "\n",
      "    Parameters\n",
      "    ----------\n",
      "    dna_sequence: str\n",
      "        String containing a DNA sequence.\n",
      "\n",
      "    Returns\n",
      "    -------\n",
      "    a : int\n",
      "        Number of A nucleotides\n",
      "    t : int\n",
      "        Number of T nucleotides\n",
      "    c : int\n",
      "        Number of C nucleotides\n",
      "    g : int\n",
      "        Number of G nucleotides\n",
      "\n",
      "    Warnings\n",
      "    --------\n",
      "    This function only works on DNA sequences.\n",
      "\n"
     ]
    }
   ],
   "source": [
    "# Your code here to look at the help for count_nucleotides.\n",
    "\n",
    "help(count_nucleotides)"
   ]
  },
  {
   "cell_type": "markdown",
   "metadata": {},
   "source": [
    "While there are not many rules for how to write docstrings, there are some guidelines laid out in the Python documentation in [PEP 257](https://peps.python.org/pep-0257/). There are also a number of common conventions used. One is the **numpydoc** style, which is used by the developers of the NumPy project. This style is described online [here](https://numpydoc.readthedocs.io/) and is integrated into some code editors."
   ]
  },
  {
   "cell_type": "markdown",
   "metadata": {},
   "source": [
    "## Exercises: Writing Functions for Biological Sequences\n",
    "\n",
    "### Amino Acid Properties\n",
    "\n",
    "Proteins are composed of sequences of amino acids, arranged in polypeptide sequences. There are 20 common amino acids, which have different properties. We'll focus on polarity and charge. Amino acids are grouped into four categories:\n",
    "1. Non-polar\n",
    "2. Polar\n",
    "3. Acidic\n",
    "4. Basic\n",
    "\n",
    "Let's write a function called `compute_amino_acid_properties` that takes a peptide sequence and returns the number of amino acids falling into each category. I've given you a dictionary with the amino acids and their properties as a starting point (obtained from [Wikipedia](https://en.wikipedia.org/wiki/DNA_and_RNA_codon_tables))."
   ]
  },
  {
   "cell_type": "code",
   "execution_count": 102,
   "metadata": {
    "execution": {
     "iopub.execute_input": "2025-02-11T02:11:15.375296Z",
     "iopub.status.busy": "2025-02-11T02:11:15.375207Z",
     "iopub.status.idle": "2025-02-11T02:11:15.378133Z",
     "shell.execute_reply": "2025-02-11T02:11:15.377883Z",
     "shell.execute_reply.started": "2025-02-11T02:11:15.375286Z"
    }
   },
   "outputs": [],
   "source": [
    "AMINO_ACID_PROPERTIES = {\n",
    "    \"NON_POLAR\": [\"F\", \"L\", \"I\", \"M\", \"V\", \"P\", \"A\", \"W\", \"G\"],\n",
    "    \"POLAR\": [\"S\", \"T\", \"Y\", \"Q\", \"N\", \"C\"],\n",
    "    \"ACIDIC\": [\"D\", \"E\"],\n",
    "    \"BASIC\": [\"H\", \"K\", \"R\"]\n",
    "}\n",
    "\n",
    "# Your code here\n",
    "def compute_amino_acid_properties(seq: str) -> dict[str, int]:\n",
    "    \"\"\"Compute the number of amino acids having different properties.\n",
    "\n",
    "    Parameters\n",
    "    ----------\n",
    "    seq : str\n",
    "        A string containing a sequence of peptides, represented as\n",
    "        single letter symbols.\n",
    "\n",
    "    Returns\n",
    "    -------\n",
    "    dict[str, int]\n",
    "        Dictionary with keys representing the amino acid properties,\n",
    "        ``NON_POLAR``, ``POLAR``, ``ACIDIC`` and ``BASIC``.\n",
    "    \n",
    "    \"\"\"\n",
    "\n",
    "    # Create the dictionary to store the amino acid counts\n",
    "    my_counts_dictionary = {}\n",
    "\n",
    "    # Initialise the dictionary keys\n",
    "    for aa_property in AMINO_ACID_PROPERTIES.keys():\n",
    "        my_counts_dictionary[aa_property] = 0\n",
    "\n",
    "    # Flip the amino acids properties dictionary\n",
    "    amino_acid_properties_flipped = {}\n",
    "\n",
    "    for aa_property in AMINO_ACID_PROPERTIES.keys():\n",
    "        for amino_acid in AMINO_ACID_PROPERTIES[aa_property]:\n",
    "            amino_acid_properties_flipped[amino_acid] = aa_property\n",
    "\n",
    "    # Iterate over the amino acids\n",
    "    for amino_acid in seq:\n",
    "        # Get the property associated with the current amino acid\n",
    "        aa_property = amino_acid_properties_flipped[amino_acid]\n",
    "\n",
    "        # Increment the count in the dictionary\n",
    "        my_counts_dictionary[aa_property] += 1\n",
    "        \n",
    "    # Return the dictionary\n",
    "    return my_counts_dictionary\n",
    "    "
   ]
  },
  {
   "cell_type": "code",
   "execution_count": 103,
   "metadata": {
    "execution": {
     "iopub.execute_input": "2025-02-11T02:11:15.378579Z",
     "iopub.status.busy": "2025-02-11T02:11:15.378488Z",
     "iopub.status.idle": "2025-02-11T02:11:15.380644Z",
     "shell.execute_reply": "2025-02-11T02:11:15.380315Z",
     "shell.execute_reply.started": "2025-02-11T02:11:15.378569Z"
    }
   },
   "outputs": [
    {
     "name": "stdout",
     "output_type": "stream",
     "text": [
      "{'NON_POLAR': 70, 'POLAR': 42, 'ACIDIC': 21, 'BASIC': 17}\n"
     ]
    }
   ],
   "source": [
    "# Here's an artificial amino acid sequence to test with:\n",
    "test_peptide = (\"EDEQLPAMFYDHSRMGQDCTIQYRAFFKFKCDEVVICPRMCRFDM\"\n",
    "                \"GYLSCNWPDQWQFWPPNPHTDSTWVSLDYPLRWDCCRKPHTFEPY\"\n",
    "                \"TMHASWCTERDPDIWACIKDSWMSPFEPQGSWGSTELVKEDPGFF\"\n",
    "                \"SVFALRPCVWAAPTT\")\n",
    "\n",
    "test_peptide_properties = compute_amino_acid_properties(test_peptide)\n",
    "\n",
    "print(test_peptide_properties)"
   ]
  },
  {
   "cell_type": "markdown",
   "metadata": {},
   "source": [
    "### Translation\n",
    "\n",
    "Earlier we wrote code to perform translation. This code worked well, but it would be more helpful if we wrapped it into a function. In this exercise, write and document functions for translation based on the code from the previous module. Then test this function on some artificial mRNA sequences.\n",
    "\n",
    "**BONUS:** Make the function a bit more robust to the input. Use string methods to make the function case-insensitive.\n",
    "\n",
    "**Note:** You may choose to break down the process into *multiple* functions."
   ]
  },
  {
   "cell_type": "code",
   "execution_count": 104,
   "metadata": {
    "execution": {
     "iopub.execute_input": "2025-02-11T02:11:15.381046Z",
     "iopub.status.busy": "2025-02-11T02:11:15.380962Z",
     "iopub.status.idle": "2025-02-11T02:11:15.386371Z",
     "shell.execute_reply": "2025-02-11T02:11:15.385874Z",
     "shell.execute_reply.started": "2025-02-11T02:11:15.381037Z"
    }
   },
   "outputs": [],
   "source": [
    "# Your code here\n",
    "\n",
    "# Create the codon table\n",
    "amino_acid_to_codon_table = {\n",
    "    \"F\": [\"UUU\", \"UUC\"],\n",
    "    \"L\": [\"UUA\", \"UUG\", \"CUU\", \"CUC\", \"CUA\", \"CUG\"],\n",
    "    \"I\": [\"AUU\", \"AUC\", \"AUA\"],\n",
    "    \"M\": [\"AUG\"],\n",
    "    \"V\": [\"GUU\", \"GUC\", \"GUA\", \"GUG\"],\n",
    "    \"S\": [\"UCU\", \"UCC\", \"UCA\", \"UCG\", \"AGU\", \"AGC\"],\n",
    "    \"P\": [\"CCU\", \"CCC\", \"CCA\", \"CCG\"],\n",
    "    \"T\": [\"ACU\", \"ACC\", \"ACA\", \"ACG\"],\n",
    "    \"A\": [\"GCU\", \"GCC\", \"GCA\", \"GCG\"],\n",
    "    \"Y\": [\"UAU\", \"UAC\"],\n",
    "    \"STOP\": [\"UAA\", \"UAG\", \"UGA\"],\n",
    "    \"H\": [\"CAU\", \"CAC\"],\n",
    "    \"Q\": [\"CAA\", \"CAG\"],\n",
    "    \"N\": [\"AAU\", \"AAC\"],\n",
    "    \"K\": [\"AAA\", \"AAG\"],\n",
    "    \"D\": [\"GAU\", \"GAC\"],\n",
    "    \"E\": [\"GAA\", \"GAG\"],\n",
    "    \"C\": [\"UGU\", \"UGC\"],\n",
    "    \"W\": [\"UGG\"],\n",
    "    \"R\": [\"CGU\", \"CGC\", \"CGA\", \"CGG\", \"AGA\", \"AGG\"],\n",
    "    \"G\": [\"GGU\", \"GGC\", \"GGA\", \"GGG\"]\n",
    "}\n",
    "\n",
    "# Start by creating a new dictionary where the codons are the keys\n",
    "forward_codon_table = {} # This creates an empty dictionary\n",
    "\n",
    "# Use iteration to create the opposite table: Codons to Amino Acids\n",
    "for amino_acid in amino_acid_to_codon_table:\n",
    "    for codon in amino_acid_to_codon_table[amino_acid]:\n",
    "        forward_codon_table[codon] = amino_acid\n",
    "\n",
    "def convert_mrna_to_codons(mrna):\n",
    "    \"\"\"Convert mRNA into a list of codons.\n",
    "    \n",
    "    Parameters\n",
    "    ----------\n",
    "    mrna : str\n",
    "        A string representing an mRNA sequence, as a\n",
    "        sequence of uppercase letters.\n",
    "\n",
    "    Returns\n",
    "    -------\n",
    "    list of str\n",
    "        List of three-letter codons, starting with\n",
    "        the start codon (AUG).\n",
    "    \"\"\"\n",
    "\n",
    "    # Create an empty codon list\n",
    "    my_codons = []\n",
    "    \n",
    "    # Find the start codon\n",
    "    start_codon_index = my_rna.find(\"AUG\")\n",
    "    \n",
    "    # Iterate over the string\n",
    "    for i in range(start_codon_index, len(my_rna) - 2, 3):\n",
    "        # Get the codon...\n",
    "        new_codon = my_rna[i: i + 3]\n",
    "    \n",
    "        # Add codon to list\n",
    "        my_codons.append(new_codon)\n",
    "\n",
    "    # Return the list of codons\n",
    "    return my_codons\n",
    "    \n",
    "\n",
    "def translate(mrna):\n",
    "    \"\"\"Translate mRNA to a peptide sequence.\n",
    "    \n",
    "    Parameters\n",
    "    ----------\n",
    "    mrna : str\n",
    "        A string representing an mRNA sequence, as a\n",
    "        sequence of uppercase letters.\n",
    "\n",
    "    Returns\n",
    "    -------\n",
    "    str\n",
    "        A peptide sequence, as a string of uppercase\n",
    "        single letter codes.\n",
    "    \"\"\"\n",
    "\n",
    "    my_codons = convert_mrna_to_codons(mrna)\n",
    "    \n",
    "    my_protein = \"\"\n",
    "    \n",
    "    for codon in my_codons:\n",
    "        # Get the corresponding amino acid for the codon\n",
    "        new_amino_acid = forward_codon_table[codon]\n",
    "        \n",
    "        # Check if it is the stop codon\n",
    "        if new_amino_acid == \"STOP\":\n",
    "            break # End the loop\n",
    "    \n",
    "        # Add the new amino acid to the protein\n",
    "        my_protein += new_amino_acid\n",
    "\n",
    "    return my_protein"
   ]
  },
  {
   "cell_type": "markdown",
   "metadata": {},
   "source": [
    "And now for the testing..."
   ]
  },
  {
   "cell_type": "code",
   "execution_count": 105,
   "metadata": {
    "execution": {
     "iopub.execute_input": "2025-02-11T02:11:15.386919Z",
     "iopub.status.busy": "2025-02-11T02:11:15.386803Z",
     "iopub.status.idle": "2025-02-11T02:11:15.389223Z",
     "shell.execute_reply": "2025-02-11T02:11:15.388930Z",
     "shell.execute_reply.started": "2025-02-11T02:11:15.386909Z"
    }
   },
   "outputs": [
    {
     "name": "stdout",
     "output_type": "stream",
     "text": [
      "MTESVSLRLRTGH\n"
     ]
    }
   ],
   "source": [
    "my_sequence = \"AGCAGATGCATTAGCCATTAGTTTGCACCAGTATATGCAGAGTTTAGGAGACCATAATTAACGAGAGCCGATAGCTAGA\"\n",
    "\n",
    "my_mrna = transcribe(my_sequence)\n",
    "my_peptide = translate(my_mrna)\n",
    "\n",
    "print(my_peptide)"
   ]
  },
  {
   "cell_type": "markdown",
   "metadata": {},
   "source": [
    "## Module Summary\n",
    "\n",
    "In this module, we've explored **functions**. Specifically, we've seen:\n",
    "\n",
    "* What functions are and how to **call** them.\n",
    "* How to **define new functions**, which take in **parameters** and **return** results.\n",
    "* How to **document** functions using **docstrings** to make them easier to understand and reuse.\n",
    "\n",
    "Now, let's take a look at our exercise!"
   ]
  },
  {
   "cell_type": "markdown",
   "metadata": {},
   "source": [
    "# Module 4 - Where to Go From Here\n",
    "\n",
    "We're just about at the end of our workshop! Over the course of these few hours, we've seen the basics of variables and numbers, Booleans and strings, as well as more complicated collection types. We've also seen how to package up our code into functions to have repeatable units of behaviour.\n",
    "\n",
    "So... what comes next?\n",
    "\n",
    "## What to Learn Next? How?\n",
    "\n",
    "What great questions? Well, there are still a bunch of topics that I didn't cover today.\n",
    "\n",
    "We saw functions today. Functions are great and fun. You can write so much stuff... but what if you don't want to reinvent the wheel and rewrite everything from scratch?\n",
    "\n",
    "Good news! You don't have to! With Python, it's very easy to install **packages** and import code from **modules**.\n",
    "\n",
    "These topics will be covered in my upcoming workshop **Data Processing in Python (Part 2)**.\n",
    "\n",
    "How can you learn about other Python topics? There are plenty of resources out there. Keep your eyes open for other workshops! And check online for tutorials and videos. I'll talk a bit more about these soon.\n",
    "\n",
    "## How to Get Help and How NOT to Get Help?\n",
    "\n",
    "This section is based on the corresponding sections in two of my previous workshops (see [Intro to Python - Summer 2024](https://github.com/bzrudski/micm_intro_to_python_summer_2024) and [Intermediate Python - Summer 2024](https://github.com/bzrudski/micm_intermediate_python_summer_2024)).\n",
    "\n",
    "When writing code, there are a bunch of resources that can help you!\n",
    "\n",
    "### Your Code Editor\n",
    "\n",
    "Yes! That's write! The software you're using to write code can give you lots of help. It can suggest completions and tell when there are errors and even help you reformat your files and restructure your code. So, please, please, please, **DO NOT** write your code in a simple text editor that has not additional features. And ***PLEASE*** don't use a word processing software. Use software that is made for coding!\n",
    "\n",
    "### Documentation\n",
    "\n",
    "I mentioned this one earlier. Documentation isn't just something that you should do. Big established projects have big documentation. Take a look at their guides for getting started. For example, [Pandas](https://pandas.pydata.org/) has a [10 minutes to pandas](https://pandas.pydata.org/docs/user_guide/10min.html) tutorial. Other packages, like [NumPy](https://numpy.org) and [Matplotlib](https://matplotlib.org) have very thorough guides and/or examples. Use these resources! If you want to learn how to use a function, **look it up** and read the paragraph about it. It will tell you how to use the arguments, any quirks to expect, and in some cases it will give you references about the papers behind the function. This is especially true in image processing and other fields that rely heavily on algorithms. So, the documentation will tell you not only how to use the code, but also **where it comes from**. And make sure to check out the Official Python docs at https://docs.python.org/3/.\n",
    "\n",
    "### Books\n",
    "\n",
    "Books, books, books! There are tons! And tons of books out there! For example, there are a couple of general books that are free online:\n",
    "* *Think Python 2e* by Allen B. Downey (FREE book): https://greenteapress.com/wp/think-python-2e/\n",
    "* *Data Structures and Information Retrieval in Python* also by Allen B. Downey (FREE book): https://greenteapress.com/wp/data-structures-and-information-retrieval-in-python/\n",
    "* *Introduction to Python Programming* by Udayan Das et al., published by OpenStax: https://openstax.org/details/books/introduction-python-programming\n",
    "* *The Hitchhiker's Guide to Python* by Kenneth Reitz and Tanya Schlusser: https://docs.python-guide.org/\n",
    "\n",
    "There are also books online about more specialised topics, such as:\n",
    "\n",
    "* Package development: *Python Packages* by Tomas Beuzen and Tiffany Timbers -- https://py-pkgs.org/\n",
    "* Data science:\n",
    "    * *Python for Data Analysis, 3E* by Wes McKinney -- https://wesmckinney.com/book/\n",
    "    * *Python Data Science Handbook* by Jake VanderPlas -- https://jakevdp.github.io/PythonDataScienceHandbook/\n",
    "\n",
    "Another book that covers software development for research more generally, including more emphasis on the tools used is:\n",
    "\n",
    "* *Research Software Engineering with Python* by Damien Irving, et al.: https://third-bit.com/py-rse/index.html\n",
    "\n",
    "Through the databases at the McGill Library, we also have access to lots of books **for free**. Check out the library's online catalogue to see more.\n",
    "\n",
    "### Tutorials\n",
    "\n",
    "Tutorials are also great! And very much abundant! From more formal ones on sites like [freeCodeCamp](https://www.freecodecamp.org/) and [W3Schools](https://www.w3schools.com/python/default.asp) to less formal ones on [DEV](https://dev.to/), you can get lots of insight from these. There are also lots posted on Medium that you can check out. In addition to text-based tutorials, there are also videos on YouTube. And don't forget the official tutorials in the documentation! Tutorials are a very valuable resource that can help you see how to put pieces of code together in real-world examples.\n",
    "\n",
    "### Stack Overflow (and Pitfalls)\n",
    "\n",
    "If you have a Python question, chances are that someone, somewhere has asked it on [Stack Overflow](https://stackoverflow.com/). Stack Overflow is a **great** resource for finding answers to real questions about programming. **But** make sure that you're using it properly. Try the other resources before going to Stack Overflow. The answer may turn out to be on the documentation page for the function you're looking for. If there's a link to the docs in a Stack Overflow answer, **use it**. Check out in more detail. Make sure that you understand the code that you're about to add to your project and don't just copy-paste it. Coding is a thinking game. Make sure that you have thought about all the code that you're putting in and that you understand why it's there. And use your judgement and intuition when borrowing that code. If it looks sketchy, it could very well be sketchy and there may be a better way.\n",
    "\n",
    "### ChatGPT (and Pitfalls)\n",
    "\n",
    "Everything I said above about Stack Overflow. And more. Answers on Stack Overflow are written by humans who have written the code, tested it, and run the results. Be careful when using ChatGPT for code (if you're allowed to at all). Make extra sure that it makes sense, and test it. Don't just trust it because AI wrote it for you. You need to make extra sure that it actually makes sense and runs properly, because you don't have that same guarantee that a human has used this exact code in their own experience. Use your coding judgement and intuition.\n",
    "\n",
    "Again, ALWAYS remember to **read the documentation**. Often, if you're stuck, the answer is **right there**. If it's not, then it's probably on Stack Overflow. It's often a good idea to check the documentation **first** to see if there's an official explanation or an official example. And don't just copy a Stack Overflow answer or sample code. Think about what the code is doing. Does it make sense? Is there a better way? Try to look line by line to understand what is going on (play around in the IPython interpreter or in a Jupyter notebook!).\n",
    "\n",
    "## Other Cool Programming Topics\n",
    "\n",
    "So, I talked a bit about functions and classes, but there's much more that you can look into to help build your programming skills and write code that others will want to use.\n",
    "\n",
    "### Writing Packages\n",
    "\n",
    "We've seen how to install and use packages. But, you can also **write your own packages**. There are many great resources online about writing packages. The one that I most recommend is [this free online book](https://py-pkgs.org/): *Python Packages* by Tomas Beuszen and Tiffany Timbers. It's an easy read and helps you learn not only how to organise your code, but how to publish it, too. The authors also walk through how to render your own nice-looking documentation and host that online.\n",
    "\n",
    "### Object-Oriented Programming\n",
    "\n",
    "Writing code with loops and control flow is fun, but it's even better when we can combine everything into functions and classes and work in an **object-oriented** manner. This paradigm helps you organise your code differently, constructing building blocks that can work together to build elaborate programs.\n",
    "\n",
    "### Developing Graphical User Interfaces\n",
    "\n",
    "Jupyter notebooks and command line scripts are powerful, but they aren't accessible for people who don't know how to code. Solution: build a graphical user interface! Using PyQt, the process is quite straightforward. Check out [this online tutorial series](https://www.pythonguis.com/) by Martin Fitzpatrick to learn about developing GUIs in Python.\n",
    "\n",
    "### Hosting Projects on GitHub\n",
    "\n",
    "What fun is a project if other people can't use it? By hosting your project on GitHub, you let others easily contribute to your project and build on it. Learning Git and GitHub are essential! And so are a few other skills along the way, like writing documents in Markdown. MiCM often has Git and GitHub workshops, so check out their workshop schedule!\n",
    "\n",
    "## The End\n",
    "\n",
    "We've reached the end of our workshop! For those of you who have previous programming experience, congratulations on adding another language to your repertoire. For those of you who are new, welcome to the world of programming! Just remember, programming is like art: you start with an empty text file and soon enough, you have hundreds (or thousands) of lines of code!\n",
    "\n",
    "Don't hesitate to reach out if you have any further questions. Happy coding!"
   ]
  },
  {
   "cell_type": "code",
   "execution_count": 106,
   "metadata": {
    "execution": {
     "iopub.execute_input": "2025-02-11T02:11:15.389704Z",
     "iopub.status.busy": "2025-02-11T02:11:15.389615Z",
     "iopub.status.idle": "2025-02-11T02:11:19.927944Z",
     "shell.execute_reply": "2025-02-11T02:11:19.927353Z",
     "shell.execute_reply.started": "2025-02-11T02:11:15.389694Z"
    }
   },
   "outputs": [
    {
     "name": "stdout",
     "output_type": "stream",
     "text": [
      "Good luck with your programming future! 🎉\n"
     ]
    }
   ],
   "source": [
    "from time import sleep\n",
    "\n",
    "\n",
    "print(\"Good luck with your programming future!\", end=\" \")\n",
    "\n",
    "i = 1\n",
    "s = \"/-\\\\|\"\n",
    "\n",
    "print(s[0], end=\"\")\n",
    "\n",
    "while i < 10:\n",
    "    print(\"\\b\" + s[i % len(s)], end=\"\")\n",
    "    i += 1\n",
    "    sleep(0.5)\n",
    "\n",
    "print(\"\\b🎉\")"
   ]
  },
  {
   "cell_type": "code",
   "execution_count": null,
   "metadata": {},
   "outputs": [],
   "source": []
  }
 ],
 "metadata": {
  "kernelspec": {
   "display_name": "Python 3 (ipykernel)",
   "language": "python",
   "name": "python3"
  },
  "language_info": {
   "codemirror_mode": {
    "name": "ipython",
    "version": 3
   },
   "file_extension": ".py",
   "mimetype": "text/x-python",
   "name": "python",
   "nbconvert_exporter": "python",
   "pygments_lexer": "ipython3",
   "version": "3.12.2"
  },
  "vscode": {
   "interpreter": {
    "hash": "13c98b8d613a5abad5ec2eff704454d0e7a49a4b350426332a70c2ad354463af"
   }
  }
 },
 "nbformat": 4,
 "nbformat_minor": 4
}
